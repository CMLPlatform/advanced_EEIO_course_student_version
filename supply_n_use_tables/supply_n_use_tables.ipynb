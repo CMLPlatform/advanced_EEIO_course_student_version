{
 "cells": [
  {
   "cell_type": "markdown",
   "metadata": {
    "slideshow": {
     "slide_type": "slide"
    }
   },
   "source": [
    "# Practical 2: Supply and use tables\n",
    "\n",
    "## Learning objectives\n",
    "- Calculate product outputs in different valuations\n",
    "- Understand the structure of supply tables in practice\n",
    "- Distinguish valuations and types of productions"
   ]
  },
  {
   "cell_type": "code",
   "execution_count": 1,
   "metadata": {
    "slideshow": {
     "slide_type": "slide"
    }
   },
   "outputs": [],
   "source": [
    "# import modules\n",
    "import pandas as pd\n",
    "\n",
    "# Import data\n",
    "supply_ = pd.read_excel(\"data/modified_supply_basic_price_AT_OECD_2015.xlsx\", engine=\"openpyxl\", skipfooter=3)"
   ]
  },
  {
   "cell_type": "code",
   "execution_count": 3,
   "metadata": {
    "slideshow": {
     "slide_type": "slide"
    }
   },
   "outputs": [],
   "source": [
    "# organize you row and column labels\n",
    "supply_col_lb = supply_.iloc[9,7:].to_list()\n",
    "supply_row_lb = supply_.iloc[11:, 2].to_list()"
   ]
  },
  {
   "cell_type": "code",
   "execution_count": 4,
   "metadata": {
    "slideshow": {
     "slide_type": "fragment"
    }
   },
   "outputs": [],
   "source": [
    "# isolate array with only values\n",
    "supply = supply_.iloc[11:, 7:]"
   ]
  },
  {
   "cell_type": "code",
   "execution_count": 5,
   "metadata": {
    "slideshow": {
     "slide_type": "fragment"
    }
   },
   "outputs": [],
   "source": [
    "# assign clean labels to columns and row\n",
    "supply.columns = supply_col_lb\n",
    "supply.index = supply_row_lb"
   ]
  },
  {
   "cell_type": "markdown",
   "metadata": {
    "slideshow": {
     "slide_type": "slide"
    }
   },
   "source": [
    "## Exercise 1\n",
    "\n",
    "1. Look at the product list and select two products"
   ]
  },
  {
   "cell_type": "code",
   "execution_count": 6,
   "metadata": {
    "slideshow": {
     "slide_type": "slide"
    }
   },
   "outputs": [
    {
     "name": "stdout",
     "output_type": "stream",
     "text": [
      "Index(['Products of agriculture, hunting and related services',\n",
      "       'Products of forestry, logging and related services',\n",
      "       'Fish & other fishing products, aquaculture prod., support serv. to fishing',\n",
      "       'Mining and quarrying', 'Food, beverages and tobacco products',\n",
      "       'Textiles, wearing apparel, leather and related products',\n",
      "       'Wood & prod. of wood & cork, exc. furniture, of straw & plaiting materials',\n",
      "       'Paper and paper products', 'Printing and recording services',\n",
      "       'Coke and refined petroleum products',\n",
      "       'Chemicals and chemical products',\n",
      "       'Basic pharmaceutical products and pharmaceutical preparations',\n",
      "       'Rubber and plastic products', 'Other non-metallic mineral products',\n",
      "       'Basic metals',\n",
      "       'Fabricated metal products, except machinery and equipment',\n",
      "       'Computer, electronic and optical products', 'Electrical equipment',\n",
      "       'Machinery and equipment n.e.c.',\n",
      "       'Motor vehicles, trailers and semi-trailers',\n",
      "       'Other transport equipment', 'Furniture and other manufactured goods',\n",
      "       'Repair and installation services of machinery and equipment',\n",
      "       'Electricity, gas, steam and air conditioning',\n",
      "       'Natural water, water treatment and supply services',\n",
      "       'Sewerage services, sewage sludge, waste collection & management serv.',\n",
      "       'Constructions and construction works',\n",
      "       'Wholesale and retail trade and repair serv. of motor vehicles & motorcycles',\n",
      "       'Wholesale trade services, except of motor vehicles and motorcycles',\n",
      "       'Retail trade services, except of motor vehicles and motorcycles',\n",
      "       'Land transport services and transport services via pipelines',\n",
      "       'Water transport services', 'Air transport services',\n",
      "       'Warehousing and support services for transportation',\n",
      "       'Postal and courier services', 'Accommodation and food services',\n",
      "       'Publishing services', 'Audiovisual and broadcasting services',\n",
      "       'Telecommunications services',\n",
      "       'Computer programming, consultancy and related serv., Information serv.',\n",
      "       'Financial services, except insurance and pension funding',\n",
      "       'Insurance, reinsurance & pension funding services, exc. compulsory S.S.',\n",
      "       'Services auxiliary to financial services and insurance services',\n",
      "       'Imputed rents of owner-occupied dwellings',\n",
      "       'Real estate services excluding imputed rents',\n",
      "       'Legal, accounting, head offices services, management consultancy serv.',\n",
      "       'Architectural and engineering services, tech. testing & analysis services',\n",
      "       'Scientific research and development services',\n",
      "       'Advertising and market research services',\n",
      "       'Other professional, scientific and tech. services and veterinary services',\n",
      "       'Rental and leasing services', 'Employment services',\n",
      "       'Travel agency, tour operator & other reservation services & related serv.',\n",
      "       'Security & investigation serv., serv. to buildings & other business support',\n",
      "       'Public administration and defence services, compulsory S.S. services',\n",
      "       'Education services', 'Human health services',\n",
      "       'Residential care services, social work services without accommodation',\n",
      "       'Creative, arts, entmnt, library, museum, other cult. serv., gambling serv.',\n",
      "       'Sporting services and amusement and recreation services',\n",
      "       'Services furnished by membership organisations',\n",
      "       'Repair services of computers and personal and household goods',\n",
      "       'Other personal services',\n",
      "       'Services of HH as employers, undifferentiated G&S prod. by HH for own use',\n",
      "       'Services provided by extraterritorial organisations and bodies'],\n",
      "      dtype='object')\n"
     ]
    }
   ],
   "source": [
    "# Print list of products (i.e., index of your table)\n",
    "print(supply.index)"
   ]
  },
  {
   "cell_type": "code",
   "execution_count": 7,
   "metadata": {
    "slideshow": {
     "slide_type": "slide"
    }
   },
   "outputs": [],
   "source": [
    "# Select two products\n",
    "products = [\"Electrical equipment\", \"Chemicals and chemical products\"]"
   ]
  },
  {
   "cell_type": "markdown",
   "metadata": {
    "slideshow": {
     "slide_type": "slide"
    }
   },
   "source": [
    "2. Can you quantify their total supply, import, and which industries supply them?"
   ]
  },
  {
   "cell_type": "code",
   "execution_count": 8,
   "metadata": {
    "slideshow": {
     "slide_type": "fragment"
    }
   },
   "outputs": [],
   "source": [
    "# Slice your data\n",
    "p_1_supply = supply.loc[products[0],:]\n",
    "p_2_supply = supply.loc[products[1],:]\n"
   ]
  },
  {
   "cell_type": "code",
   "execution_count": 9,
   "metadata": {
    "slideshow": {
     "slide_type": "slide"
    }
   },
   "outputs": [],
   "source": [
    "# Isolate non zero values and drop NaN values\n",
    "p_1_supply = p_1_supply[p_1_supply != 0].dropna()\n",
    "p_2_supply = p_2_supply[p_2_supply != 0].dropna()"
   ]
  },
  {
   "cell_type": "code",
   "execution_count": 10,
   "metadata": {
    "slideshow": {
     "slide_type": "slide"
    }
   },
   "outputs": [
    {
     "name": "stdout",
     "output_type": "stream",
     "text": [
      "Electrical equipment:\n",
      "\n",
      "Printing and reproduction of recorded media                                   0.47\n",
      "Manufacture of chemicals and chemical products                               3.163\n",
      "Manufacture of rubber and plastics products                                  9.633\n",
      "Manufacture of other non-metallic mineral products                           0.643\n",
      "Manufacture of basic metals                                                 29.742\n",
      "Manufacture of fabricated metal products, except machinery & equipment       17.21\n",
      "Manufacture of computer, electronic and optical products                    90.671\n",
      "Manufacture of electrical equipment                                       7208.328\n",
      "Manufacture of machinery and equipment n.e.c.                              122.559\n",
      "Manufacture of motor vehicles, trailers and semi-trailers                  249.244\n",
      "Manufacture of other transport equipment                                    28.114\n",
      "Repair and installation of machinery and equipment                         519.669\n",
      "Electricity, gas, steam and air conditioning supply                          2.972\n",
      "Construction                                                                 16.23\n",
      "Wholesale trade, except of motor vehicles and motorcycles                    11.08\n",
      "Retail trade, except of motor vehicles and motorcycles                       7.408\n",
      "Imports, cif                                                              7274.975\n",
      "Trade and transport margins                                                2232.33\n",
      "Taxes less subsidies on products                                           435.334\n",
      "Name: Electrical equipment, dtype: object\n",
      "\n",
      "Chemicals and chemical products:\n",
      "\n",
      "Mining and quarrying                                                          1.046\n",
      "Manufacture of food products, beverages and tobacco products                140.118\n",
      "Manufacture of paper and paper products                                       9.415\n",
      "Manufacture of coke and refined petroleum products                          801.137\n",
      "Manufacture of chemicals and chemical products                            11987.854\n",
      "Manufacture of basic pharmaceutical products and preparations                21.053\n",
      "Manufacture of rubber and plastics products                                   7.698\n",
      "Manufacture of other non-metallic mineral products                            2.575\n",
      "Manufacture of basic metals                                                 224.235\n",
      "Manufacture of fabricated metal products, except machinery & equipment        0.056\n",
      "Manufacture of computer, electronic and optical products                      0.778\n",
      "Manufacture of machinery and equipment n.e.c.                                 3.713\n",
      "Manufacture of motor vehicles, trailers and semi-trailers                     5.478\n",
      "Manufacture of furniture, other manufacturing                                 3.494\n",
      "Electricity, gas, steam and air conditioning supply                           0.988\n",
      "Sewerage, waste collection and management services                             1.27\n",
      "Construction                                                                  3.957\n",
      "Wholesale trade, except of motor vehicles and motorcycles                    67.296\n",
      "Other personal service activities                                              0.91\n",
      "Imports, cif                                                              13066.683\n",
      "Trade and transport margins                                                3641.227\n",
      "Taxes less subsidies on products                                            655.423\n",
      "Name: Chemicals and chemical products, dtype: object\n"
     ]
    }
   ],
   "source": [
    "# Print results\n",
    "print(f\"{products[0]}:\\n\\n{p_1_supply}\\n\\n{products[1]}:\\n\\n{p_2_supply}\")"
   ]
  },
  {
   "cell_type": "markdown",
   "metadata": {
    "slideshow": {
     "slide_type": "slide"
    }
   },
   "source": [
    "3. What is the total product output at basic price and at purchaser price?\n",
    "\n",
    "    N.b. in the Supply and Use table Non-Deductible VAT is included in the Taxes less subsidies on products (see also page 86 Eurostat Manual of Supply, Use and Input-Output Tables)\n",
    "\n",
    "Tip: in the file \"modified_supply_basic_price_AT_OECD_2015.xlsx\" you can check whether the calculations are right in the columns \"Total supply at purchasers' prices\" and \"Total supply at basic prices\""
   ]
  },
  {
   "cell_type": "code",
   "execution_count": 11,
   "metadata": {
    "slideshow": {
     "slide_type": "slide"
    }
   },
   "outputs": [],
   "source": [
    "# Total supply at basic and purchaser prices for product 1\n",
    "p_1_basic_price = p_1_supply.loc[:\"Imports, cif\"].sum()\n",
    "\n",
    "p_1_taxes_less_subsidies = p_1_supply.loc[\"Taxes less subsidies on products\"]\n",
    "p_1_trade_n_transport_margins = p_1_supply.loc[\"Trade and transport margins\"]\n",
    "\n",
    "p_1_purchaser_price = p_1_basic_price + p_1_taxes_less_subsidies + p_1_trade_n_transport_margins\n"
   ]
  },
  {
   "cell_type": "code",
   "execution_count": 12,
   "metadata": {
    "slideshow": {
     "slide_type": "slide"
    }
   },
   "outputs": [],
   "source": [
    "# Total supply at basic and purchaser prices for product 2\n",
    "p_2_basic_price = p_2_supply.loc[:\"Imports, cif\"].sum()\n",
    "\n",
    "p_2_taxes_less_subsidies = p_2_supply.loc[\"Taxes less subsidies on products\"]\n",
    "p_2_trade_n_transport_margins = p_2_supply.loc[\"Trade and transport margins\"]\n",
    "\n",
    "p_2_purchaser_price = (\n",
    "    p_2_basic_price + p_2_taxes_less_subsidies + p_2_trade_n_transport_margins\n",
    ")"
   ]
  },
  {
   "cell_type": "code",
   "execution_count": 13,
   "metadata": {
    "slideshow": {
     "slide_type": "slide"
    }
   },
   "outputs": [
    {
     "name": "stdout",
     "output_type": "stream",
     "text": [
      "Electrical equipment: \n",
      "\tBasic price: 15592.110999999999\n",
      "\tPurchaser price: 18259.775\n",
      "Chemicals and chemical products: \n",
      "\tBasic price: 26349.754\n",
      "\tPurchaser price: 30646.404\n"
     ]
    }
   ],
   "source": [
    "# basic and purchase prices for product 1\n",
    "print(\n",
    "    f\"{products[0]}: \\n\\tBasic price: {p_1_basic_price}\\n\\tPurchaser price: {p_1_purchaser_price}\"\n",
    ")\n",
    "\n",
    "# basic and purchase prices for product 2\n",
    "print(\n",
    "    f\"{products[1]}: \\n\\tBasic price: {p_2_basic_price}\\n\\tPurchaser price: {p_2_purchaser_price}\"\n",
    ")"
   ]
  },
  {
   "cell_type": "markdown",
   "metadata": {
    "slideshow": {
     "slide_type": "slide"
    }
   },
   "source": [
    "## Exercise 2\n",
    "1. Look at the list of industries (i.e., columns of the supply table) and select two industries"
   ]
  },
  {
   "cell_type": "code",
   "execution_count": 8,
   "metadata": {
    "slideshow": {
     "slide_type": "slide"
    }
   },
   "outputs": [
    {
     "name": "stdout",
     "output_type": "stream",
     "text": [
      "Index(['Crop and animal production, hunting and related service activities',\n",
      "       'Forestry and logging', 'Fishing and aquaculture',\n",
      "       'Mining and quarrying',\n",
      "       'Manufacture of food products, beverages and tobacco products',\n",
      "       'Manufacture of textiles, wearing apparel, leather and related products',\n",
      "       'Manufacture of wood and of products of wood and cork,etc.',\n",
      "       'Manufacture of paper and paper products',\n",
      "       'Printing and reproduction of recorded media',\n",
      "       'Manufacture of coke and refined petroleum products',\n",
      "       'Manufacture of chemicals and chemical products',\n",
      "       'Manufacture of basic pharmaceutical products and preparations',\n",
      "       'Manufacture of rubber and plastics products',\n",
      "       'Manufacture of other non-metallic mineral products',\n",
      "       'Manufacture of basic metals',\n",
      "       'Manufacture of fabricated metal products, except machinery & equipment',\n",
      "       'Manufacture of computer, electronic and optical products',\n",
      "       'Manufacture of electrical equipment',\n",
      "       'Manufacture of machinery and equipment n.e.c.',\n",
      "       'Manufacture of motor vehicles, trailers and semi-trailers',\n",
      "       'Manufacture of other transport equipment',\n",
      "       'Manufacture of furniture, other manufacturing',\n",
      "       'Repair and installation of machinery and equipment',\n",
      "       'Electricity, gas, steam and air conditioning supply',\n",
      "       'Water collection, treatment and supply',\n",
      "       'Sewerage, waste collection and management services', 'Construction',\n",
      "       'Wholesale and retail trade and repair of motor vehicles and motorcycles',\n",
      "       'Wholesale trade, except of motor vehicles and motorcycles',\n",
      "       'Retail trade, except of motor vehicles and motorcycles',\n",
      "       'Land transport and transport via pipelines', 'Water transport',\n",
      "       'Air transport',\n",
      "       'Warehousing and support activities for transportation',\n",
      "       'Postal and courier activities',\n",
      "       'Accommodation and food service activities', 'Publishing activities',\n",
      "       'Audiovisual and broadcasting activities', 'Telecommunications',\n",
      "       'IT and other information services',\n",
      "       'Financial service activities, except insurance and pension funding',\n",
      "       'Insurance, reinsurance and pension funding, except compulsory S.S.',\n",
      "       'Activities auxiliary to financial service and insurance activities',\n",
      "       'Imputed rents of owner-occupied dwellings',\n",
      "       'Real estate activities excluding imputed rents',\n",
      "       'Legal, accounting, head offices, management consultancy activities',\n",
      "       'Architectural and engineering activ., technical testing and analysis',\n",
      "       'Scientific research and development',\n",
      "       'Advertising and market research',\n",
      "       'Other professional, scientific and tech. activities, veterinary activ.',\n",
      "       'Rental and leasing activities', 'Employment activities',\n",
      "       'Travel agency, tour operator, reservation service & related activities',\n",
      "       'Security, services to buildings and other business support activities',\n",
      "       'Public administration and defence, compulsory social security',\n",
      "       'Education', 'Human health activities',\n",
      "       'Residential care and social work activities',\n",
      "       'Arts, cultural activities, gambling and betting activities',\n",
      "       'Sports activities and amusement and recreation activities',\n",
      "       'Activities of membership organizations',\n",
      "       'Repair of computers and personal and household goods',\n",
      "       'Other personal service activities',\n",
      "       'Act. of HH as employers, undif. G&S-producing activities of HH for own',\n",
      "       'Activities of extraterritorial organizations and bodies',\n",
      "       'Imports, cif', 'Direct purchases abroad by residents',\n",
      "       'cif/fob adjustment on imports', 'Trade and transport margins',\n",
      "       'Taxes less subsidies on products'],\n",
      "      dtype='object')\n"
     ]
    }
   ],
   "source": [
    "# Print list of industries (i.e., columns of your table)\n",
    "print(supply.columns)"
   ]
  },
  {
   "cell_type": "code",
   "execution_count": 15,
   "metadata": {
    "slideshow": {
     "slide_type": "slide"
    }
   },
   "outputs": [],
   "source": [
    "# Select two industries\n",
    "industries = ['Manufacture of coke and refined petroleum products', 'Repair and installation of machinery and equipment']"
   ]
  },
  {
   "cell_type": "markdown",
   "metadata": {
    "slideshow": {
     "slide_type": "slide"
    }
   },
   "source": [
    "2. Can you identify the main products and secondary products? "
   ]
  },
  {
   "cell_type": "code",
   "execution_count": 16,
   "metadata": {
    "slideshow": {
     "slide_type": "fragment"
    }
   },
   "outputs": [],
   "source": [
    "# Slice your data\n",
    "i_1_supply = supply.loc[:, industries[0]]\n",
    "i_2_supply = supply.loc[:, industries[1]]"
   ]
  },
  {
   "cell_type": "code",
   "execution_count": 17,
   "metadata": {
    "slideshow": {
     "slide_type": "slide"
    }
   },
   "outputs": [
    {
     "name": "stdout",
     "output_type": "stream",
     "text": [
      "Manufacture of coke and refined petroleum products:\n",
      "\n",
      "Coke and refined petroleum products                                          3250.968\n",
      "Chemicals and chemical products                                               801.137\n",
      "Legal, accounting, head offices services, management consultancy serv.        109.559\n",
      "Electricity, gas, steam and air conditioning                                    49.28\n",
      "Computer programming, consultancy and related serv., Information serv.         34.756\n",
      "Real estate services excluding imputed rents                                   25.273\n",
      "Warehousing and support services for transportation                            25.065\n",
      "Wholesale trade services, except of motor vehicles and motorcycles             16.605\n",
      "Advertising and market research services                                        9.104\n",
      "Scientific research and development services                                    6.663\n",
      "Repair and installation services of machinery and equipment                     2.937\n",
      "Constructions and construction works                                            0.994\n",
      "Architectural and engineering services, tech. testing & analysis services       0.692\n",
      "Retail trade services, except of motor vehicles and motorcycles                 0.218\n",
      "Name: Manufacture of coke and refined petroleum products, dtype: object\n",
      "\n",
      "Repair and installation of machinery and equipment:\n",
      "\n",
      "Repair and installation services of machinery and equipment                    4326.082\n",
      "Electrical equipment                                                            519.669\n",
      "Other transport equipment                                                       265.852\n",
      "Constructions and construction works                                            171.182\n",
      "Computer, electronic and optical products                                       143.779\n",
      "Machinery and equipment n.e.c.                                                  106.351\n",
      "Scientific research and development services                                     86.233\n",
      "Computer programming, consultancy and related serv., Information serv.           79.749\n",
      "Telecommunications services                                                      67.622\n",
      "Retail trade services, except of motor vehicles and motorcycles                  59.373\n",
      "Fabricated metal products, except machinery and equipment                        53.823\n",
      "Wholesale trade services, except of motor vehicles and motorcycles               50.582\n",
      "Rental and leasing services                                                      26.999\n",
      "Advertising and market research services                                         12.996\n",
      "Legal, accounting, head offices services, management consultancy serv.           12.781\n",
      "Wholesale and retail trade and repair serv. of motor vehicles & motorcycles      11.928\n",
      "Architectural and engineering services, tech. testing & analysis services         7.847\n",
      "Security & investigation serv., serv. to buildings & other business support       4.984\n",
      "Other professional, scientific and tech. services and veterinary services         4.736\n",
      "Basic metals                                                                      2.742\n",
      "Motor vehicles, trailers and semi-trailers                                        2.282\n",
      "Employment services                                                               1.767\n",
      "Repair services of computers and personal and household goods                     1.191\n",
      "Publishing services                                                               0.865\n",
      "Education services                                                                0.694\n",
      "Accommodation and food services                                                   0.643\n",
      "Real estate services excluding imputed rents                                      0.608\n",
      "Travel agency, tour operator & other reservation services & related serv.         0.393\n",
      "Wood & prod. of wood & cork, exc. furniture, of straw & plaiting materials        0.163\n",
      "Sewerage services, sewage sludge, waste collection & management serv.             0.077\n",
      "Warehousing and support services for transportation                               0.001\n",
      "Name: Repair and installation of machinery and equipment, dtype: object\n"
     ]
    }
   ],
   "source": [
    "# Isolate non zero values and sort them from biggest to smallest\n",
    "i_1_supply = i_1_supply[i_1_supply != 0].sort_values(ascending=False)\n",
    "i_2_supply = i_2_supply[i_2_supply != 0].sort_values(ascending=False)\n",
    "\n",
    "# Print results\n",
    "print(f\"{industries[0]}:\\n\\n{i_1_supply}\\n\\n{industries[1]}:\\n\\n{i_2_supply}\")"
   ]
  }
 ],
 "metadata": {
  "celltoolbar": "Slideshow",
  "kernelspec": {
   "display_name": "Python 3 (ipykernel)",
   "language": "python",
   "name": "python3"
  },
  "language_info": {
   "codemirror_mode": {
    "name": "ipython",
    "version": 3
   },
   "file_extension": ".py",
   "mimetype": "text/x-python",
   "name": "python",
   "nbconvert_exporter": "python",
   "pygments_lexer": "ipython3",
   "version": "3.9.16"
  },
  "vscode": {
   "interpreter": {
    "hash": "a0de1fb450ee5e26d734f0aa5b4c4b29e20575809e5e66472467df7627fd957d"
   }
  }
 },
 "nbformat": 4,
 "nbformat_minor": 4
}
