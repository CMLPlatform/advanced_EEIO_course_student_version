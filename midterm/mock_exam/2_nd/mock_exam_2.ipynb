{
 "cells": [
  {
   "cell_type": "markdown",
   "metadata": {
    "slideshow": {
     "slide_type": "slide"
    }
   },
   "source": [
    "# Mock mid-term exam\n",
    "\n",
    "The objectives of this mock mid-term exam are:\n",
    "- to gain acquaintance with the type of programming questions that you will be asked during the mid-term exam\n",
    "- Becoming more comfortable in performing Input-Output analysis calculations\n",
    "\n",
    "We are accounting that you will need around 100-120 minutes to complete the assignment\n",
    "\n",
    "Please ensure that you run each cell (ctrl+enter) so that your inputs are saved \n",
    "\n",
    "All questions have either coding cell or a text cell, or a combination of the two. \n",
    "\n",
    "You are allowed to create additional cells for each answer to facilitate your work  "
   ]
  },
  {
   "cell_type": "markdown",
   "metadata": {
    "slideshow": {
     "slide_type": "slide"
    }
   },
   "source": [
    "## Data preparation: Download and import exiobase data - year 2015, industry-by-industry format"
   ]
  },
  {
   "cell_type": "code",
   "execution_count": null,
   "metadata": {
    "slideshow": {
     "slide_type": "fragment"
    }
   },
   "outputs": [],
   "source": [
    "# Import modules\n"
   ]
  },
  {
   "cell_type": "code",
   "execution_count": null,
   "metadata": {
    "slideshow": {
     "slide_type": "subslide"
    }
   },
   "outputs": [],
   "source": [
    "# Import here your data"
   ]
  },
  {
   "cell_type": "markdown",
   "metadata": {
    "slideshow": {
     "slide_type": "slide"
    }
   },
   "source": [
    "## Question 1: Carbon footprint of the nations (18 points)"
   ]
  },
  {
   "cell_type": "markdown",
   "metadata": {
    "slideshow": {
     "slide_type": "fragment"
    }
   },
   "source": [
    "#### 1.1 What were the per capita carbon footprint of each of the 49 exiobase regions when considering only CO2 emissions in 2015? (8 points)"
   ]
  },
  {
   "cell_type": "code",
   "execution_count": null,
   "metadata": {
    "slideshow": {
     "slide_type": "subslide"
    }
   },
   "outputs": [],
   "source": [
    "# Import population data\n"
   ]
  },
  {
   "cell_type": "code",
   "execution_count": null,
   "metadata": {
    "slideshow": {
     "slide_type": "slide"
    }
   },
   "outputs": [],
   "source": [
    "# Peform the rest of your calculations"
   ]
  },
  {
   "cell_type": "markdown",
   "metadata": {
    "slideshow": {
     "slide_type": "slide"
    }
   },
   "source": [
    "Tip! \n",
    "\n",
    "by running the following\n",
    "\n",
    "F_sat_hh.index.str.contains(\"CO2\")\n",
    "\n",
    "You obtain a boolean array (i.e., an array of true and false values), where true is assigned to the position of all labels that contain \"CO2\" in them.\n",
    "\n",
    "This is the equivalent of creating a list of all the labels concerning CO2 emissions in the extension such as\n",
    "\n",
    "```\n",
    "['CO2 - combustion - air',\n",
    "'CO2 - non combustion - Cement production - air',\n",
    "'CO2 - non combustion - Lime production - air',\n",
    "'CO2 - agriculture - peat decay - air',\n",
    "'CO2 - waste - biogenic - air', 'CO2 - waste - fossil - air']\n",
    "```\n",
    "\n",
    "##### Explanation\n",
    "\n",
    "**F_sat_gg.index** returns all labels of your index\n",
    "\n",
    "**.str** allows to treat each entry of the index as a string\n",
    "\n",
    "**.contains()** is a method for strings that allows you check whether a string may contain another string  "
   ]
  },
  {
   "cell_type": "markdown",
   "metadata": {},
   "source": [
    "#### 1.2 What were the per capita carbon footprint in kg or tonne of CO2e (CO2 equivalent) of each of the 49 regions when considering CH4, N2O, and CO2? (6 points)\n",
    "Instruction: Please use 29.8 and 273 for GWP100 of CH4 and N2O, respectively."
   ]
  },
  {
   "cell_type": "markdown",
   "metadata": {},
   "source": [
    "#### 1.3 What is the proportion of CO2 emissions in CO2e in each region's carbon footprint measured in CO2e? (4 points)"
   ]
  },
  {
   "cell_type": "code",
   "execution_count": null,
   "metadata": {},
   "outputs": [],
   "source": []
  },
  {
   "cell_type": "markdown",
   "metadata": {},
   "source": [
    "Double click on this cell to write your answer. Run the cell (ctrl+enter) once you are done writing so that it saves your input"
   ]
  },
  {
   "cell_type": "markdown",
   "metadata": {},
   "source": [
    "## Question 2: Territorial emissions (6 points)"
   ]
  },
  {
   "cell_type": "markdown",
   "metadata": {},
   "source": [
    "#### 2.1 What were the per capita territorial emissions of the US and China, respectively, in 2015? Only consider CO2 emissions here. (6 points)"
   ]
  },
  {
   "cell_type": "code",
   "execution_count": null,
   "metadata": {},
   "outputs": [],
   "source": []
  },
  {
   "cell_type": "markdown",
   "metadata": {},
   "source": [
    "## Question 3: Emissions embodied in trade (20 points)"
   ]
  },
  {
   "cell_type": "markdown",
   "metadata": {},
   "source": [
    "#### 3.1 Were the US and China net importers or exporters of CO2 emissions in 2015? (4 points)"
   ]
  },
  {
   "cell_type": "code",
   "execution_count": null,
   "metadata": {},
   "outputs": [],
   "source": []
  },
  {
   "cell_type": "markdown",
   "metadata": {},
   "source": [
    "Double click on this cell to write your answer. Run the cell (ctrl+enter) once you are done writing so that it saves your input"
   ]
  },
  {
   "cell_type": "markdown",
   "metadata": {},
   "source": [
    "#### 3.2 Which were the top three regional contributers of US' and China's carbon footprints (only consider CO2 emissions), respectively, in 2015? (12 points)"
   ]
  },
  {
   "cell_type": "code",
   "execution_count": null,
   "metadata": {},
   "outputs": [],
   "source": []
  },
  {
   "cell_type": "markdown",
   "metadata": {},
   "source": [
    "#### 3.3 By conducting emissions embodied in trade calculations, how much CO2 emissions did the US outsourced to China in 2015? (4 points)"
   ]
  },
  {
   "cell_type": "code",
   "execution_count": null,
   "metadata": {},
   "outputs": [],
   "source": []
  },
  {
   "cell_type": "markdown",
   "metadata": {},
   "source": [
    "The net outsourcing of CO2 emissions by the US to China in 2015 was 338.8 Mt CO2"
   ]
  },
  {
   "cell_type": "markdown",
   "metadata": {},
   "source": [
    "## Question 4 Environmental vs Economic Footprints Analysis (16 points)"
   ]
  },
  {
   "cell_type": "markdown",
   "metadata": {},
   "source": [
    "#### 4.1 Using the \"impact\" accounts, what were the value added footprints of the US and China, respectively, in 2015? (8 points)"
   ]
  },
  {
   "cell_type": "code",
   "execution_count": null,
   "metadata": {},
   "outputs": [],
   "source": []
  },
  {
   "cell_type": "code",
   "execution_count": null,
   "metadata": {},
   "outputs": [],
   "source": []
  },
  {
   "cell_type": "markdown",
   "metadata": {},
   "source": [
    "#### 4.2 Make two main observations on the carbon vs value added footprint results regarding the relationships between the US and China? Please refer to the carbon footprint results obtained in Question 1 (8 points)"
   ]
  },
  {
   "cell_type": "markdown",
   "metadata": {},
   "source": [
    "Double click on this cell to write your answer. Run the cell (ctrl+enter) once you are done writing so that it saves your input"
   ]
  }
 ],
 "metadata": {
  "celltoolbar": "Slideshow",
  "kernelspec": {
   "display_name": "Python 3 (ipykernel)",
   "language": "python",
   "name": "python3"
  },
  "language_info": {
   "codemirror_mode": {
    "name": "ipython",
    "version": 3
   },
   "file_extension": ".py",
   "mimetype": "text/x-python",
   "name": "python",
   "nbconvert_exporter": "python",
   "pygments_lexer": "ipython3",
   "version": "3.9.16"
  }
 },
 "nbformat": 4,
 "nbformat_minor": 4
}
