{
 "cells": [
  {
   "cell_type": "markdown",
   "metadata": {
    "slideshow": {
     "slide_type": "slide"
    }
   },
   "source": [
    "# Mock mid-term exam\n",
    "\n",
    "The objectives of this mock mid-term exam are:\n",
    "- to gain acquaintance with the type of programming questions that you will be asked during the mid-term exam\n",
    "- Becoming more comfortable in performing Input-Output analysis calculations\n",
    "\n",
    "We are accounting that you will need around 100-120 minutes to complete the assignment\n",
    "\n",
    "Please ensure that you run each cell (ctrl+enter) so that your inputs are saved \n",
    "\n",
    "All questions have either coding cell or a text cell, or a combination of the two. \n",
    "\n",
    "You are allowed to create additional cells for each answer to facilitate your work  "
   ]
  },
  {
   "cell_type": "markdown",
   "metadata": {
    "slideshow": {
     "slide_type": "slide"
    }
   },
   "source": [
    "## Data preparation: Download and import exiobase data - year 2015, industry-by-industry format"
   ]
  },
  {
   "cell_type": "code",
   "execution_count": 1,
   "metadata": {
    "slideshow": {
     "slide_type": "fragment"
    }
   },
   "outputs": [],
   "source": [
    "# Import modules\n",
    "import pandas as pd\n",
    "import numpy as np\n",
    "import matplotlib.pyplot as plt"
   ]
  },
  {
   "cell_type": "code",
   "execution_count": 2,
   "metadata": {
    "slideshow": {
     "slide_type": "subslide"
    }
   },
   "outputs": [],
   "source": [
    "# Import here your data\n",
    "path = \"data/IOT_2015_ixi/\"\n",
    "A = pd.read_csv(f'{path}A.txt', sep='\\t', index_col=[0, 1], header=[0, 1])\n",
    "Y = pd.read_csv(f'{path}Y.txt' , sep='\\t', index_col=[0, 1], header=[0, 1])\n",
    "\n",
    "# Import satellite accounts\n",
    "F_sat = pd.read_csv(f'{path}satellite/F.txt' , sep='\\t', index_col=[0], header=[0, 1])\n",
    "F_sat_hh = pd.read_csv(f'{path}satellite/F_y.txt' , sep='\\t', index_col=[0], header=[0, 1])"
   ]
  },
  {
   "cell_type": "markdown",
   "metadata": {
    "slideshow": {
     "slide_type": "slide"
    }
   },
   "source": [
    "## Question 1: Carbon footprint of the nations (18 points)"
   ]
  },
  {
   "cell_type": "markdown",
   "metadata": {
    "slideshow": {
     "slide_type": "fragment"
    }
   },
   "source": [
    "#### 1.1 What were the per capita carbon footprint of each of the 49 exiobase regions when considering only CO2 emissions in 2015? (8 points)"
   ]
  },
  {
   "cell_type": "code",
   "execution_count": 3,
   "metadata": {
    "slideshow": {
     "slide_type": "subslide"
    }
   },
   "outputs": [],
   "source": [
    "# Import population data\n",
    "population = pd.read_excel('data/exiobase_PopulationGDP_1995_2019.xlsx',sheet_name='Population', index_col=[0, 1, 2])\n",
    "pop2015 = population.loc[:,\"y2015\"]"
   ]
  },
  {
   "cell_type": "code",
   "execution_count": 4,
   "metadata": {
    "slideshow": {
     "slide_type": "slide"
    }
   },
   "outputs": [],
   "source": [
    "# Calculate the rest of MRIO variables\n",
    "I = np.identity(A.shape[0])\n",
    "L = np.linalg.inv(I-A)\n",
    "x = L @ Y.sum(axis=1)"
   ]
  },
  {
   "cell_type": "code",
   "execution_count": 5,
   "metadata": {
    "slideshow": {
     "slide_type": "slide"
    }
   },
   "outputs": [],
   "source": [
    "x_ = x.copy()\n",
    "x_[x_!=0] = 1/x_[x_!=0]\n",
    "inv_diag_x_ = np.diag(x_)"
   ]
  },
  {
   "cell_type": "code",
   "execution_count": 6,
   "metadata": {
    "slideshow": {
     "slide_type": "fragment"
    }
   },
   "outputs": [],
   "source": [
    "# CO2 Extensions \n",
    "F_sat_CO2 = F_sat[F_sat.index.str.contains(\"CO2\")].sum(axis=0)\n",
    "F_sat_hh_CO2 = F_sat_hh[F_sat_hh.index.str.contains(\"CO2\")].sum(axis=0)"
   ]
  },
  {
   "cell_type": "code",
   "execution_count": 7,
   "metadata": {},
   "outputs": [
    {
     "data": {
      "text/html": [
       "<div>\n",
       "<style scoped>\n",
       "    .dataframe tbody tr th:only-of-type {\n",
       "        vertical-align: middle;\n",
       "    }\n",
       "\n",
       "    .dataframe tbody tr th {\n",
       "        vertical-align: top;\n",
       "    }\n",
       "\n",
       "    .dataframe thead tr th {\n",
       "        text-align: left;\n",
       "    }\n",
       "\n",
       "    .dataframe thead tr:last-of-type th {\n",
       "        text-align: right;\n",
       "    }\n",
       "</style>\n",
       "<table border=\"1\" class=\"dataframe\">\n",
       "  <thead>\n",
       "    <tr>\n",
       "      <th>region</th>\n",
       "      <th colspan=\"10\" halign=\"left\">AT</th>\n",
       "      <th>...</th>\n",
       "      <th colspan=\"10\" halign=\"left\">WM</th>\n",
       "    </tr>\n",
       "    <tr>\n",
       "      <th>sector</th>\n",
       "      <th>Cultivation of paddy rice</th>\n",
       "      <th>Cultivation of wheat</th>\n",
       "      <th>Cultivation of cereal grains nec</th>\n",
       "      <th>Cultivation of vegetables, fruit, nuts</th>\n",
       "      <th>Cultivation of oil seeds</th>\n",
       "      <th>Cultivation of sugar cane, sugar beet</th>\n",
       "      <th>Cultivation of plant-based fibers</th>\n",
       "      <th>Cultivation of crops nec</th>\n",
       "      <th>Cattle farming</th>\n",
       "      <th>Pigs farming</th>\n",
       "      <th>...</th>\n",
       "      <th>Landfill of waste: Paper</th>\n",
       "      <th>Landfill of waste: Plastic</th>\n",
       "      <th>Landfill of waste: Inert/metal/hazardous</th>\n",
       "      <th>Landfill of waste: Textiles</th>\n",
       "      <th>Landfill of waste: Wood</th>\n",
       "      <th>Activities of membership organisation n.e.c. (91)</th>\n",
       "      <th>Recreational, cultural and sporting activities (92)</th>\n",
       "      <th>Other service activities (93)</th>\n",
       "      <th>Private households with employed persons (95)</th>\n",
       "      <th>Extra-territorial organizations and bodies</th>\n",
       "    </tr>\n",
       "    <tr>\n",
       "      <th>stressor</th>\n",
       "      <th></th>\n",
       "      <th></th>\n",
       "      <th></th>\n",
       "      <th></th>\n",
       "      <th></th>\n",
       "      <th></th>\n",
       "      <th></th>\n",
       "      <th></th>\n",
       "      <th></th>\n",
       "      <th></th>\n",
       "      <th></th>\n",
       "      <th></th>\n",
       "      <th></th>\n",
       "      <th></th>\n",
       "      <th></th>\n",
       "      <th></th>\n",
       "      <th></th>\n",
       "      <th></th>\n",
       "      <th></th>\n",
       "      <th></th>\n",
       "      <th></th>\n",
       "    </tr>\n",
       "  </thead>\n",
       "  <tbody>\n",
       "    <tr>\n",
       "      <th>CO2 - combustion - air</th>\n",
       "      <td>0</td>\n",
       "      <td>2.116163e+08</td>\n",
       "      <td>2.080692e+08</td>\n",
       "      <td>8.642867e+07</td>\n",
       "      <td>3.803935e+07</td>\n",
       "      <td>1.183033e+07</td>\n",
       "      <td>11407.773651</td>\n",
       "      <td>1.550273e+06</td>\n",
       "      <td>1.311784e+08</td>\n",
       "      <td>6.049997e+07</td>\n",
       "      <td>...</td>\n",
       "      <td>1.959923e+07</td>\n",
       "      <td>1.136720e+07</td>\n",
       "      <td>2.062198e+07</td>\n",
       "      <td>6.773042e+06</td>\n",
       "      <td>9.136303e+06</td>\n",
       "      <td>1.940026e+08</td>\n",
       "      <td>4.679020e+08</td>\n",
       "      <td>3.349095e+08</td>\n",
       "      <td>6.326304e+07</td>\n",
       "      <td>0</td>\n",
       "    </tr>\n",
       "    <tr>\n",
       "      <th>CO2 - non combustion - Cement production - air</th>\n",
       "      <td>0</td>\n",
       "      <td>0.000000e+00</td>\n",
       "      <td>0.000000e+00</td>\n",
       "      <td>0.000000e+00</td>\n",
       "      <td>0.000000e+00</td>\n",
       "      <td>0.000000e+00</td>\n",
       "      <td>0.000000</td>\n",
       "      <td>6.056302e+03</td>\n",
       "      <td>0.000000e+00</td>\n",
       "      <td>0.000000e+00</td>\n",
       "      <td>...</td>\n",
       "      <td>2.864359e+07</td>\n",
       "      <td>2.538856e+07</td>\n",
       "      <td>2.585599e+07</td>\n",
       "      <td>2.745912e+07</td>\n",
       "      <td>4.022456e+07</td>\n",
       "      <td>1.641996e+07</td>\n",
       "      <td>1.547859e+01</td>\n",
       "      <td>6.600915e+02</td>\n",
       "      <td>0.000000e+00</td>\n",
       "      <td>0</td>\n",
       "    </tr>\n",
       "    <tr>\n",
       "      <th>CO2 - non combustion - Lime production - air</th>\n",
       "      <td>0</td>\n",
       "      <td>0.000000e+00</td>\n",
       "      <td>0.000000e+00</td>\n",
       "      <td>0.000000e+00</td>\n",
       "      <td>0.000000e+00</td>\n",
       "      <td>0.000000e+00</td>\n",
       "      <td>0.000000</td>\n",
       "      <td>2.263927e+03</td>\n",
       "      <td>0.000000e+00</td>\n",
       "      <td>0.000000e+00</td>\n",
       "      <td>...</td>\n",
       "      <td>4.368252e+06</td>\n",
       "      <td>3.871847e+06</td>\n",
       "      <td>3.943132e+06</td>\n",
       "      <td>4.187617e+06</td>\n",
       "      <td>6.134392e+06</td>\n",
       "      <td>2.504104e+06</td>\n",
       "      <td>2.360542e+00</td>\n",
       "      <td>1.006664e+02</td>\n",
       "      <td>0.000000e+00</td>\n",
       "      <td>0</td>\n",
       "    </tr>\n",
       "    <tr>\n",
       "      <th>CO2 - agriculture - peat decay - air</th>\n",
       "      <td>0</td>\n",
       "      <td>1.743049e+07</td>\n",
       "      <td>2.792823e+07</td>\n",
       "      <td>7.457726e+06</td>\n",
       "      <td>8.401106e+06</td>\n",
       "      <td>2.259092e+06</td>\n",
       "      <td>28011.174377</td>\n",
       "      <td>2.502175e+05</td>\n",
       "      <td>5.742609e+07</td>\n",
       "      <td>0.000000e+00</td>\n",
       "      <td>...</td>\n",
       "      <td>0.000000e+00</td>\n",
       "      <td>0.000000e+00</td>\n",
       "      <td>0.000000e+00</td>\n",
       "      <td>0.000000e+00</td>\n",
       "      <td>0.000000e+00</td>\n",
       "      <td>0.000000e+00</td>\n",
       "      <td>0.000000e+00</td>\n",
       "      <td>0.000000e+00</td>\n",
       "      <td>0.000000e+00</td>\n",
       "      <td>0</td>\n",
       "    </tr>\n",
       "    <tr>\n",
       "      <th>CO2 - waste - biogenic - air</th>\n",
       "      <td>0</td>\n",
       "      <td>0.000000e+00</td>\n",
       "      <td>0.000000e+00</td>\n",
       "      <td>0.000000e+00</td>\n",
       "      <td>0.000000e+00</td>\n",
       "      <td>0.000000e+00</td>\n",
       "      <td>0.000000</td>\n",
       "      <td>0.000000e+00</td>\n",
       "      <td>0.000000e+00</td>\n",
       "      <td>0.000000e+00</td>\n",
       "      <td>...</td>\n",
       "      <td>5.291580e+04</td>\n",
       "      <td>0.000000e+00</td>\n",
       "      <td>0.000000e+00</td>\n",
       "      <td>0.000000e+00</td>\n",
       "      <td>0.000000e+00</td>\n",
       "      <td>0.000000e+00</td>\n",
       "      <td>0.000000e+00</td>\n",
       "      <td>0.000000e+00</td>\n",
       "      <td>0.000000e+00</td>\n",
       "      <td>0</td>\n",
       "    </tr>\n",
       "    <tr>\n",
       "      <th>CO2 - waste - fossil - air</th>\n",
       "      <td>0</td>\n",
       "      <td>0.000000e+00</td>\n",
       "      <td>0.000000e+00</td>\n",
       "      <td>0.000000e+00</td>\n",
       "      <td>0.000000e+00</td>\n",
       "      <td>0.000000e+00</td>\n",
       "      <td>0.000000</td>\n",
       "      <td>0.000000e+00</td>\n",
       "      <td>0.000000e+00</td>\n",
       "      <td>0.000000e+00</td>\n",
       "      <td>...</td>\n",
       "      <td>0.000000e+00</td>\n",
       "      <td>1.846875e+03</td>\n",
       "      <td>7.451231e+02</td>\n",
       "      <td>7.075820e+03</td>\n",
       "      <td>0.000000e+00</td>\n",
       "      <td>0.000000e+00</td>\n",
       "      <td>0.000000e+00</td>\n",
       "      <td>0.000000e+00</td>\n",
       "      <td>0.000000e+00</td>\n",
       "      <td>0</td>\n",
       "    </tr>\n",
       "  </tbody>\n",
       "</table>\n",
       "<p>6 rows × 7987 columns</p>\n",
       "</div>"
      ],
      "text/plain": [
       "region                                                                AT  \\\n",
       "sector                                         Cultivation of paddy rice   \n",
       "stressor                                                                   \n",
       "CO2 - combustion - air                                                 0   \n",
       "CO2 - non combustion - Cement production - air                         0   \n",
       "CO2 - non combustion - Lime production - air                           0   \n",
       "CO2 - agriculture - peat decay - air                                   0   \n",
       "CO2 - waste - biogenic - air                                           0   \n",
       "CO2 - waste - fossil - air                                             0   \n",
       "\n",
       "region                                                               \\\n",
       "sector                                         Cultivation of wheat   \n",
       "stressor                                                              \n",
       "CO2 - combustion - air                                 2.116163e+08   \n",
       "CO2 - non combustion - Cement production - air         0.000000e+00   \n",
       "CO2 - non combustion - Lime production - air           0.000000e+00   \n",
       "CO2 - agriculture - peat decay - air                   1.743049e+07   \n",
       "CO2 - waste - biogenic - air                           0.000000e+00   \n",
       "CO2 - waste - fossil - air                             0.000000e+00   \n",
       "\n",
       "region                                                                           \\\n",
       "sector                                         Cultivation of cereal grains nec   \n",
       "stressor                                                                          \n",
       "CO2 - combustion - air                                             2.080692e+08   \n",
       "CO2 - non combustion - Cement production - air                     0.000000e+00   \n",
       "CO2 - non combustion - Lime production - air                       0.000000e+00   \n",
       "CO2 - agriculture - peat decay - air                               2.792823e+07   \n",
       "CO2 - waste - biogenic - air                                       0.000000e+00   \n",
       "CO2 - waste - fossil - air                                         0.000000e+00   \n",
       "\n",
       "region                                                                                 \\\n",
       "sector                                         Cultivation of vegetables, fruit, nuts   \n",
       "stressor                                                                                \n",
       "CO2 - combustion - air                                                   8.642867e+07   \n",
       "CO2 - non combustion - Cement production - air                           0.000000e+00   \n",
       "CO2 - non combustion - Lime production - air                             0.000000e+00   \n",
       "CO2 - agriculture - peat decay - air                                     7.457726e+06   \n",
       "CO2 - waste - biogenic - air                                             0.000000e+00   \n",
       "CO2 - waste - fossil - air                                               0.000000e+00   \n",
       "\n",
       "region                                                                   \\\n",
       "sector                                         Cultivation of oil seeds   \n",
       "stressor                                                                  \n",
       "CO2 - combustion - air                                     3.803935e+07   \n",
       "CO2 - non combustion - Cement production - air             0.000000e+00   \n",
       "CO2 - non combustion - Lime production - air               0.000000e+00   \n",
       "CO2 - agriculture - peat decay - air                       8.401106e+06   \n",
       "CO2 - waste - biogenic - air                               0.000000e+00   \n",
       "CO2 - waste - fossil - air                                 0.000000e+00   \n",
       "\n",
       "region                                                                                \\\n",
       "sector                                         Cultivation of sugar cane, sugar beet   \n",
       "stressor                                                                               \n",
       "CO2 - combustion - air                                                  1.183033e+07   \n",
       "CO2 - non combustion - Cement production - air                          0.000000e+00   \n",
       "CO2 - non combustion - Lime production - air                            0.000000e+00   \n",
       "CO2 - agriculture - peat decay - air                                    2.259092e+06   \n",
       "CO2 - waste - biogenic - air                                            0.000000e+00   \n",
       "CO2 - waste - fossil - air                                              0.000000e+00   \n",
       "\n",
       "region                                                                            \\\n",
       "sector                                         Cultivation of plant-based fibers   \n",
       "stressor                                                                           \n",
       "CO2 - combustion - air                                              11407.773651   \n",
       "CO2 - non combustion - Cement production - air                          0.000000   \n",
       "CO2 - non combustion - Lime production - air                            0.000000   \n",
       "CO2 - agriculture - peat decay - air                                28011.174377   \n",
       "CO2 - waste - biogenic - air                                            0.000000   \n",
       "CO2 - waste - fossil - air                                              0.000000   \n",
       "\n",
       "region                                                                   \\\n",
       "sector                                         Cultivation of crops nec   \n",
       "stressor                                                                  \n",
       "CO2 - combustion - air                                     1.550273e+06   \n",
       "CO2 - non combustion - Cement production - air             6.056302e+03   \n",
       "CO2 - non combustion - Lime production - air               2.263927e+03   \n",
       "CO2 - agriculture - peat decay - air                       2.502175e+05   \n",
       "CO2 - waste - biogenic - air                               0.000000e+00   \n",
       "CO2 - waste - fossil - air                                 0.000000e+00   \n",
       "\n",
       "region                                                                       \\\n",
       "sector                                         Cattle farming  Pigs farming   \n",
       "stressor                                                                      \n",
       "CO2 - combustion - air                           1.311784e+08  6.049997e+07   \n",
       "CO2 - non combustion - Cement production - air   0.000000e+00  0.000000e+00   \n",
       "CO2 - non combustion - Lime production - air     0.000000e+00  0.000000e+00   \n",
       "CO2 - agriculture - peat decay - air             5.742609e+07  0.000000e+00   \n",
       "CO2 - waste - biogenic - air                     0.000000e+00  0.000000e+00   \n",
       "CO2 - waste - fossil - air                       0.000000e+00  0.000000e+00   \n",
       "\n",
       "region                                          ...                       WM  \\\n",
       "sector                                          ... Landfill of waste: Paper   \n",
       "stressor                                        ...                            \n",
       "CO2 - combustion - air                          ...             1.959923e+07   \n",
       "CO2 - non combustion - Cement production - air  ...             2.864359e+07   \n",
       "CO2 - non combustion - Lime production - air    ...             4.368252e+06   \n",
       "CO2 - agriculture - peat decay - air            ...             0.000000e+00   \n",
       "CO2 - waste - biogenic - air                    ...             5.291580e+04   \n",
       "CO2 - waste - fossil - air                      ...             0.000000e+00   \n",
       "\n",
       "region                                                                     \\\n",
       "sector                                         Landfill of waste: Plastic   \n",
       "stressor                                                                    \n",
       "CO2 - combustion - air                                       1.136720e+07   \n",
       "CO2 - non combustion - Cement production - air               2.538856e+07   \n",
       "CO2 - non combustion - Lime production - air                 3.871847e+06   \n",
       "CO2 - agriculture - peat decay - air                         0.000000e+00   \n",
       "CO2 - waste - biogenic - air                                 0.000000e+00   \n",
       "CO2 - waste - fossil - air                                   1.846875e+03   \n",
       "\n",
       "region                                                                                   \\\n",
       "sector                                         Landfill of waste: Inert/metal/hazardous   \n",
       "stressor                                                                                  \n",
       "CO2 - combustion - air                                                     2.062198e+07   \n",
       "CO2 - non combustion - Cement production - air                             2.585599e+07   \n",
       "CO2 - non combustion - Lime production - air                               3.943132e+06   \n",
       "CO2 - agriculture - peat decay - air                                       0.000000e+00   \n",
       "CO2 - waste - biogenic - air                                               0.000000e+00   \n",
       "CO2 - waste - fossil - air                                                 7.451231e+02   \n",
       "\n",
       "region                                                                      \\\n",
       "sector                                         Landfill of waste: Textiles   \n",
       "stressor                                                                     \n",
       "CO2 - combustion - air                                        6.773042e+06   \n",
       "CO2 - non combustion - Cement production - air                2.745912e+07   \n",
       "CO2 - non combustion - Lime production - air                  4.187617e+06   \n",
       "CO2 - agriculture - peat decay - air                          0.000000e+00   \n",
       "CO2 - waste - biogenic - air                                  0.000000e+00   \n",
       "CO2 - waste - fossil - air                                    7.075820e+03   \n",
       "\n",
       "region                                                                  \\\n",
       "sector                                         Landfill of waste: Wood   \n",
       "stressor                                                                 \n",
       "CO2 - combustion - air                                    9.136303e+06   \n",
       "CO2 - non combustion - Cement production - air            4.022456e+07   \n",
       "CO2 - non combustion - Lime production - air              6.134392e+06   \n",
       "CO2 - agriculture - peat decay - air                      0.000000e+00   \n",
       "CO2 - waste - biogenic - air                              0.000000e+00   \n",
       "CO2 - waste - fossil - air                                0.000000e+00   \n",
       "\n",
       "region                                                                                            \\\n",
       "sector                                         Activities of membership organisation n.e.c. (91)   \n",
       "stressor                                                                                           \n",
       "CO2 - combustion - air                                                              1.940026e+08   \n",
       "CO2 - non combustion - Cement production - air                                      1.641996e+07   \n",
       "CO2 - non combustion - Lime production - air                                        2.504104e+06   \n",
       "CO2 - agriculture - peat decay - air                                                0.000000e+00   \n",
       "CO2 - waste - biogenic - air                                                        0.000000e+00   \n",
       "CO2 - waste - fossil - air                                                          0.000000e+00   \n",
       "\n",
       "region                                                                                              \\\n",
       "sector                                         Recreational, cultural and sporting activities (92)   \n",
       "stressor                                                                                             \n",
       "CO2 - combustion - air                                                               4.679020e+08    \n",
       "CO2 - non combustion - Cement production - air                                       1.547859e+01    \n",
       "CO2 - non combustion - Lime production - air                                         2.360542e+00    \n",
       "CO2 - agriculture - peat decay - air                                                 0.000000e+00    \n",
       "CO2 - waste - biogenic - air                                                         0.000000e+00    \n",
       "CO2 - waste - fossil - air                                                           0.000000e+00    \n",
       "\n",
       "region                                                                        \\\n",
       "sector                                         Other service activities (93)   \n",
       "stressor                                                                       \n",
       "CO2 - combustion - air                                          3.349095e+08   \n",
       "CO2 - non combustion - Cement production - air                  6.600915e+02   \n",
       "CO2 - non combustion - Lime production - air                    1.006664e+02   \n",
       "CO2 - agriculture - peat decay - air                            0.000000e+00   \n",
       "CO2 - waste - biogenic - air                                    0.000000e+00   \n",
       "CO2 - waste - fossil - air                                      0.000000e+00   \n",
       "\n",
       "region                                                                                        \\\n",
       "sector                                         Private households with employed persons (95)   \n",
       "stressor                                                                                       \n",
       "CO2 - combustion - air                                                          6.326304e+07   \n",
       "CO2 - non combustion - Cement production - air                                  0.000000e+00   \n",
       "CO2 - non combustion - Lime production - air                                    0.000000e+00   \n",
       "CO2 - agriculture - peat decay - air                                            0.000000e+00   \n",
       "CO2 - waste - biogenic - air                                                    0.000000e+00   \n",
       "CO2 - waste - fossil - air                                                      0.000000e+00   \n",
       "\n",
       "region                                                                                     \n",
       "sector                                         Extra-territorial organizations and bodies  \n",
       "stressor                                                                                   \n",
       "CO2 - combustion - air                                                                  0  \n",
       "CO2 - non combustion - Cement production - air                                          0  \n",
       "CO2 - non combustion - Lime production - air                                            0  \n",
       "CO2 - agriculture - peat decay - air                                                    0  \n",
       "CO2 - waste - biogenic - air                                                            0  \n",
       "CO2 - waste - fossil - air                                                              0  \n",
       "\n",
       "[6 rows x 7987 columns]"
      ]
     },
     "execution_count": 7,
     "metadata": {},
     "output_type": "execute_result"
    }
   ],
   "source": [
    "F_sat[F_sat.index.str.contains(\"CO2\")]"
   ]
  },
  {
   "cell_type": "markdown",
   "metadata": {
    "slideshow": {
     "slide_type": "slide"
    }
   },
   "source": [
    "by running the following\n",
    "\n",
    "F_sat_hh.index.str.contains(\"CO2\")\n",
    "\n",
    "You are obtaining a boolean array (i.e., an array of true and false values), where true is assigned to the position of all labels that contain \"CO2\" in them.\n",
    "\n",
    "This is the equivalent of creating a list of all the labels concerning CO2 emissions in the extension such as\n",
    "\n",
    "```\n",
    "['CO2 - combustion - air',\n",
    "'CO2 - non combustion - Cement production - air',\n",
    "'CO2 - non combustion - Lime production - air',\n",
    "'CO2 - agriculture - peat decay - air',\n",
    "'CO2 - waste - biogenic - air', 'CO2 - waste - fossil - air']\n",
    "```\n",
    "\n",
    "##### Explanation\n",
    "\n",
    "**F_sat_gg.index** returns all labels of your index\n",
    "\n",
    "**.str** allows to treat each entry of the index as a string\n",
    "\n",
    "**.contains()** is a method for strings that allows you check whether a string may contain another string  "
   ]
  },
  {
   "cell_type": "code",
   "execution_count": 8,
   "metadata": {
    "slideshow": {
     "slide_type": "subslide"
    }
   },
   "outputs": [],
   "source": [
    "# CO2 Intensities\n",
    "f_sat_CO2 = F_sat_CO2 @ inv_diag_x_ "
   ]
  },
  {
   "cell_type": "code",
   "execution_count": 9,
   "metadata": {
    "slideshow": {
     "slide_type": "fragment"
    }
   },
   "outputs": [],
   "source": [
    "# Aggregate Y by region\n",
    "Y_reg = Y.groupby(level=0, axis=1, sort=False).sum()"
   ]
  },
  {
   "cell_type": "code",
   "execution_count": 10,
   "metadata": {
    "slideshow": {
     "slide_type": "fragment"
    }
   },
   "outputs": [],
   "source": [
    "# Aggregate F_sat_hh by region\n",
    "F_sat_hh_CO2_reg = F_sat_hh_CO2.groupby(level=0, sort=False).sum()"
   ]
  },
  {
   "cell_type": "code",
   "execution_count": 11,
   "metadata": {
    "slideshow": {
     "slide_type": "subslide"
    }
   },
   "outputs": [
    {
     "data": {
      "text/plain": [
       "region\n",
       "AT     9.811567\n",
       "BE    11.808848\n",
       "BG     5.072057\n",
       "CY     9.815370\n",
       "CZ     9.619117\n",
       "DE    11.598026\n",
       "DK    11.675322\n",
       "EE    11.375827\n",
       "ES     6.256477\n",
       "FI    10.289243\n",
       "FR     6.922484\n",
       "GR    12.511011\n",
       "HR     3.992216\n",
       "HU     5.451145\n",
       "IE    11.723657\n",
       "IT     7.667742\n",
       "LT     6.752614\n",
       "LU    23.166439\n",
       "LV     6.043555\n",
       "MT    12.926639\n",
       "NL    12.321761\n",
       "PL     7.399379\n",
       "PT     5.492885\n",
       "RO     3.829157\n",
       "SE     7.183384\n",
       "SI     7.526126\n",
       "SK     7.693971\n",
       "GB     9.769436\n",
       "US    18.518329\n",
       "JP    10.047756\n",
       "CN     6.435537\n",
       "CA    14.149816\n",
       "KR    12.219827\n",
       "BR     2.466260\n",
       "IN     1.629168\n",
       "MX     3.494032\n",
       "RU     7.964158\n",
       "AU    18.637680\n",
       "CH    11.225801\n",
       "TR     5.136483\n",
       "TW     6.871530\n",
       "NO    13.540860\n",
       "ID     1.843218\n",
       "ZA     5.566805\n",
       "WA     2.064527\n",
       "WL     3.585200\n",
       "WE     3.846268\n",
       "WF     0.859331\n",
       "WM     6.512545\n",
       "dtype: float64"
      ]
     },
     "execution_count": 11,
     "metadata": {},
     "output_type": "execute_result"
    }
   ],
   "source": [
    "# Footprint calculation\n",
    "e_CO2 = f_sat_CO2 @ L @ Y_reg + F_sat_hh_CO2_reg\n",
    "e_CO2_pp = e_CO2/pop2015.values/1000 #convert the unit from kg to metric ton/capita\n",
    "\n",
    "e_CO2_pp"
   ]
  },
  {
   "cell_type": "code",
   "execution_count": 12,
   "metadata": {
    "slideshow": {
     "slide_type": "slide"
    }
   },
   "outputs": [],
   "source": [
    "# Other method to aggregate results instead of groupby\n",
    "# 1st collect the labels (r=number of regions; s=number of sectors)\n",
    "Y_labels = Y.index.to_frame(index=None)\n",
    "region_labels = Y_labels.region.drop_duplicates().reset_index(drop=True)\n",
    "sector_labels = Y_labels.sector.drop_duplicates().reset_index(drop=True)\n",
    "r = region_labels.shape[0]\n",
    "s = sector_labels.shape[0]"
   ]
  },
  {
   "cell_type": "code",
   "execution_count": 13,
   "metadata": {},
   "outputs": [],
   "source": [
    "# Create empty arrays of the desired shape/order\n",
    "Yt = np.zeros((r*s,r))\n",
    "F1_hht = np.zeros((F_sat_hh.shape[0],r))"
   ]
  },
  {
   "cell_type": "code",
   "execution_count": 14,
   "metadata": {},
   "outputs": [],
   "source": [
    "# Aggregate Y and F_hh\n",
    "\n",
    "for l in region_labels.items(): \n",
    "    Yt[:,l[0]]=Y.loc[:,l[1]].sum(axis=1)\n",
    "    F1_hht[:,l[0]]=F_sat_hh.loc[:,l[1]].sum(axis=1)"
   ]
  },
  {
   "cell_type": "code",
   "execution_count": 15,
   "metadata": {},
   "outputs": [
    {
     "data": {
      "text/plain": [
       "True"
      ]
     },
     "execution_count": 15,
     "metadata": {},
     "output_type": "execute_result"
    }
   ],
   "source": [
    "np.allclose(Yt.sum(axis=0), Y_reg.sum(axis=0))"
   ]
  },
  {
   "cell_type": "markdown",
   "metadata": {},
   "source": [
    "#### 1.2 What were the per capita carbon footprint of each of the 49 regions in CO2e when considering CH4, N2O, and CO2? (6 points)\n",
    "Instruction: Please use 29.8 and 273 for GWP100 of CH4 and N2O, respectively."
   ]
  },
  {
   "cell_type": "code",
   "execution_count": 16,
   "metadata": {},
   "outputs": [
    {
     "data": {
      "text/html": [
       "<div>\n",
       "<style scoped>\n",
       "    .dataframe tbody tr th:only-of-type {\n",
       "        vertical-align: middle;\n",
       "    }\n",
       "\n",
       "    .dataframe tbody tr th {\n",
       "        vertical-align: top;\n",
       "    }\n",
       "\n",
       "    .dataframe thead tr th {\n",
       "        text-align: left;\n",
       "    }\n",
       "</style>\n",
       "<table border=\"1\" class=\"dataframe\">\n",
       "  <thead>\n",
       "    <tr>\n",
       "      <th>region</th>\n",
       "      <th colspan=\"10\" halign=\"left\">AT</th>\n",
       "      <th>...</th>\n",
       "      <th colspan=\"10\" halign=\"left\">WM</th>\n",
       "    </tr>\n",
       "    <tr>\n",
       "      <th>sector</th>\n",
       "      <th>Cultivation of paddy rice</th>\n",
       "      <th>Cultivation of wheat</th>\n",
       "      <th>Cultivation of cereal grains nec</th>\n",
       "      <th>Cultivation of vegetables, fruit, nuts</th>\n",
       "      <th>Cultivation of oil seeds</th>\n",
       "      <th>Cultivation of sugar cane, sugar beet</th>\n",
       "      <th>Cultivation of plant-based fibers</th>\n",
       "      <th>Cultivation of crops nec</th>\n",
       "      <th>Cattle farming</th>\n",
       "      <th>Pigs farming</th>\n",
       "      <th>...</th>\n",
       "      <th>Landfill of waste: Paper</th>\n",
       "      <th>Landfill of waste: Plastic</th>\n",
       "      <th>Landfill of waste: Inert/metal/hazardous</th>\n",
       "      <th>Landfill of waste: Textiles</th>\n",
       "      <th>Landfill of waste: Wood</th>\n",
       "      <th>Activities of membership organisation n.e.c. (91)</th>\n",
       "      <th>Recreational, cultural and sporting activities (92)</th>\n",
       "      <th>Other service activities (93)</th>\n",
       "      <th>Private households with employed persons (95)</th>\n",
       "      <th>Extra-territorial organizations and bodies</th>\n",
       "    </tr>\n",
       "  </thead>\n",
       "  <tbody>\n",
       "    <tr>\n",
       "      <th>CO2</th>\n",
       "      <td>0.0</td>\n",
       "      <td>2.290468e+08</td>\n",
       "      <td>2.359974e+08</td>\n",
       "      <td>9.388639e+07</td>\n",
       "      <td>4.644045e+07</td>\n",
       "      <td>1.408942e+07</td>\n",
       "      <td>39418.948028</td>\n",
       "      <td>1.808811e+06</td>\n",
       "      <td>1.886045e+08</td>\n",
       "      <td>6.049997e+07</td>\n",
       "      <td>...</td>\n",
       "      <td>5.266399e+07</td>\n",
       "      <td>4.062944e+07</td>\n",
       "      <td>5.042184e+07</td>\n",
       "      <td>3.842686e+07</td>\n",
       "      <td>5.549526e+07</td>\n",
       "      <td>2.129266e+08</td>\n",
       "      <td>4.679020e+08</td>\n",
       "      <td>3.349103e+08</td>\n",
       "      <td>6.326304e+07</td>\n",
       "      <td>0.0</td>\n",
       "    </tr>\n",
       "    <tr>\n",
       "      <th>CH4</th>\n",
       "      <td>0.0</td>\n",
       "      <td>3.193777e+05</td>\n",
       "      <td>4.474301e+05</td>\n",
       "      <td>2.838360e+05</td>\n",
       "      <td>1.270425e+05</td>\n",
       "      <td>4.745501e+04</td>\n",
       "      <td>136.651618</td>\n",
       "      <td>1.656764e+04</td>\n",
       "      <td>2.651895e+09</td>\n",
       "      <td>1.441410e+08</td>\n",
       "      <td>...</td>\n",
       "      <td>4.759316e+10</td>\n",
       "      <td>1.436608e+09</td>\n",
       "      <td>3.059326e+07</td>\n",
       "      <td>6.331344e+09</td>\n",
       "      <td>1.399794e+09</td>\n",
       "      <td>2.671610e+06</td>\n",
       "      <td>5.699469e+06</td>\n",
       "      <td>3.227710e+06</td>\n",
       "      <td>9.343112e+05</td>\n",
       "      <td>0.0</td>\n",
       "    </tr>\n",
       "    <tr>\n",
       "      <th>N2O</th>\n",
       "      <td>0.0</td>\n",
       "      <td>2.788491e+08</td>\n",
       "      <td>4.180574e+08</td>\n",
       "      <td>9.107078e+07</td>\n",
       "      <td>1.288437e+08</td>\n",
       "      <td>4.933941e+07</td>\n",
       "      <td>450938.409455</td>\n",
       "      <td>4.648129e+06</td>\n",
       "      <td>5.799846e+08</td>\n",
       "      <td>1.647127e+08</td>\n",
       "      <td>...</td>\n",
       "      <td>4.897483e+04</td>\n",
       "      <td>2.444897e+04</td>\n",
       "      <td>5.636156e+04</td>\n",
       "      <td>1.457448e+04</td>\n",
       "      <td>1.970197e+04</td>\n",
       "      <td>3.448882e+05</td>\n",
       "      <td>8.085240e+05</td>\n",
       "      <td>7.122501e+05</td>\n",
       "      <td>1.045804e+05</td>\n",
       "      <td>0.0</td>\n",
       "    </tr>\n",
       "  </tbody>\n",
       "</table>\n",
       "<p>3 rows × 7987 columns</p>\n",
       "</div>"
      ],
      "text/plain": [
       "region                        AT                       \\\n",
       "sector Cultivation of paddy rice Cultivation of wheat   \n",
       "CO2                          0.0         2.290468e+08   \n",
       "CH4                          0.0         3.193777e+05   \n",
       "N2O                          0.0         2.788491e+08   \n",
       "\n",
       "region                                   \\\n",
       "sector Cultivation of cereal grains nec   \n",
       "CO2                        2.359974e+08   \n",
       "CH4                        4.474301e+05   \n",
       "N2O                        4.180574e+08   \n",
       "\n",
       "region                                                                  \\\n",
       "sector Cultivation of vegetables, fruit, nuts Cultivation of oil seeds   \n",
       "CO2                              9.388639e+07             4.644045e+07   \n",
       "CH4                              2.838360e+05             1.270425e+05   \n",
       "N2O                              9.107078e+07             1.288437e+08   \n",
       "\n",
       "region                                        \\\n",
       "sector Cultivation of sugar cane, sugar beet   \n",
       "CO2                             1.408942e+07   \n",
       "CH4                             4.745501e+04   \n",
       "N2O                             4.933941e+07   \n",
       "\n",
       "region                                                             \\\n",
       "sector Cultivation of plant-based fibers Cultivation of crops nec   \n",
       "CO2                         39418.948028             1.808811e+06   \n",
       "CH4                           136.651618             1.656764e+04   \n",
       "N2O                        450938.409455             4.648129e+06   \n",
       "\n",
       "region                               ...                       WM  \\\n",
       "sector Cattle farming  Pigs farming  ... Landfill of waste: Paper   \n",
       "CO2      1.886045e+08  6.049997e+07  ...             5.266399e+07   \n",
       "CH4      2.651895e+09  1.441410e+08  ...             4.759316e+10   \n",
       "N2O      5.799846e+08  1.647127e+08  ...             4.897483e+04   \n",
       "\n",
       "region                                                                      \\\n",
       "sector Landfill of waste: Plastic Landfill of waste: Inert/metal/hazardous   \n",
       "CO2                  4.062944e+07                             5.042184e+07   \n",
       "CH4                  1.436608e+09                             3.059326e+07   \n",
       "N2O                  2.444897e+04                             5.636156e+04   \n",
       "\n",
       "region                                                      \\\n",
       "sector Landfill of waste: Textiles Landfill of waste: Wood   \n",
       "CO2                   3.842686e+07            5.549526e+07   \n",
       "CH4                   6.331344e+09            1.399794e+09   \n",
       "N2O                   1.457448e+04            1.970197e+04   \n",
       "\n",
       "region                                                    \\\n",
       "sector Activities of membership organisation n.e.c. (91)   \n",
       "CO2                                         2.129266e+08   \n",
       "CH4                                         2.671610e+06   \n",
       "N2O                                         3.448882e+05   \n",
       "\n",
       "region                                                      \\\n",
       "sector Recreational, cultural and sporting activities (92)   \n",
       "CO2                                          4.679020e+08    \n",
       "CH4                                          5.699469e+06    \n",
       "N2O                                          8.085240e+05    \n",
       "\n",
       "region                                \\\n",
       "sector Other service activities (93)   \n",
       "CO2                     3.349103e+08   \n",
       "CH4                     3.227710e+06   \n",
       "N2O                     7.122501e+05   \n",
       "\n",
       "region                                                \\\n",
       "sector Private households with employed persons (95)   \n",
       "CO2                                     6.326304e+07   \n",
       "CH4                                     9.343112e+05   \n",
       "N2O                                     1.045804e+05   \n",
       "\n",
       "region                                             \n",
       "sector Extra-territorial organizations and bodies  \n",
       "CO2                                           0.0  \n",
       "CH4                                           0.0  \n",
       "N2O                                           0.0  \n",
       "\n",
       "[3 rows x 7987 columns]"
      ]
     },
     "execution_count": 16,
     "metadata": {},
     "output_type": "execute_result"
    }
   ],
   "source": [
    "F_sat_CO2 = F_sat[F_sat.index.str.contains(\"CO2\")].sum(axis=0)\n",
    "F_sat_CH4 = F_sat[F_sat.index.str.contains(\"CH4\")].sum(axis=0)*29.8\n",
    "F_sat_N2O = F_sat[F_sat.index.str.contains(\"N2O\")].sum(axis=0)*273\n",
    "\n",
    "F_GHG_ = pd.concat([F_sat_CO2, F_sat_CH4, F_sat_N2O],axis=1).T\n",
    "F_GHG_.index = [\"CO2\", \"CH4\", \"N2O\"]\n",
    "F_GHG_"
   ]
  },
  {
   "cell_type": "code",
   "execution_count": 17,
   "metadata": {},
   "outputs": [
    {
     "data": {
      "text/html": [
       "<div>\n",
       "<style scoped>\n",
       "    .dataframe tbody tr th:only-of-type {\n",
       "        vertical-align: middle;\n",
       "    }\n",
       "\n",
       "    .dataframe tbody tr th {\n",
       "        vertical-align: top;\n",
       "    }\n",
       "\n",
       "    .dataframe thead th {\n",
       "        text-align: right;\n",
       "    }\n",
       "</style>\n",
       "<table border=\"1\" class=\"dataframe\">\n",
       "  <thead>\n",
       "    <tr style=\"text-align: right;\">\n",
       "      <th></th>\n",
       "      <th>0</th>\n",
       "      <th>1</th>\n",
       "      <th>2</th>\n",
       "      <th>3</th>\n",
       "      <th>4</th>\n",
       "      <th>5</th>\n",
       "      <th>6</th>\n",
       "      <th>7</th>\n",
       "      <th>8</th>\n",
       "      <th>9</th>\n",
       "      <th>...</th>\n",
       "      <th>7977</th>\n",
       "      <th>7978</th>\n",
       "      <th>7979</th>\n",
       "      <th>7980</th>\n",
       "      <th>7981</th>\n",
       "      <th>7982</th>\n",
       "      <th>7983</th>\n",
       "      <th>7984</th>\n",
       "      <th>7985</th>\n",
       "      <th>7986</th>\n",
       "    </tr>\n",
       "  </thead>\n",
       "  <tbody>\n",
       "    <tr>\n",
       "      <th>CO2</th>\n",
       "      <td>0.0</td>\n",
       "      <td>691259.800152</td>\n",
       "      <td>310277.849577</td>\n",
       "      <td>66286.364256</td>\n",
       "      <td>316544.074316</td>\n",
       "      <td>167373.122947</td>\n",
       "      <td>26977.557519</td>\n",
       "      <td>5761.174473</td>\n",
       "      <td>3.834245e+05</td>\n",
       "      <td>73824.712479</td>\n",
       "      <td>...</td>\n",
       "      <td>3.158695e+04</td>\n",
       "      <td>4.388930e+04</td>\n",
       "      <td>28723.374473</td>\n",
       "      <td>8.355061e+04</td>\n",
       "      <td>9.429815e+04</td>\n",
       "      <td>14226.117991</td>\n",
       "      <td>10278.420127</td>\n",
       "      <td>13103.352764</td>\n",
       "      <td>10560.562008</td>\n",
       "      <td>0.0</td>\n",
       "    </tr>\n",
       "    <tr>\n",
       "      <th>CH4</th>\n",
       "      <td>0.0</td>\n",
       "      <td>963.876994</td>\n",
       "      <td>588.259219</td>\n",
       "      <td>200.395987</td>\n",
       "      <td>865.938182</td>\n",
       "      <td>563.734657</td>\n",
       "      <td>93.521696</td>\n",
       "      <td>52.768967</td>\n",
       "      <td>5.391183e+06</td>\n",
       "      <td>175887.120618</td>\n",
       "      <td>...</td>\n",
       "      <td>2.854555e+07</td>\n",
       "      <td>1.551873e+06</td>\n",
       "      <td>17427.794623</td>\n",
       "      <td>1.376609e+07</td>\n",
       "      <td>2.378545e+06</td>\n",
       "      <td>178.496429</td>\n",
       "      <td>125.200438</td>\n",
       "      <td>126.284045</td>\n",
       "      <td>155.965490</td>\n",
       "      <td>0.0</td>\n",
       "    </tr>\n",
       "    <tr>\n",
       "      <th>N2O</th>\n",
       "      <td>0.0</td>\n",
       "      <td>841562.290311</td>\n",
       "      <td>549641.469482</td>\n",
       "      <td>64298.463925</td>\n",
       "      <td>878215.055451</td>\n",
       "      <td>586120.113971</td>\n",
       "      <td>308613.433066</td>\n",
       "      <td>14804.579548</td>\n",
       "      <td>1.179082e+06</td>\n",
       "      <td>200989.676186</td>\n",
       "      <td>...</td>\n",
       "      <td>2.937425e+01</td>\n",
       "      <td>2.641061e+01</td>\n",
       "      <td>32.107002</td>\n",
       "      <td>3.168894e+01</td>\n",
       "      <td>3.347781e+01</td>\n",
       "      <td>23.042775</td>\n",
       "      <td>17.760877</td>\n",
       "      <td>27.866759</td>\n",
       "      <td>17.457712</td>\n",
       "      <td>0.0</td>\n",
       "    </tr>\n",
       "  </tbody>\n",
       "</table>\n",
       "<p>3 rows × 7987 columns</p>\n",
       "</div>"
      ],
      "text/plain": [
       "     0              1              2             3              4     \\\n",
       "CO2   0.0  691259.800152  310277.849577  66286.364256  316544.074316   \n",
       "CH4   0.0     963.876994     588.259219    200.395987     865.938182   \n",
       "N2O   0.0  841562.290311  549641.469482  64298.463925  878215.055451   \n",
       "\n",
       "              5              6             7             8              9     \\\n",
       "CO2  167373.122947   26977.557519   5761.174473  3.834245e+05   73824.712479   \n",
       "CH4     563.734657      93.521696     52.768967  5.391183e+06  175887.120618   \n",
       "N2O  586120.113971  308613.433066  14804.579548  1.179082e+06  200989.676186   \n",
       "\n",
       "     ...          7977          7978          7979          7980  \\\n",
       "CO2  ...  3.158695e+04  4.388930e+04  28723.374473  8.355061e+04   \n",
       "CH4  ...  2.854555e+07  1.551873e+06  17427.794623  1.376609e+07   \n",
       "N2O  ...  2.937425e+01  2.641061e+01     32.107002  3.168894e+01   \n",
       "\n",
       "             7981          7982          7983          7984          7985  \\\n",
       "CO2  9.429815e+04  14226.117991  10278.420127  13103.352764  10560.562008   \n",
       "CH4  2.378545e+06    178.496429    125.200438    126.284045    155.965490   \n",
       "N2O  3.347781e+01     23.042775     17.760877     27.866759     17.457712   \n",
       "\n",
       "     7986  \n",
       "CO2   0.0  \n",
       "CH4   0.0  \n",
       "N2O   0.0  \n",
       "\n",
       "[3 rows x 7987 columns]"
      ]
     },
     "execution_count": 17,
     "metadata": {},
     "output_type": "execute_result"
    }
   ],
   "source": [
    "# Intensities satellite\n",
    "f_GHG = F_GHG_ @ inv_diag_x_ \n",
    "f_GHG"
   ]
  },
  {
   "cell_type": "code",
   "execution_count": 18,
   "metadata": {},
   "outputs": [
    {
     "data": {
      "text/html": [
       "<div>\n",
       "<style scoped>\n",
       "    .dataframe tbody tr th:only-of-type {\n",
       "        vertical-align: middle;\n",
       "    }\n",
       "\n",
       "    .dataframe tbody tr th {\n",
       "        vertical-align: top;\n",
       "    }\n",
       "\n",
       "    .dataframe thead th {\n",
       "        text-align: right;\n",
       "    }\n",
       "</style>\n",
       "<table border=\"1\" class=\"dataframe\">\n",
       "  <thead>\n",
       "    <tr style=\"text-align: right;\">\n",
       "      <th>region</th>\n",
       "      <th>AT</th>\n",
       "      <th>BE</th>\n",
       "      <th>BG</th>\n",
       "      <th>CY</th>\n",
       "      <th>CZ</th>\n",
       "      <th>DE</th>\n",
       "      <th>DK</th>\n",
       "      <th>EE</th>\n",
       "      <th>ES</th>\n",
       "      <th>FI</th>\n",
       "      <th>...</th>\n",
       "      <th>TR</th>\n",
       "      <th>TW</th>\n",
       "      <th>NO</th>\n",
       "      <th>ID</th>\n",
       "      <th>ZA</th>\n",
       "      <th>WA</th>\n",
       "      <th>WL</th>\n",
       "      <th>WE</th>\n",
       "      <th>WF</th>\n",
       "      <th>WM</th>\n",
       "    </tr>\n",
       "  </thead>\n",
       "  <tbody>\n",
       "    <tr>\n",
       "      <th>CO2</th>\n",
       "      <td>1.649435e+10</td>\n",
       "      <td>2.346101e+10</td>\n",
       "      <td>4.402743e+09</td>\n",
       "      <td>1.488962e+09</td>\n",
       "      <td>1.120496e+10</td>\n",
       "      <td>2.021225e+11</td>\n",
       "      <td>8.171912e+09</td>\n",
       "      <td>7.055757e+08</td>\n",
       "      <td>6.308866e+10</td>\n",
       "      <td>5.450621e+09</td>\n",
       "      <td>...</td>\n",
       "      <td>4.498783e+10</td>\n",
       "      <td>2.006928e+10</td>\n",
       "      <td>3.764177e+09</td>\n",
       "      <td>6.478355e+10</td>\n",
       "      <td>4.836168e+10</td>\n",
       "      <td>2.564473e+11</td>\n",
       "      <td>1.732998e+11</td>\n",
       "      <td>3.611237e+10</td>\n",
       "      <td>2.639215e+11</td>\n",
       "      <td>3.301295e+11</td>\n",
       "    </tr>\n",
       "    <tr>\n",
       "      <th>CH4</th>\n",
       "      <td>4.648808e+08</td>\n",
       "      <td>9.236450e+07</td>\n",
       "      <td>2.681356e+08</td>\n",
       "      <td>1.941141e+06</td>\n",
       "      <td>7.526603e+08</td>\n",
       "      <td>1.179378e+09</td>\n",
       "      <td>2.794978e+08</td>\n",
       "      <td>7.700563e+07</td>\n",
       "      <td>4.143630e+08</td>\n",
       "      <td>4.219064e+08</td>\n",
       "      <td>...</td>\n",
       "      <td>6.013385e+08</td>\n",
       "      <td>3.100029e+07</td>\n",
       "      <td>4.091918e+07</td>\n",
       "      <td>1.766731e+10</td>\n",
       "      <td>4.893146e+09</td>\n",
       "      <td>3.051683e+10</td>\n",
       "      <td>6.172756e+09</td>\n",
       "      <td>9.216313e+08</td>\n",
       "      <td>1.005692e+11</td>\n",
       "      <td>4.641123e+08</td>\n",
       "    </tr>\n",
       "    <tr>\n",
       "      <th>N2O</th>\n",
       "      <td>2.168365e+08</td>\n",
       "      <td>1.790871e+08</td>\n",
       "      <td>2.476122e+07</td>\n",
       "      <td>6.664511e+06</td>\n",
       "      <td>2.289607e+08</td>\n",
       "      <td>5.400237e+08</td>\n",
       "      <td>7.758891e+07</td>\n",
       "      <td>8.145946e+06</td>\n",
       "      <td>7.992618e+08</td>\n",
       "      <td>1.591878e+08</td>\n",
       "      <td>...</td>\n",
       "      <td>6.726210e+08</td>\n",
       "      <td>8.239212e+07</td>\n",
       "      <td>5.554300e+07</td>\n",
       "      <td>2.960401e+09</td>\n",
       "      <td>9.064638e+08</td>\n",
       "      <td>9.754589e+09</td>\n",
       "      <td>2.938656e+09</td>\n",
       "      <td>6.890047e+08</td>\n",
       "      <td>1.409893e+10</td>\n",
       "      <td>1.466206e+09</td>\n",
       "    </tr>\n",
       "  </tbody>\n",
       "</table>\n",
       "<p>3 rows × 49 columns</p>\n",
       "</div>"
      ],
      "text/plain": [
       "region            AT            BE            BG            CY            CZ  \\\n",
       "CO2     1.649435e+10  2.346101e+10  4.402743e+09  1.488962e+09  1.120496e+10   \n",
       "CH4     4.648808e+08  9.236450e+07  2.681356e+08  1.941141e+06  7.526603e+08   \n",
       "N2O     2.168365e+08  1.790871e+08  2.476122e+07  6.664511e+06  2.289607e+08   \n",
       "\n",
       "region            DE            DK            EE            ES            FI  \\\n",
       "CO2     2.021225e+11  8.171912e+09  7.055757e+08  6.308866e+10  5.450621e+09   \n",
       "CH4     1.179378e+09  2.794978e+08  7.700563e+07  4.143630e+08  4.219064e+08   \n",
       "N2O     5.400237e+08  7.758891e+07  8.145946e+06  7.992618e+08  1.591878e+08   \n",
       "\n",
       "region  ...            TR            TW            NO            ID  \\\n",
       "CO2     ...  4.498783e+10  2.006928e+10  3.764177e+09  6.478355e+10   \n",
       "CH4     ...  6.013385e+08  3.100029e+07  4.091918e+07  1.766731e+10   \n",
       "N2O     ...  6.726210e+08  8.239212e+07  5.554300e+07  2.960401e+09   \n",
       "\n",
       "region            ZA            WA            WL            WE            WF  \\\n",
       "CO2     4.836168e+10  2.564473e+11  1.732998e+11  3.611237e+10  2.639215e+11   \n",
       "CH4     4.893146e+09  3.051683e+10  6.172756e+09  9.216313e+08  1.005692e+11   \n",
       "N2O     9.064638e+08  9.754589e+09  2.938656e+09  6.890047e+08  1.409893e+10   \n",
       "\n",
       "region            WM  \n",
       "CO2     3.301295e+11  \n",
       "CH4     4.641123e+08  \n",
       "N2O     1.466206e+09  \n",
       "\n",
       "[3 rows x 49 columns]"
      ]
     },
     "execution_count": 18,
     "metadata": {},
     "output_type": "execute_result"
    }
   ],
   "source": [
    "# Households satellites\n",
    "F_sat_hh_CO2 = F_sat_hh[F_sat_hh.index.str.contains(\"CO2\")].sum(axis=0)\n",
    "F_sat_hh_CH4 = F_sat_hh[F_sat_hh.index.str.contains(\"CH4\")].sum(axis=0)*29.8\n",
    "F_sat_hh_N2O = F_sat_hh[F_sat_hh.index.str.contains(\"N2O\")].sum(axis=0)*273\n",
    "\n",
    "F_hh_GHG_ = pd.concat([F_sat_hh_CO2, F_sat_hh_CH4, F_sat_hh_N2O],axis=1).T\n",
    "F_hh_GHG_.index = [\"CO2\", \"CH4\", \"N2O\"]\n",
    "\n",
    "# Aggregate F_sat_hh by region\n",
    "F_hh_GHG_reg = F_hh_GHG_.groupby(level=0, axis=1, sort=False).sum()\n",
    "\n",
    "F_hh_GHG_reg"
   ]
  },
  {
   "cell_type": "code",
   "execution_count": 19,
   "metadata": {},
   "outputs": [
    {
     "data": {
      "text/plain": [
       "region\n",
       "AT    12.756943\n",
       "BE    15.889312\n",
       "BG     7.072497\n",
       "CY    11.636641\n",
       "CZ    12.200267\n",
       "DE    14.368607\n",
       "DK    14.688278\n",
       "EE    15.041655\n",
       "ES     8.635758\n",
       "FI    15.034909\n",
       "FR     9.628982\n",
       "GR    14.943025\n",
       "HR     5.912843\n",
       "HU     7.474584\n",
       "IE    18.097559\n",
       "IT    10.461834\n",
       "LT     9.920193\n",
       "LU    35.721233\n",
       "LV     8.968882\n",
       "MT    17.744231\n",
       "NL    16.539988\n",
       "PL     9.823864\n",
       "PT     7.945518\n",
       "RO     5.568849\n",
       "SE    10.085219\n",
       "SI    10.782638\n",
       "SK    10.789558\n",
       "GB    13.476931\n",
       "US    22.644429\n",
       "JP    11.901278\n",
       "CN     8.036088\n",
       "CA    18.070868\n",
       "KR    15.049373\n",
       "BR     5.494303\n",
       "IN     2.603776\n",
       "MX     5.076482\n",
       "RU    10.337273\n",
       "AU    26.364487\n",
       "CH    14.816107\n",
       "TR     7.262026\n",
       "TW     9.246116\n",
       "NO    18.087145\n",
       "ID     3.342023\n",
       "ZA     6.989603\n",
       "WA     3.198766\n",
       "WL     5.725800\n",
       "WE     6.077016\n",
       "WF     2.308441\n",
       "WM     8.233952\n",
       "dtype: float64"
      ]
     },
     "execution_count": 19,
     "metadata": {},
     "output_type": "execute_result"
    }
   ],
   "source": [
    "# Footprint calculation\n",
    "e_CO2 = f_GHG.loc[\"CO2\"] @ L @ Y_reg + F_hh_GHG_reg.loc[\"CO2\"]\n",
    "e_CH4 = f_GHG.loc[\"CH4\"] @ L @ Y_reg + F_hh_GHG_reg.loc[\"CH4\"]\n",
    "e_N2O = f_GHG.loc[\"N2O\"] @ L @ Y_reg + F_hh_GHG_reg.loc[\"N2O\"]\n",
    "\n",
    "e_CO2eq = e_CO2 + e_CH4 + e_N2O\n",
    "\n",
    "# CO2_eq per capita\n",
    "e_CO2eq_pp = e_CO2eq/pop2015.values/1000 #convert the unit from kg to metric ton/capita\n",
    "\n",
    "e_CO2eq_pp"
   ]
  },
  {
   "cell_type": "markdown",
   "metadata": {},
   "source": [
    "#### 1.3 What is the proportion of CO2 emissions in CO2e in each region's carbon footprint measured in CO2e? (4 points)"
   ]
  },
  {
   "cell_type": "code",
   "execution_count": 20,
   "metadata": {},
   "outputs": [
    {
     "data": {
      "text/plain": [
       "(region\n",
       " AT    76.911585\n",
       " BE    74.319444\n",
       " BG    71.715219\n",
       " CY    84.348826\n",
       " CZ    78.843490\n",
       " DE    80.717822\n",
       " DK    79.487342\n",
       " EE    75.628829\n",
       " ES    72.448500\n",
       " FI    68.435687\n",
       " FR    71.892165\n",
       " GR    83.724753\n",
       " HR    67.517701\n",
       " HU    72.929075\n",
       " IE    64.780323\n",
       " IT    73.292521\n",
       " LT    68.069377\n",
       " LU    64.853413\n",
       " LV    67.383587\n",
       " MT    72.849815\n",
       " NL    74.496797\n",
       " PL    75.320452\n",
       " PT    69.131867\n",
       " RO    68.760287\n",
       " SE    71.226852\n",
       " SI    69.798565\n",
       " SK    71.309414\n",
       " GB    72.490066\n",
       " US    81.778739\n",
       " JP    84.425858\n",
       " CN    80.082957\n",
       " CA    78.301802\n",
       " KR    81.198245\n",
       " BR    44.887583\n",
       " IN    62.569440\n",
       " MX    68.827817\n",
       " RU    77.043127\n",
       " AU    70.692367\n",
       " CH    75.767547\n",
       " TR    70.730723\n",
       " TW    74.318011\n",
       " NO    74.864554\n",
       " ID    55.152768\n",
       " ZA    79.644091\n",
       " WA    64.541373\n",
       " WL    62.614838\n",
       " WE    63.292054\n",
       " WF    37.225620\n",
       " WM    79.093796\n",
       " dtype: float64,\n",
       " 84.42585759260712,\n",
       " 37.22561994383321)"
      ]
     },
     "execution_count": 20,
     "metadata": {},
     "output_type": "execute_result"
    }
   ],
   "source": [
    "# Proportion of CO2 emissions to GWP by country\n",
    "e_GWP = e_CO2 + e_CH4 + e_N2O\n",
    "CO2_to_CO2eq = e_CO2/e_GWP * 100\n",
    "\n",
    "CO2_to_CO2eq, CO2_to_CO2eq.max(), CO2_to_CO2eq.min() "
   ]
  },
  {
   "cell_type": "markdown",
   "metadata": {},
   "source": [
    "Double click on this cell to write your answer. Run the cell (ctrl+enter) once you are done writing so that it saves your input"
   ]
  },
  {
   "cell_type": "markdown",
   "metadata": {},
   "source": [
    "## Question 2: Territorial emissions (6 points)"
   ]
  },
  {
   "cell_type": "markdown",
   "metadata": {},
   "source": [
    "#### 2.1 What were the per capita territorial emissions of the US and China, respectively, in 2015? Only consider CO2 emissions here. (6 points)"
   ]
  },
  {
   "cell_type": "code",
   "execution_count": 21,
   "metadata": {},
   "outputs": [
    {
     "data": {
      "text/plain": [
       "region\n",
       "US    15.955813\n",
       "CN     7.315289\n",
       "dtype: float64"
      ]
     },
     "execution_count": 21,
     "metadata": {},
     "output_type": "execute_result"
    }
   ],
   "source": [
    "e_CO2_pba = np.diag(f_sat_CO2) @ x\n",
    "e_CO2_pba = e_CO2_pba.reshape(r,s).sum(1) + F_sat_hh_CO2_reg\n",
    "\n",
    "e_CO2_pba_pp = e_CO2_pba/pop2015.values/1000 #convert unit from kg to tonne/capita\n",
    "\n",
    "e_CO2_pba_pp.loc[[\"US\",\"CN\"]]"
   ]
  },
  {
   "cell_type": "markdown",
   "metadata": {},
   "source": [
    "## Question 3: Emissions embodied in trade (20 points)"
   ]
  },
  {
   "cell_type": "markdown",
   "metadata": {},
   "source": [
    "#### 3.1 Were the US and China net importers or exporters of CO2 emissions in 2015? (4 points)"
   ]
  },
  {
   "cell_type": "code",
   "execution_count": 22,
   "metadata": {},
   "outputs": [
    {
     "data": {
      "text/plain": [
       "region\n",
       "US     826.367883\n",
       "CN   -1194.159021\n",
       "dtype: float64"
      ]
     },
     "execution_count": 22,
     "metadata": {},
     "output_type": "execute_result"
    }
   ],
   "source": [
    "net_import = (e_CO2 - e_CO2_pba)*1e-9 # convert from kg to million metric ton\n",
    "net_import.loc[[\"US\",\"CN\"]]"
   ]
  },
  {
   "cell_type": "markdown",
   "metadata": {},
   "source": [
    "Double click on this cell to write your answer. Run the cell (ctrl+enter) once you are done writing so that it saves your input"
   ]
  },
  {
   "cell_type": "markdown",
   "metadata": {},
   "source": [
    "#### 3.2 Which were the top three regional contributers of US' and China's carbon footprints (only consider CO2 emissions), respectively, in 2015? (12 points)"
   ]
  },
  {
   "cell_type": "code",
   "execution_count": 23,
   "metadata": {},
   "outputs": [
    {
     "name": "stdout",
     "output_type": "stream",
     "text": [
      "region\n",
      "US    3.195043e+12\n",
      "CN    3.970129e+11\n",
      "CA    1.344926e+11\n",
      "Name: US, dtype: float64\n",
      "region\n",
      "CN    7.495721e+12\n",
      "WA    1.824185e+11\n",
      "WM    9.450926e+10\n",
      "Name: CN, dtype: float64\n"
     ]
    }
   ],
   "source": [
    "e_CO2_cont = np.diag(f_sat_CO2) @ L @ Y_reg\n",
    "e_CO2_US = e_CO2_cont.loc[:, \"US\"]\n",
    "e_CO2_CN = e_CO2_cont.loc[:, \"CN\"]\n",
    "\n",
    "e_CO2_US.index = Y.index\n",
    "e_CO2_CN.index = Y.index\n",
    "\n",
    "# print(e_CO2_US.groupby(level=0).sum().nlargest(n=3))\n",
    "# print(e_CO2_CN.groupby(level=0).sum().nlargest(n=3))\n",
    "\n",
    "print(e_CO2_US.groupby(level=0).sum().sort_values(ascending=False)[:3])\n",
    "print(e_CO2_CN.groupby(level=0).sum().sort_values(ascending=False)[:3])"
   ]
  },
  {
   "cell_type": "markdown",
   "metadata": {},
   "source": [
    "#### 3.3 By conducting emissions embodied in trade calculations, how much CO2 emissions did the US outsourced to China in 2015? (4 points)"
   ]
  },
  {
   "cell_type": "code",
   "execution_count": 24,
   "metadata": {},
   "outputs": [
    {
     "data": {
      "text/plain": [
       "338.84369064912204"
      ]
     },
     "execution_count": 24,
     "metadata": {},
     "output_type": "execute_result"
    }
   ],
   "source": [
    "e_CO2_US_to_CN = e_CO2_US.loc[\"CN\"].sum() - e_CO2_CN.loc[\"US\"].sum()\n",
    "e_CO2_US_to_CN * 1e-9"
   ]
  },
  {
   "cell_type": "markdown",
   "metadata": {},
   "source": [
    "The net outsourcing of CO2 emissions by the US to China in 2015 was 338.8 Mt CO2"
   ]
  },
  {
   "cell_type": "markdown",
   "metadata": {},
   "source": [
    "## Question 4 Environmental vs Economic Footprints Analysis (16 points)"
   ]
  },
  {
   "cell_type": "markdown",
   "metadata": {},
   "source": [
    "#### 4.1 Using the \"impact\" accounts, what were the value added footprints of the US and China, respectively, in 2015? (8 points)"
   ]
  },
  {
   "cell_type": "code",
   "execution_count": 25,
   "metadata": {},
   "outputs": [],
   "source": [
    "# Import impact accounts\n",
    "F_imp = pd.read_csv(f'{path}impacts/F.txt' , sep='\\t', index_col=[0], header=[0, 1])\n",
    "F_imp_hh = pd.read_csv(f'{path}impacts/F_y.txt' , sep='\\t', index_col=[0], header=[0, 1])"
   ]
  },
  {
   "cell_type": "code",
   "execution_count": 26,
   "metadata": {},
   "outputs": [
    {
     "data": {
      "text/html": [
       "<div>\n",
       "<style scoped>\n",
       "    .dataframe tbody tr th:only-of-type {\n",
       "        vertical-align: middle;\n",
       "    }\n",
       "\n",
       "    .dataframe tbody tr th {\n",
       "        vertical-align: top;\n",
       "    }\n",
       "\n",
       "    .dataframe thead th {\n",
       "        text-align: right;\n",
       "    }\n",
       "</style>\n",
       "<table border=\"1\" class=\"dataframe\">\n",
       "  <thead>\n",
       "    <tr style=\"text-align: right;\">\n",
       "      <th>region</th>\n",
       "      <th>US</th>\n",
       "      <th>CN</th>\n",
       "    </tr>\n",
       "  </thead>\n",
       "  <tbody>\n",
       "    <tr>\n",
       "      <th>0</th>\n",
       "      <td>52445.887193</td>\n",
       "      <td>7107.782845</td>\n",
       "    </tr>\n",
       "  </tbody>\n",
       "</table>\n",
       "</div>"
      ],
      "text/plain": [
       "region            US           CN\n",
       "0       52445.887193  7107.782845"
      ]
     },
     "execution_count": 26,
     "metadata": {},
     "output_type": "execute_result"
    }
   ],
   "source": [
    "# VA coefficients\n",
    "VA = F_imp[F_imp.index.str.contains(\"Value Added\")]\n",
    "f_VA = VA.values @ inv_diag_x_\n",
    "e_VA = f_VA @ L @ Y_reg\n",
    "\n",
    "e_VA_pp = e_VA/pop2015.values*1e6 \n",
    "\n",
    "e_VA_pp.loc[:, [\"US\", \"CN\"]]\n",
    " "
   ]
  },
  {
   "cell_type": "markdown",
   "metadata": {},
   "source": [
    "#### 4.2 Make two main observations on the carbon vs value added footprint results regarding the relationships between the US and China? Please refer to the carbon footprint results obtained in Question 1 (8 points)"
   ]
  },
  {
   "cell_type": "markdown",
   "metadata": {},
   "source": [
    "Double click on this cell to write your answer. Run the cell (ctrl+enter) once you are done writing so that it saves your input"
   ]
  }
 ],
 "metadata": {
  "celltoolbar": "Slideshow",
  "kernelspec": {
   "display_name": "Python 3 (ipykernel)",
   "language": "python",
   "name": "python3"
  },
  "language_info": {
   "codemirror_mode": {
    "name": "ipython",
    "version": 3
   },
   "file_extension": ".py",
   "mimetype": "text/x-python",
   "name": "python",
   "nbconvert_exporter": "python",
   "pygments_lexer": "ipython3",
   "version": "3.10.2"
  }
 },
 "nbformat": 4,
 "nbformat_minor": 4
}
