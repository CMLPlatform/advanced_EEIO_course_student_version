{
 "cells": [
  {
   "attachments": {},
   "cell_type": "markdown",
   "metadata": {
    "slideshow": {
     "slide_type": "slide"
    }
   },
   "source": [
    "# Mock mid-term exam\n",
    "\n",
    "## Topic of the exam: Pre-BREXIT analysis of Non-metallic Minerals vs. Metal Ores. \n",
    "\n",
    "Please ensure that you run each cell (ctrl+enter) so that your inputs are saved \n",
    "\n",
    "All questions have either coding cell or a text cell, or a combination of the two. \n",
    "\n",
    "You are allowed to create additional cells for each answer to facilitate your work  "
   ]
  },
  {
   "attachments": {},
   "cell_type": "markdown",
   "metadata": {
    "slideshow": {
     "slide_type": "slide"
    }
   },
   "source": [
    "## Data preparation: Download and import exiobase"
   ]
  },
  {
   "attachments": {},
   "cell_type": "markdown",
   "metadata": {},
   "source": [
    "Data to be used in the exam: **year 2016 industry-by-industry format**\n",
    "\n",
    "Link to the data: https://zenodo.org/record/5589597"
   ]
  },
  {
   "cell_type": "code",
   "execution_count": 1,
   "metadata": {
    "slideshow": {
     "slide_type": "fragment"
    }
   },
   "outputs": [],
   "source": [
    "# Import modules\n",
    "import pandas as pd\n",
    "import numpy as np"
   ]
  },
  {
   "cell_type": "code",
   "execution_count": 2,
   "metadata": {
    "slideshow": {
     "slide_type": "subslide"
    }
   },
   "outputs": [],
   "source": [
    "# Import here your data\n",
    "path = \"data/IOT_2016_ixi/\"\n",
    "A = pd.read_csv(f'{path}A.txt', sep='\\t', index_col=[0, 1], header=[0, 1])\n",
    "Y = pd.read_csv(f'{path}Y.txt' , sep='\\t', index_col=[0, 1], header=[0, 1])"
   ]
  },
  {
   "cell_type": "code",
   "execution_count": 3,
   "metadata": {},
   "outputs": [],
   "source": [
    "# Import satellite accounts\n",
    "F_sat = pd.read_csv(f'{path}satellite/F.txt' , sep='\\t', index_col=[0], header=[0, 1])\n",
    "F_sat_hh = pd.read_csv(f'{path}satellite/F_y.txt' , sep='\\t', index_col=[0], header=[0, 1])"
   ]
  },
  {
   "attachments": {},
   "cell_type": "markdown",
   "metadata": {
    "slideshow": {
     "slide_type": "slide"
    }
   },
   "source": [
    "## Question 1: Territorial accounting (10 points)"
   ]
  },
  {
   "attachments": {},
   "cell_type": "markdown",
   "metadata": {
    "slideshow": {
     "slide_type": "fragment"
    }
   },
   "source": [
    "### Q1.1 What was the UK's domestic extractions of non-metallic minerals in 2016? (10 points) \n",
    "Hint 1: use the environmental extensions with keywords: \"Domestic Extraction Used - Non-Metallic Minerals\"\n",
    "\n",
    "Hint 2: UK's acronym is GB (i.e., Great Britain) in ISO3 "
   ]
  },
  {
   "cell_type": "code",
   "execution_count": 4,
   "metadata": {},
   "outputs": [
    {
     "data": {
      "text/plain": [
       "204114.6671573314"
      ]
     },
     "execution_count": 4,
     "metadata": {},
     "output_type": "execute_result"
    }
   ],
   "source": [
    "F_minerals_ = F_sat.loc[F_sat.index.str.contains(\"Domestic Extraction Used - Non-Metallic Minerals\")]\n",
    "F_minerals_hh = F_sat_hh.loc[F_sat_hh.index.str.contains(\"Domestic Extraction Used - Non-Metallic Minerals\")]\n",
    "F_minerals_tot_ter = pd.concat([F_minerals_.loc[:,\"GB\"], F_minerals_hh.loc[:,\"GB\"]], axis=1).sum().sum()\n",
    "F_minerals_tot_ter"
   ]
  },
  {
   "attachments": {},
   "cell_type": "markdown",
   "metadata": {},
   "source": [
    "## Question 2: Footprint analysis (10 points)"
   ]
  },
  {
   "attachments": {},
   "cell_type": "markdown",
   "metadata": {},
   "source": [
    "### Q2.1 What was the UK's non-metallic mineral footprint in 2016? (10 points)"
   ]
  },
  {
   "cell_type": "code",
   "execution_count": 5,
   "metadata": {
    "slideshow": {
     "slide_type": "slide"
    }
   },
   "outputs": [],
   "source": [
    "# Calculate the rest of MRIO variables\n",
    "I = np.identity(A.shape[0])\n",
    "L = np.linalg.inv(I-A)\n",
    "x = L @ Y.sum(axis=1)"
   ]
  },
  {
   "cell_type": "code",
   "execution_count": 6,
   "metadata": {
    "slideshow": {
     "slide_type": "slide"
    }
   },
   "outputs": [],
   "source": [
    "x_ = x.copy()\n",
    "x_[x_!=0] = 1/x_[x_!=0]\n",
    "inv_diag_x_ = np.diag(x_)"
   ]
  },
  {
   "cell_type": "code",
   "execution_count": 7,
   "metadata": {
    "slideshow": {
     "slide_type": "subslide"
    }
   },
   "outputs": [],
   "source": [
    "# Intensities of non-metallic minerals \n",
    "f_minerals = F_minerals_.sum() @ inv_diag_x_ "
   ]
  },
  {
   "cell_type": "code",
   "execution_count": 8,
   "metadata": {},
   "outputs": [],
   "source": [
    "Y_reg = Y.groupby(level=0, axis=1, sort=False).sum()"
   ]
  },
  {
   "cell_type": "code",
   "execution_count": 9,
   "metadata": {},
   "outputs": [
    {
     "data": {
      "text/plain": [
       "291457.89122951834"
      ]
     },
     "execution_count": 9,
     "metadata": {},
     "output_type": "execute_result"
    }
   ],
   "source": [
    "e_minerals = f_minerals @ L @ Y_reg.loc[:, \"GB\"] + F_minerals_hh.loc[:, \"GB\"].sum().sum()\n",
    "e_minerals"
   ]
  },
  {
   "attachments": {},
   "cell_type": "markdown",
   "metadata": {},
   "source": [
    "## Questions 3: Trade (15 points)"
   ]
  },
  {
   "attachments": {},
   "cell_type": "markdown",
   "metadata": {},
   "source": [
    "### Q3.1: Based on Q1 & Q2, was the UK a net importer or net exporter of non-metallic minerals in 2016? (3 points)"
   ]
  },
  {
   "cell_type": "code",
   "execution_count": 10,
   "metadata": {},
   "outputs": [
    {
     "data": {
      "text/plain": [
       "87343.22407218695"
      ]
     },
     "execution_count": 10,
     "metadata": {},
     "output_type": "execute_result"
    }
   ],
   "source": [
    "# Insert here your calculations\n",
    "net_import = e_minerals - F_minerals_tot_ter\n",
    "net_import"
   ]
  },
  {
   "attachments": {},
   "cell_type": "markdown",
   "metadata": {},
   "source": [
    "The UK was a net importer of non-metallic minerals in 2016"
   ]
  },
  {
   "attachments": {},
   "cell_type": "markdown",
   "metadata": {},
   "source": [
    "### Q3.2: Perform MRIO calculation and identify the top three regions from which the UK imported non-metallic minerals in 2016 (12 points)"
   ]
  },
  {
   "cell_type": "code",
   "execution_count": 11,
   "metadata": {},
   "outputs": [
    {
     "data": {
      "text/plain": [
       "IN    33566.719712\n",
       "CN    27925.048258\n",
       "WA    20235.464480\n",
       "dtype: float64"
      ]
     },
     "execution_count": 11,
     "metadata": {},
     "output_type": "execute_result"
    }
   ],
   "source": [
    "e_minerals = np.diag(f_minerals) @ L @ Y_reg\n",
    "\n",
    "e_minerals.index = Y.index\n",
    "\n",
    "region_labels = Y.index.to_frame(index=False).region.unique()\n",
    "sector_labels = Y.index.to_frame(index=False).sector.unique()\n",
    "\n",
    "CBA_minerals = pd.DataFrame(e_minerals.loc[:, \"GB\"].values.reshape(49,163), columns=sector_labels, index=region_labels).sum(axis=1)\n",
    "\n",
    "CBA_minerals[CBA_minerals.index!=\"GB\"].sort_values(ascending=False).head(3)"
   ]
  },
  {
   "attachments": {},
   "cell_type": "markdown",
   "metadata": {},
   "source": [
    "## Question 4: Dashboard analysis - Non-metallic Minerals vs. Metal Ores (25 points)"
   ]
  },
  {
   "attachments": {},
   "cell_type": "markdown",
   "metadata": {},
   "source": [
    "### Q4.1 Quantify the reliance of the UK on each of the two global regions, EU27 and Non-EU27, in 2016 concerning Non-Metallic minerals and Metal Ores. (10 points)\n",
    "\n",
    "Hint 1: Replicate Qs 2-3 for metal ores\n",
    "\n",
    "Hint 2: use the environmental extensions with keywords: \"Domestic Extraction Used - Metal Ores\"\n",
    "\n",
    "Hint 3: remember that the first 27 regions in exiobase are the EU27\n",
    "\n",
    "Hint 4: use the last 21 countries/regions in exiobase for Non-EU27"
   ]
  },
  {
   "cell_type": "code",
   "execution_count": 12,
   "metadata": {},
   "outputs": [
    {
     "data": {
      "text/plain": [
       "18.20531396715915"
      ]
     },
     "execution_count": 12,
     "metadata": {},
     "output_type": "execute_result"
    }
   ],
   "source": [
    "F_metals_ = F_sat.loc[F_sat.index.str.contains(\"Domestic Extraction Used - Metal Ores\")]\n",
    "F_metals_hh = F_sat_hh.loc[F_sat_hh.index.str.contains(\"Domestic Extraction Used - Metal Ores\")]\n",
    "\n",
    "# Total territorial emissions\n",
    "F_metals_tot_ter = F_metals_.loc[:,\"GB\"].sum().sum() + F_metals_hh.loc[:,\"GB\"].sum().sum()\n",
    "F_metals_tot_ter"
   ]
  },
  {
   "cell_type": "code",
   "execution_count": 13,
   "metadata": {},
   "outputs": [],
   "source": [
    "geo_e_minerals = e_minerals.groupby(level=0, axis=0, sort=False).sum()"
   ]
  },
  {
   "cell_type": "code",
   "execution_count": 14,
   "metadata": {},
   "outputs": [
    {
     "data": {
      "text/plain": [
       "58738.837395005765"
      ]
     },
     "execution_count": 14,
     "metadata": {},
     "output_type": "execute_result"
    }
   ],
   "source": [
    "geo_e_minerals.GB.iloc[:27].sum()"
   ]
  },
  {
   "cell_type": "code",
   "execution_count": 15,
   "metadata": {},
   "outputs": [
    {
     "data": {
      "text/html": [
       "<div>\n",
       "<style scoped>\n",
       "    .dataframe tbody tr th:only-of-type {\n",
       "        vertical-align: middle;\n",
       "    }\n",
       "\n",
       "    .dataframe tbody tr th {\n",
       "        vertical-align: top;\n",
       "    }\n",
       "\n",
       "    .dataframe thead th {\n",
       "        text-align: right;\n",
       "    }\n",
       "</style>\n",
       "<table border=\"1\" class=\"dataframe\">\n",
       "  <thead>\n",
       "    <tr style=\"text-align: right;\">\n",
       "      <th></th>\n",
       "      <th>non_metallic_minerals, kt</th>\n",
       "    </tr>\n",
       "  </thead>\n",
       "  <tbody>\n",
       "    <tr>\n",
       "      <th>UK_dependency_on_EU</th>\n",
       "      <td>14631.080459</td>\n",
       "    </tr>\n",
       "    <tr>\n",
       "      <th>UK_dependency_on_ROW</th>\n",
       "      <td>72712.143613</td>\n",
       "    </tr>\n",
       "  </tbody>\n",
       "</table>\n",
       "</div>"
      ],
      "text/plain": [
       "                      non_metallic_minerals, kt\n",
       "UK_dependency_on_EU                14631.080459\n",
       "UK_dependency_on_ROW               72712.143613"
      ]
     },
     "execution_count": 15,
     "metadata": {},
     "output_type": "execute_result"
    }
   ],
   "source": [
    "minerals_UK_CBA = geo_e_minerals.loc[:, \"GB\"] \n",
    "minerals_UK_PBA = geo_e_minerals.loc[\"GB\", :]\n",
    "\n",
    "minerals_UK_trade_rel = minerals_UK_CBA - minerals_UK_PBA\n",
    "\n",
    "minerals_UK_trade_rel_EU = minerals_UK_trade_rel.iloc[:27].sum()\n",
    "minerals_UK_trade_rel_ROW = minerals_UK_trade_rel.iloc[-21:].sum()\n",
    "\n",
    "UK_dependency_minerals = pd.DataFrame([minerals_UK_trade_rel_EU, minerals_UK_trade_rel_ROW], index=[\"UK_dependency_on_EU\",\"UK_dependency_on_ROW\"], columns=[\"non_metallic_minerals, kt\"]) \n",
    "\n",
    "UK_dependency_minerals\n"
   ]
  },
  {
   "cell_type": "code",
   "execution_count": 16,
   "metadata": {},
   "outputs": [],
   "source": [
    "# Intensities of metals ores \n",
    "f_metals = F_metals_.sum() @ inv_diag_x_ "
   ]
  },
  {
   "cell_type": "code",
   "execution_count": 17,
   "metadata": {},
   "outputs": [],
   "source": [
    "e_metals = np.diag(f_metals) @ L @ Y.groupby(level=0, axis=1, sort=False).sum()\n",
    "e_metals.index = Y.index"
   ]
  },
  {
   "cell_type": "code",
   "execution_count": 18,
   "metadata": {},
   "outputs": [],
   "source": [
    "geo_e_metals = e_metals.groupby(level=0, axis=0, sort=False).sum()"
   ]
  },
  {
   "cell_type": "code",
   "execution_count": 19,
   "metadata": {},
   "outputs": [
    {
     "data": {
      "text/html": [
       "<div>\n",
       "<style scoped>\n",
       "    .dataframe tbody tr th:only-of-type {\n",
       "        vertical-align: middle;\n",
       "    }\n",
       "\n",
       "    .dataframe tbody tr th {\n",
       "        vertical-align: top;\n",
       "    }\n",
       "\n",
       "    .dataframe thead th {\n",
       "        text-align: right;\n",
       "    }\n",
       "</style>\n",
       "<table border=\"1\" class=\"dataframe\">\n",
       "  <thead>\n",
       "    <tr style=\"text-align: right;\">\n",
       "      <th></th>\n",
       "      <th>metal_ores, kt</th>\n",
       "    </tr>\n",
       "  </thead>\n",
       "  <tbody>\n",
       "    <tr>\n",
       "      <th>UK_dependency_on_EU</th>\n",
       "      <td>11985.258124</td>\n",
       "    </tr>\n",
       "    <tr>\n",
       "      <th>UK_dependency_on_ROW</th>\n",
       "      <td>68503.823830</td>\n",
       "    </tr>\n",
       "  </tbody>\n",
       "</table>\n",
       "</div>"
      ],
      "text/plain": [
       "                      metal_ores, kt\n",
       "UK_dependency_on_EU     11985.258124\n",
       "UK_dependency_on_ROW    68503.823830"
      ]
     },
     "execution_count": 19,
     "metadata": {},
     "output_type": "execute_result"
    }
   ],
   "source": [
    "metals_UK_CBA = geo_e_metals.loc[:, \"GB\"] \n",
    "metals_UK_PBA = geo_e_metals.loc[\"GB\", :]\n",
    "\n",
    "metals_UK_trade_rel = metals_UK_CBA - metals_UK_PBA\n",
    "\n",
    "metals_UK_trade_rel_EU = metals_UK_trade_rel.iloc[:27].sum()\n",
    "metals_UK_trade_rel_ROW = metals_UK_trade_rel.iloc[-21:].sum()\n",
    "\n",
    "\n",
    "UK_dependency_metals = pd.DataFrame([metals_UK_trade_rel_EU, metals_UK_trade_rel_ROW], index=[\"UK_dependency_on_EU\",\"UK_dependency_on_ROW\"], columns=[\"metal_ores, kt\"]) \n",
    "\n",
    "UK_dependency_metals\n"
   ]
  },
  {
   "cell_type": "code",
   "execution_count": 20,
   "metadata": {},
   "outputs": [
    {
     "data": {
      "text/html": [
       "<div>\n",
       "<style scoped>\n",
       "    .dataframe tbody tr th:only-of-type {\n",
       "        vertical-align: middle;\n",
       "    }\n",
       "\n",
       "    .dataframe tbody tr th {\n",
       "        vertical-align: top;\n",
       "    }\n",
       "\n",
       "    .dataframe thead th {\n",
       "        text-align: right;\n",
       "    }\n",
       "</style>\n",
       "<table border=\"1\" class=\"dataframe\">\n",
       "  <thead>\n",
       "    <tr style=\"text-align: right;\">\n",
       "      <th></th>\n",
       "      <th>non_metallic_minerals, kt</th>\n",
       "      <th>metal_ores, kt</th>\n",
       "    </tr>\n",
       "  </thead>\n",
       "  <tbody>\n",
       "    <tr>\n",
       "      <th>UK_dependency_on_EU</th>\n",
       "      <td>14631.080459</td>\n",
       "      <td>11985.258124</td>\n",
       "    </tr>\n",
       "    <tr>\n",
       "      <th>UK_dependency_on_ROW</th>\n",
       "      <td>72712.143613</td>\n",
       "      <td>68503.823830</td>\n",
       "    </tr>\n",
       "  </tbody>\n",
       "</table>\n",
       "</div>"
      ],
      "text/plain": [
       "                      non_metallic_minerals, kt  metal_ores, kt\n",
       "UK_dependency_on_EU                14631.080459    11985.258124\n",
       "UK_dependency_on_ROW               72712.143613    68503.823830"
      ]
     },
     "execution_count": 20,
     "metadata": {},
     "output_type": "execute_result"
    }
   ],
   "source": [
    "# Depedency dashboard net imports from EU27 and ROW\n",
    "dashboard = pd.concat([UK_dependency_minerals, UK_dependency_metals],axis=1)\n",
    "dashboard"
   ]
  },
  {
   "cell_type": "code",
   "execution_count": 21,
   "metadata": {},
   "outputs": [
    {
     "data": {
      "text/html": [
       "<div>\n",
       "<style scoped>\n",
       "    .dataframe tbody tr th:only-of-type {\n",
       "        vertical-align: middle;\n",
       "    }\n",
       "\n",
       "    .dataframe tbody tr th {\n",
       "        vertical-align: top;\n",
       "    }\n",
       "\n",
       "    .dataframe thead th {\n",
       "        text-align: right;\n",
       "    }\n",
       "</style>\n",
       "<table border=\"1\" class=\"dataframe\">\n",
       "  <thead>\n",
       "    <tr style=\"text-align: right;\">\n",
       "      <th></th>\n",
       "      <th>non_metallic_minerals, %</th>\n",
       "      <th>metal_ores, %</th>\n",
       "    </tr>\n",
       "  </thead>\n",
       "  <tbody>\n",
       "    <tr>\n",
       "      <th>UK_dependency_on_EU</th>\n",
       "      <td>5.02</td>\n",
       "      <td>14.89</td>\n",
       "    </tr>\n",
       "    <tr>\n",
       "      <th>UK_dependency_on_ROW</th>\n",
       "      <td>24.95</td>\n",
       "      <td>85.09</td>\n",
       "    </tr>\n",
       "  </tbody>\n",
       "</table>\n",
       "</div>"
      ],
      "text/plain": [
       "                      non_metallic_minerals, %  metal_ores, %\n",
       "UK_dependency_on_EU                       5.02          14.89\n",
       "UK_dependency_on_ROW                     24.95          85.09"
      ]
     },
     "execution_count": 21,
     "metadata": {},
     "output_type": "execute_result"
    }
   ],
   "source": [
    "# Dependency dashboard net imports from EU27 and ROW relative to total footprint \n",
    "\n",
    "dashboard_relative = round(dashboard / np.array([minerals_UK_CBA.sum(), metals_UK_CBA.sum()]) *100, 2)\n",
    "dashboard_relative.columns = [\"non_metallic_minerals, %\", \"metal_ores, %\"]\n",
    "dashboard_relative"
   ]
  },
  {
   "attachments": {},
   "cell_type": "markdown",
   "metadata": {},
   "source": [
    "### Q4.2 Focusing on the two types of materials, describe three significantly different findings about the UK's material reliance on the EU27 vs the rest of the world. (15 points)\n",
    "\n",
    "The description for each finding should:\n",
    "\n",
    "1) be supported by numerical results you obtained from above calculations and based on comparisons of numerical results; \n",
    "\n",
    "2) contains your reflections about the UK's trade relationship in the context of BREXIT.\n"
   ]
  },
  {
   "attachments": {},
   "cell_type": "markdown",
   "metadata": {},
   "source": [
    "_write your answer here_"
   ]
  }
 ],
 "metadata": {
  "celltoolbar": "Slideshow",
  "kernelspec": {
   "display_name": "Python 3 (ipykernel)",
   "language": "python",
   "name": "python3"
  },
  "language_info": {
   "codemirror_mode": {
    "name": "ipython",
    "version": 3
   },
   "file_extension": ".py",
   "mimetype": "text/x-python",
   "name": "python",
   "nbconvert_exporter": "python",
   "pygments_lexer": "ipython3",
   "version": "3.9.16"
  }
 },
 "nbformat": 4,
 "nbformat_minor": 4
}
