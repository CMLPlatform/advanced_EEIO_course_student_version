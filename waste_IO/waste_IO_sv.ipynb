{
 "cells": [
  {
   "cell_type": "markdown",
   "metadata": {},
   "source": [
    "# Practical 8: Waste Input-Output\n",
    "\n",
    "Objectives:\n",
    "- Understand the structure of a WIOT\n",
    "- Build a WIO model in Python\n",
    "- Analyze data from a WIO model\n",
    "\n",
    "The methods used in this practical sessions come from:\n",
    "Nakamura, S. and Kondo, Y. (2002), Input-Output Analysis of Waste Management. Journal of Industrial Ecology, 6: 39-63. https://doi.org/10.1162/108819802320971632"
   ]
  },
  {
   "cell_type": "code",
   "execution_count": null,
   "metadata": {},
   "outputs": [],
   "source": [
    "# Import packages\n",
    "import pandas as pd\n",
    "import numpy as np"
   ]
  },
  {
   "cell_type": "markdown",
   "metadata": {},
   "source": [
    "## Exercise 1: Conceptual understanding of waste input output tables and their treatment of economic and physical flows. "
   ]
  },
  {
   "cell_type": "markdown",
   "metadata": {},
   "source": [
    "<table>\n",
    "<tr><td>\n",
    "\n",
    "|   |  E  | WT |\n",
    "|---|-----|----|\n",
    "| E | 52  | 22 |\n",
    "| WT| 349 | 44 |\n",
    "\n",
    "</td><td>\n",
    "\n",
    "|  y  |\n",
    "|-----|\n",
    "| 100 |\n",
    "| 50  |\n",
    "\n",
    "</td></tr> </table>\n",
    "\n",
    "<em>Table 1: WIOT of a country</em>\n",
    "\n"
   ]
  },
  {
   "cell_type": "markdown",
   "metadata": {},
   "source": [
    "### Question 1.1: What are the expected units in the following parts of the simplified WIO system shown above? \n",
    "\n",
    "- E-WT quadrant (i.e., with value 22)\n",
    "- WT-WT quadrant (i.e., with value 44)\n",
    "- and in Y (i.e., with values 100 and 50)"
   ]
  },
  {
   "cell_type": "markdown",
   "metadata": {},
   "source": [
    "### Question 1.2: Estimate the A-matrix. What do the coefficient represent in each quadrant? \n",
    "\n"
   ]
  },
  {
   "cell_type": "code",
   "execution_count": null,
   "metadata": {},
   "outputs": [],
   "source": [
    "Z = None\n",
    "y = None\n",
    "x = None\n",
    "inv_diag_x = None \n",
    "A = None\n",
    "A,x"
   ]
  },
  {
   "cell_type": "markdown",
   "metadata": {},
   "source": [
    "## Exercise 2: Construct a Waste Input-Output model in Python and analyse the waste streams linked to economic activity\n",
    "\n",
    "Use the data provided and the following figures to help you\n",
    "\n",
    "- _Data adapted from source: https://www.f.waseda.jp/nakashin/WIO/wio2000sec103_0.06b_eng.xls_\n",
    "- _For additional info: http://www.f.waseda.jp/nakashin/WIO.html_\n",
    "\n",
    "<table>\n",
    "<tr  style='border-collapse: collapse'>\n",
    "<td>\n",
    "\n",
    "|      **Z**      |   Economic sector    |    Waste treatment     |\n",
    "|-----------------|----------------------|------------------------|\n",
    "| Economic sector | **Z**<sub>E,E</sub>  |  **Z**<sub>E,WT</sub>  |\n",
    "| Waste treatment | **Z**<sub>WT,E</sub> |  **Z**<sub>WT,WT</sub> |\n",
    "-------------------------------------------------------------------\n",
    "|      **r**'     |                      |                        |\n",
    "|-----------------|----------------------|------------------------|\n",
    "|   Emissions     | Econ. Sec. emissions | Waste Treat. emissions |\n",
    "\n",
    "</td>\n",
    "<td>\n",
    "\n",
    "|  **Y**             |\n",
    "|--------------------|\n",
    "|  **Y**<sub>E</sub> |\n",
    "| **Y**<sub>WT</sub> |\n",
    "\n",
    "----------------------\n",
    "| **h**              |\n",
    "|--------------------|\n",
    "|      Emissions     |\n",
    "\n",
    "</td>\n",
    "</tr> \n",
    "</table>\n",
    "<em>Table 2: Basic structure of a WIOT</em>\n",
    "\n"
   ]
  },
  {
   "cell_type": "markdown",
   "metadata": {},
   "source": [
    "| ![Waste Input-Output Accounting structure](figures/wio_1.gif) | \n",
    "|:--:| \n",
    "| *Waste Input-Output Accounting structure (Nakamura and Kondo, 2009)* |"
   ]
  },
  {
   "cell_type": "markdown",
   "metadata": {},
   "source": [
    "#### 2.1 Import data"
   ]
  },
  {
   "cell_type": "code",
   "execution_count": null,
   "metadata": {},
   "outputs": [],
   "source": [
    "file_data = None # use 'Japan_WIO2000sec103.xlsx'\n",
    "# Input-output table, including intermediate and final demand matrix\n",
    "ZYeconomy = None\n",
    "# Waste account, including intermediate and final demand matrix\n",
    "ZYwaste = None\n",
    "# VA and satellite account\n",
    "F = None\n",
    "# Waste allocation matrix\n",
    "Q = None\n",
    "# units\n",
    "unit = None"
   ]
  },
  {
   "cell_type": "markdown",
   "metadata": {},
   "source": [
    "#### 2.2 identify the number of sectors and sector headers"
   ]
  },
  {
   "cell_type": "code",
   "execution_count": null,
   "metadata": {},
   "outputs": [],
   "source": [
    "n_e = None # 103 number of economic sectors\n",
    "n_wt = None # 13 number of waste treatment sectors\n",
    "n_y = None # 11 number of final demand categories\n",
    "n_w = None # 79 number of waste flows"
   ]
  },
  {
   "cell_type": "markdown",
   "metadata": {},
   "source": [
    "### 2.3 Separate the following variables:\n",
    "\n",
    "Look at the provided tables and separate the following elements: \n",
    "\n",
    "- **Z_e_e**: The inter-industry transactions of the economic transactions (i.e., IO economy with the 103 economic sectors)\n",
    "- **Z_e_wt**: The inter-industry transactions concerning waste (i.e., the IO 13 waste treatment categories)\n",
    "\n",
    "- **Y**: The final demand matrix (i.e., the 11 final demand categories)\n",
    "\n",
    "- **Z_wo_e**: The waste outflows of the 103 economic sectors\n",
    "- **Z_wi_e**: The waste inflows of the 103 economic sectors\n",
    "\n",
    "- **Z_wo_wt**: The waste outflows of the 13 waste treatments \n",
    "- **Z_wi_wt**: The waste inflows of the 13 waste treatments\n",
    "\n",
    "- **Y_wi**: The waste inflows of the 11 final demand categories\n",
    "- **Y_wo**: The waste outflows of the 11 final demand categories"
   ]
  },
  {
   "cell_type": "code",
   "execution_count": null,
   "metadata": {},
   "outputs": [],
   "source": [
    "Z_e_e = None # IO economy with the 103 economic sectors\n",
    "Z_e_wt = None # IO waste treatment with the 13 waste treatment categories\n",
    "Y_e = None # Final demand matrix\n",
    "\n",
    "Z_wo_e = None # Waste outflow of 103 economic sectors\n",
    "Z_wi_e = None # Waste inflow of 103 economic sectors\n",
    "\n",
    "Z_wo_wt = None # Waste outflow of 13 waste treatments\n",
    "Z_wi_wt = None # Waste inflow of 13 waste treatments\n",
    "\n",
    "Y_wo = None # Waste outflow of 11 final demand categories\n",
    "Y_wi = None # Waste inflow of 11 final demand categories\n"
   ]
  },
  {
   "cell_type": "markdown",
   "metadata": {},
   "source": [
    "### 2.4 Calculate net waste flows: \n",
    "\n",
    "\n",
    "**Z_wf_e**: Net waste flow of 103 economic sectors\n",
    "\n",
    "- given by $\\mathbf{Z}_{WF,E} = \\mathbf{Z}_{WFO,E} - \\mathbf{Z}_{WFI,E}$\n",
    "- where $\\mathbf{Z}_{WF,E}$ are the net waste flows for economic sector E,\n",
    "- $\\mathbf{Z}_{WFO,E}$ are the waste outflows for economic sector E\n",
    "- and $\\mathbf{Z}_{WFI,E}$ is the waste inflow for economic sector E;\n",
    "\n",
    "**Z_wf_wt**: Net waste flow of 13 waste treatmets\n",
    "- given by $\\mathbf{Z}_{WF,WT} = \\mathbf{Z}_{WFO,WT} - \\mathbf{Z}_{WFI,WT}$\n",
    "- where $\\mathbf{Z}_{WF,WT}$ are the net waste flows for waste treatment sector WT, \n",
    "- $\\mathbf{Z}_{WFO,WT}$ are the waste outflows for waste treatment sector WT, \n",
    "- and $\\mathbf{Z}_{WFI,WT}$ is the waste inflow for waste treatment sector WT;\n",
    "\n",
    "**Y_wf**: Net waste flow of 11 final demand categories\n",
    "- given by $\\mathbf{Y}_{WF} = \\mathbf{Y}_{WFO} - \\mathbf{Y}_{WFI}$\n",
    "- where $\\mathbf{Y}_{WF}$ are the net waste flows for final demand Y, \n",
    "- $\\mathbf{Y}_{WFO}$ is the waste outflows for final demand Y, \n",
    "- and $\\mathbf{Y}_{WFI}$ is the waste inflow for final demand Y.\n",
    "\n"
   ]
  },
  {
   "cell_type": "code",
   "execution_count": null,
   "metadata": {},
   "outputs": [],
   "source": [
    "Z_wf_e_net = None # Net waste flow of 103 economic sectors.\n",
    "Z_wf_wt_net = None # Net waste flow of 13 waste treatmets\n",
    "Y_wf_net = None # Net waste flow of 11 final demand categories"
   ]
  },
  {
   "cell_type": "markdown",
   "metadata": {},
   "source": [
    "### 2.5 Covert waste flows into waste treatments:\n",
    "\n",
    "**Z_wt_e**: Matrix of waste flows generated and/or absorbed by 103 economic sector\n",
    "- given by $\\mathbf{Z}_{WT,E} = \\mathbf{Q} \\mathbf{Z}_{WF,E}$\n",
    "- where $\\mathbf{Z}_{WT,E}$ is a matrix of waste flows generated and/or absorbed by economic sector E\n",
    "- and $\\mathbf{Q}$ is the allocation matrix;\n",
    "\n",
    "**Z_wt_wt**: Matrix of waste flows generated and/or absorbed by 13 waste treatment sectors sector\n",
    "- given by $\\mathbf{Z}_{WT,WT} = \\mathbf{Q} \\mathbf{Z}_{WF,WT}$\n",
    "- where $\\mathbf{Z}_{WT,WT}$ is a matrix of waste flows generated and/or absorbed by waste treatment sector WT;\n",
    "\n",
    "**Y_wt**: Matrix of waste flows generated and/or absorbed by 11 final demand categories\n",
    "- given by $\\mathbf{Y}_{WT} = \\mathbf{Q} \\mathbf{Y}_{WF}$\n",
    "- where $\\mathbf{Y}_{WT}$ is a matrix of waste flows generated by final demand $\\mathbf{Y}$."
   ]
  },
  {
   "cell_type": "code",
   "execution_count": null,
   "metadata": {},
   "outputs": [],
   "source": [
    "Z_wt_e = None # Matrix of waste flows generated and/or absorbed by 103 economic sector\n",
    "Z_wt_wt = None  # Matrix of waste flows generated and/or absorbed by 13 waste treatment sectors sector\n",
    "Y_wt = None  # Matrix of waste flows generated and/or absorbed by 11 final demand categories\n",
    "\n",
    "# Reapply any missing labels\n"
   ]
  },
  {
   "cell_type": "markdown",
   "metadata": {},
   "source": [
    "### 2.6 Group matrices in a WIOT arrangement"
   ]
  },
  {
   "cell_type": "code",
   "execution_count": null,
   "metadata": {},
   "outputs": [],
   "source": [
    "wiot_e = None # Concat Z_e_e and Z_e_wt block\n",
    "wiot_wt = None # Concat Z_wt_e and Z_wt_wt block\n",
    "\n",
    "Z_wiot = None # Integrate WIOT\n",
    "Y_wiot = None # Concat Y_e and Y_wt"
   ]
  },
  {
   "cell_type": "code",
   "execution_count": null,
   "metadata": {},
   "outputs": [],
   "source": [
    "Z_wiot.head()"
   ]
  },
  {
   "cell_type": "code",
   "execution_count": null,
   "metadata": {},
   "outputs": [],
   "source": [
    "Y_wiot.head()"
   ]
  },
  {
   "cell_type": "markdown",
   "metadata": {},
   "source": [
    "## Exercise 3: From a consumption-based perspective, which are the major contributors to landfill area footprint?"
   ]
  },
  {
   "cell_type": "markdown",
   "metadata": {},
   "source": [
    "### 3.1 Calculate Leontief inverse"
   ]
  },
  {
   "cell_type": "code",
   "execution_count": null,
   "metadata": {},
   "outputs": [],
   "source": []
  },
  {
   "cell_type": "markdown",
   "metadata": {},
   "source": [
    "### 3.2 Calculate Landfill intensity"
   ]
  },
  {
   "cell_type": "code",
   "execution_count": null,
   "metadata": {},
   "outputs": [],
   "source": []
  },
  {
   "cell_type": "markdown",
   "metadata": {},
   "source": [
    "### 3.3 Calculate landfill footprint per economic sector (LF)"
   ]
  },
  {
   "cell_type": "code",
   "execution_count": null,
   "metadata": {},
   "outputs": [],
   "source": []
  },
  {
   "cell_type": "markdown",
   "metadata": {},
   "source": [
    "### Credits\n",
    "\n",
    "First version of the exercise developed by dr. J.F.D. Rodrigues, improvements by dr. G.A. Aguilar Hernandez (2022) and F. Donati (2023)  "
   ]
  }
 ],
 "metadata": {
  "kernelspec": {
   "display_name": "Python 3 (ipykernel)",
   "language": "python",
   "name": "python3"
  },
  "language_info": {
   "codemirror_mode": {
    "name": "ipython",
    "version": 3
   },
   "file_extension": ".py",
   "mimetype": "text/x-python",
   "name": "python",
   "nbconvert_exporter": "python",
   "pygments_lexer": "ipython3",
   "version": "3.9.16"
  }
 },
 "nbformat": 4,
 "nbformat_minor": 2
}
