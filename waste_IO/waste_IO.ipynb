{
 "cells": [
  {
   "cell_type": "markdown",
   "metadata": {
    "slideshow": {
     "slide_type": "slide"
    }
   },
   "source": [
    "# Practical 8: Waste Input-Output\n",
    "\n",
    "Objectives\n",
    "- Understand the structure of a WIOT\n",
    "- Build a WIO model in Python\n",
    "- Analyze data from a WIO model\n",
    "\n",
    "The methods used in this practical sessions come from:\n",
    "Nakamura, S. and Kondo, Y. (2002), Input-Output Analysis of Waste Management. Journal of Industrial Ecology, 6: 39-63. https://doi.org/10.1162/108819802320971632"
   ]
  },
  {
   "cell_type": "code",
   "execution_count": 1,
   "metadata": {
    "slideshow": {
     "slide_type": "slide"
    }
   },
   "outputs": [],
   "source": [
    "# Import packages\n",
    "\n",
    "import pandas as pd\n",
    "import numpy as np"
   ]
  },
  {
   "cell_type": "markdown",
   "metadata": {
    "slideshow": {
     "slide_type": "slide"
    }
   },
   "source": [
    "## Exercise 1: Conceptual understanding of waste input output tables and their treatment of economic and physical flows. "
   ]
  },
  {
   "cell_type": "markdown",
   "metadata": {
    "slideshow": {
     "slide_type": "subslide"
    }
   },
   "source": [
    "<table>\n",
    "<tr><td>\n",
    "\n",
    "|   |  E  | WT |\n",
    "|---|-----|----|\n",
    "| E | 52  | 22 |\n",
    "| WT| 349 | 44 |\n",
    "\n",
    "</td><td>\n",
    "\n",
    "|  y  |\n",
    "|-----|\n",
    "| 100 |\n",
    "| 50  |\n",
    "\n",
    "</td></tr> </table>\n",
    "\n",
    "<em>Table 1: WIOT of a country</em>\n",
    "\n"
   ]
  },
  {
   "cell_type": "markdown",
   "metadata": {
    "slideshow": {
     "slide_type": "fragment"
    }
   },
   "source": [
    "### Question 1.1: What are the expected units in the following parts of the simplified WIO system shown above? \n",
    "\n",
    "- E-WT quadrant (i.e., with value 22)\n",
    "- WT-WT quadrant (i.e., with value 44)\n",
    "- and in Y (i.e., with values 100 and 50)"
   ]
  },
  {
   "cell_type": "markdown",
   "metadata": {
    "slideshow": {
     "slide_type": "subslide"
    }
   },
   "source": [
    "### Question 1.2: Estimate the A-matrix. What do the coefficient represent in each quadrant? \n",
    "\n"
   ]
  },
  {
   "cell_type": "code",
   "execution_count": 2,
   "metadata": {
    "slideshow": {
     "slide_type": "fragment"
    }
   },
   "outputs": [
    {
     "data": {
      "text/plain": [
       "(array([[0.29885057, 0.0496614 ],\n",
       "        [2.00574713, 0.0993228 ]]),\n",
       " array([174, 443]))"
      ]
     },
     "execution_count": 2,
     "metadata": {},
     "output_type": "execute_result"
    }
   ],
   "source": [
    "Z = np.array([[52,22],[349,44]])\n",
    "y = np.array([100,50])\n",
    "x = Z.sum(axis=1)+ y\n",
    "inv_diag_x = np.linalg.inv(np.diag(x)) \n",
    "A = Z @ inv_diag_x\n",
    "A,x"
   ]
  },
  {
   "cell_type": "markdown",
   "metadata": {
    "slideshow": {
     "slide_type": "slide"
    }
   },
   "source": [
    "## Exercise 2: Construct a Waste Input-Output model in Python and analyse the waste streams linked to economic activity\n",
    "\n",
    "Use the data provided and the following figures to help you\n",
    "\n",
    "- _Data adapted from source: https://www.f.waseda.jp/nakashin/WIO/wio2000sec103_0.06b_eng.xls_\n",
    "- _For additional info: http://www.f.waseda.jp/nakashin/WIO.html_\n",
    "\n",
    "<table>\n",
    "<tr  style='border-collapse: collapse'>\n",
    "<td>\n",
    "\n",
    "|      **Z**      |   Economic sector    |    Waste treatment     |\n",
    "|-----------------|----------------------|------------------------|\n",
    "| Economic sector | **Z**<sub>E,E</sub>  |  **Z**<sub>E,WT</sub>  |\n",
    "| Waste treatment | **Z**<sub>WT,E</sub> |  **Z**<sub>WT,WT</sub> |\n",
    "-------------------------------------------------------------------\n",
    "|      **r**'     |                      |                        |\n",
    "|-----------------|----------------------|------------------------|\n",
    "|   Emissions     | Econ. Sec. emissions | Waste Treat. emissions |\n",
    "\n",
    "</td>\n",
    "<td>\n",
    "\n",
    "|  **Y**             |\n",
    "|--------------------|\n",
    "|  **Y**<sub>E</sub> |\n",
    "| **Y**<sub>WT</sub> |\n",
    "\n",
    "----------------------\n",
    "| **h**              |\n",
    "|--------------------|\n",
    "|      Emissions     |\n",
    "\n",
    "</td>\n",
    "</tr> \n",
    "</table>\n",
    "<em>Table 2: Basic structure of a WIOT</em>\n",
    "\n"
   ]
  },
  {
   "cell_type": "markdown",
   "metadata": {
    "slideshow": {
     "slide_type": "slide"
    }
   },
   "source": [
    "| ![Waste Input-Output Accounting structure](figures/wio_1.gif) | \n",
    "|:--:| \n",
    "| *Waste Input-Output Accounting structure (Nakamura and Kondo, 2009)* |"
   ]
  },
  {
   "cell_type": "markdown",
   "metadata": {
    "slideshow": {
     "slide_type": "subslide"
    }
   },
   "source": [
    "#### 2.1 Import data"
   ]
  },
  {
   "cell_type": "code",
   "execution_count": 3,
   "metadata": {
    "slideshow": {
     "slide_type": "fragment"
    }
   },
   "outputs": [],
   "source": [
    "data = 'data/Japan_WIO2000sec103.xlsx'\n",
    "# Input-output table, including intermediate and final demand matrix\n",
    "ZYeconomy = pd.read_excel(data, sheet_name = 'ZYeconomy', index_col = 0)\n",
    "# Waste account, including intermediate and final demand matrix\n",
    "ZYwaste = pd.read_excel(data, sheet_name = 'ZYwaste', index_col = 0)\n",
    "# VA and satellite account\n",
    "F = pd.read_excel(data, sheet_name = 'F', index_col = 0)\n",
    "# Waste allocation matrix\n",
    "Q = pd.read_excel(data, sheet_name = 'Allocation', index_col = 0)\n",
    "# units\n",
    "unit = pd.read_excel(data, sheet_name = 'Units', index_col = False) "
   ]
  },
  {
   "cell_type": "markdown",
   "metadata": {
    "slideshow": {
     "slide_type": "subslide"
    }
   },
   "source": [
    "#### 2.2 identify the number of sectors and sector headers"
   ]
  },
  {
   "cell_type": "code",
   "execution_count": 4,
   "metadata": {
    "slideshow": {
     "slide_type": "fragment"
    }
   },
   "outputs": [],
   "source": [
    "n_e = ZYeconomy.shape[0] # 103 number of economic sectors\n",
    "n_wt = Q.shape[0] # 13 number of waste treatment sectors\n",
    "n_y = ZYeconomy.shape[1] - n_e - n_wt # 11 number of final demand categories\n",
    "n_w = Q.shape[1] # 79 number of waste flows"
   ]
  },
  {
   "cell_type": "markdown",
   "metadata": {
    "slideshow": {
     "slide_type": "subslide"
    }
   },
   "source": [
    "### 2.3 Separate the following variables:\n",
    "\n",
    "Look at the provided tables and separate the following elements: \n",
    "\n",
    "- **Z_e_e**: The inter-industry transactions of the economic transactions (i.e., IO economy with the 103 economic sectors)\n",
    "- **Z_e_wt**: The inter-industry transactions concerning waste (i.e., the IO 13 waste treatment categories)\n",
    "\n",
    "- **Y**: The final demand matrix (i.e., the 11 final demand categories)\n",
    "\n",
    "- **Z_wo_e**: The waste outflows of the 103 economic sectors\n",
    "- **Z_wi_e**: The waste inflows of the 103 economic sectors\n",
    "\n",
    "- **Z_wo_wt**: The waste outflows of the 13 waste treatments \n",
    "- **Z_wi_wt**: The waste inflows of the 13 waste treatments\n",
    "\n",
    "- **Y_wi**: The waste inflows of the 11 final demand categories\n",
    "- **Y_wo**: The waste outflows of the 11 final demand categories"
   ]
  },
  {
   "cell_type": "code",
   "execution_count": 5,
   "metadata": {
    "slideshow": {
     "slide_type": "subslide"
    }
   },
   "outputs": [],
   "source": [
    "Z_e_e = ZYeconomy.iloc[:,:n_e] # IO economy with the 103 economic sectors\n",
    "Z_e_wt = ZYeconomy.iloc[:, n_e:n_e + n_wt] # IO waste treatment with the 13 waste treatment categories\n",
    "Y_e = ZYeconomy.iloc[:, n_e+n_wt:n_e+n_wt+n_y] # Final demand matrix\n",
    "\n",
    "Z_wo_e = ZYwaste.iloc[:n_w, :n_e] # Waste outflow of 103 economic sectors\n",
    "Z_wi_e = ZYwaste.iloc[n_w:n_w+n_w, :n_e] # Waste inflow of 103 economic sectors\n",
    "\n",
    "Z_wo_wt = ZYwaste.iloc[:n_w, n_e:n_e+n_wt] # Waste outflow of 13 waste treatments\n",
    "Z_wi_wt = ZYwaste.iloc[n_w:n_w+n_w, n_e:n_e+n_wt] # Waste inflow of 13 waste treatments\n",
    "\n",
    "Y_wo = ZYwaste.iloc[:n_w, n_e+n_wt:n_e+n_wt+n_y] # Waste outflow of 11 final demand categories\n",
    "Y_wi = ZYwaste.iloc[n_w:n_w+n_w, n_e+n_wt:n_e+n_wt+n_y] # Waste inflow of 11 final demand categories\n"
   ]
  },
  {
   "cell_type": "markdown",
   "metadata": {
    "slideshow": {
     "slide_type": "subslide"
    }
   },
   "source": [
    "### 2.4 Calculate net waste flows: \n",
    "\n",
    "\n",
    "**Z_wf_e**: Net waste flow of 103 economic sectors\n",
    "\n",
    "- given by $\\mathbf{Z}_{WF,E} = \\mathbf{Z}_{WFO,E} - \\mathbf{Z}_{WFI,E}$\n",
    "- where $\\mathbf{Z}_{WF,E}$ are the net waste flows for economic sector E,\n",
    "- $\\mathbf{Z}_{WFO,E}$ are the waste outflows for economic sector E\n",
    "- and $\\mathbf{Z}_{WFI,E}$ is the waste inflow for economic sector E;\n",
    "\n",
    "**Z_wf_wt**: Net waste flow of 13 waste treatmets\n",
    "- given by $\\mathbf{Z}_{WF,WT} = \\mathbf{Z}_{WFO,WT} - \\mathbf{Z}_{WFI,WT}$\n",
    "- where $\\mathbf{Z}_{WF,WT}$ are the net waste flows for waste treatment sector WT, \n",
    "- $\\mathbf{Z}_{WFO,WT}$ are the waste outflows for waste treatment sector WT, \n",
    "- and $\\mathbf{Z}_{WFI,WT}$ is the waste inflow for waste treatment sector WT;\n",
    "\n",
    "**Y_wf**: Net waste flow of 11 final demand categories\n",
    "- given by $\\mathbf{Y}_{WF} = \\mathbf{Y}_{WFO} - \\mathbf{Y}_{WFI}$\n",
    "- where $\\mathbf{Y}_{WF}$ are the net waste flows for final demand Y, \n",
    "- $\\mathbf{Y}_{WFO}$ is the waste outflows for final demand Y, \n",
    "- and $\\mathbf{Y}_{WFI}$ is the waste inflow for final demand Y.\n",
    "\n"
   ]
  },
  {
   "cell_type": "code",
   "execution_count": 6,
   "metadata": {
    "slideshow": {
     "slide_type": "subslide"
    }
   },
   "outputs": [],
   "source": [
    "Z_wf_e_net = Z_wo_e - Z_wi_e.values # Net waste flow of 103 economic sectors.\n",
    "Z_wf_wt_net = Z_wo_wt - Z_wi_wt.values # Net waste flow of 13 waste treatmets\n",
    "Y_wf_net = Y_wo - Y_wi.values # Net waste flow of 11 final demand categories"
   ]
  },
  {
   "cell_type": "markdown",
   "metadata": {
    "slideshow": {
     "slide_type": "slide"
    }
   },
   "source": [
    "### 2.5 Covert waste flows into waste treatments:\n",
    "\n",
    "**Z_wt_e**: Matrix of waste flows generated and/or absorbed by 103 economic sector\n",
    "- given by $\\mathbf{Z}_{WT,E} = \\mathbf{Q} \\mathbf{Z}_{WF,E}$\n",
    "- where $\\mathbf{Z}_{WT,E}$ is a matrix of waste flows generated and/or absorbed by economic sector E\n",
    "- and $\\mathbf{Q}$ is the allocation matrix;\n",
    "\n",
    "**Z_wt_wt**: Matrix of waste flows generated and/or absorbed by 13 waste treatment sectors sector\n",
    "- given by $\\mathbf{Z}_{WT,WT} = \\mathbf{Q} \\mathbf{Z}_{WF,WT}$\n",
    "- where $\\mathbf{Z}_{WT,WT}$ is a matrix of waste flows generated and/or absorbed by waste treatment sector WT;\n",
    "\n",
    "**Y_wt**: Matrix of waste flows generated and/or absorbed by 11 final demand categories\n",
    "- given by $\\mathbf{Y}_{WT} = \\mathbf{Q} \\mathbf{Y}_{WF}$\n",
    "- where $\\mathbf{Y}_{WT}$ is a matrix of waste flows generated by final demand $\\mathbf{Y}$."
   ]
  },
  {
   "cell_type": "code",
   "execution_count": 9,
   "metadata": {
    "slideshow": {
     "slide_type": "fragment"
    }
   },
   "outputs": [],
   "source": [
    "Z_wt_e = Q.values @ Z_wf_e_net  # Matrix of waste flows generated and/or absorbed by 103 economic sector\n",
    "Z_wt_wt = Q.values @ Z_wf_wt_net  # Matrix of waste flows generated and/or absorbed by 13 waste treatment sectors sector\n",
    "Y_wt = Q.values @ Y_wf_net  # Matrix of waste flows generated and/or absorbed by 11 final demand categories\n",
    "\n",
    "# # Reapply labels\n",
    "\n",
    "Z_wt_e.index = Q.index\n",
    "Z_wt_wt.index = Q.index\n",
    "Y_wt.index = Q.index"
   ]
  },
  {
   "cell_type": "markdown",
   "metadata": {
    "slideshow": {
     "slide_type": "subslide"
    }
   },
   "source": [
    "### 2.6 Group matrices in a WIOT arrangement"
   ]
  },
  {
   "cell_type": "code",
   "execution_count": 10,
   "metadata": {
    "slideshow": {
     "slide_type": "fragment"
    }
   },
   "outputs": [],
   "source": [
    "wiot_e = pd.concat([Z_e_e, Z_e_wt], axis=1)  # Concat Z_e_e and Z_e_wt block\n",
    "wiot_wt = pd.concat([Z_wt_e, Z_wt_wt], axis=1) # Concat Z_wt_e and Z_wt_wt block\n",
    "\n",
    "Z_wiot = pd.concat([wiot_e, wiot_wt], axis=0) # Integrate WIOT\n",
    "Y_wiot = pd.concat([Y_e, Y_wt], axis=0) # Concat Y_e and Y_wt"
   ]
  },
  {
   "cell_type": "code",
   "execution_count": 11,
   "metadata": {
    "slideshow": {
     "slide_type": "subslide"
    }
   },
   "outputs": [
    {
     "data": {
      "text/html": [
       "<div>\n",
       "<style scoped>\n",
       "    .dataframe tbody tr th:only-of-type {\n",
       "        vertical-align: middle;\n",
       "    }\n",
       "\n",
       "    .dataframe tbody tr th {\n",
       "        vertical-align: top;\n",
       "    }\n",
       "\n",
       "    .dataframe thead th {\n",
       "        text-align: right;\n",
       "    }\n",
       "</style>\n",
       "<table border=\"1\" class=\"dataframe\">\n",
       "  <thead>\n",
       "    <tr style=\"text-align: right;\">\n",
       "      <th></th>\n",
       "      <th>Crop cultivation</th>\n",
       "      <th>Livestock</th>\n",
       "      <th>Agricultural services</th>\n",
       "      <th>Forestry</th>\n",
       "      <th>Fisheries</th>\n",
       "      <th>Metallic ores</th>\n",
       "      <th>Non-metallic ores</th>\n",
       "      <th>Coal mining</th>\n",
       "      <th>Crude petroleum and natural gas</th>\n",
       "      <th>Foods</th>\n",
       "      <th>...</th>\n",
       "      <th>Landfill</th>\n",
       "      <th>Shredding: bulky textile</th>\n",
       "      <th>Shredding: wooden furniture</th>\n",
       "      <th>Shredding: bikes, ovens</th>\n",
       "      <th>Shredding: small electric appliances</th>\n",
       "      <th>Shredding: TV sets</th>\n",
       "      <th>Shredding: refrigerators</th>\n",
       "      <th>Shredding: washing machines</th>\n",
       "      <th>Shredding: air conditioners</th>\n",
       "      <th>Shredding: automobiles</th>\n",
       "    </tr>\n",
       "  </thead>\n",
       "  <tbody>\n",
       "    <tr>\n",
       "      <th>Crop cultivation</th>\n",
       "      <td>165201.999988</td>\n",
       "      <td>277271.999978</td>\n",
       "      <td>3609.000000</td>\n",
       "      <td>1361.999999</td>\n",
       "      <td>0.000000</td>\n",
       "      <td>0.000000</td>\n",
       "      <td>0.0</td>\n",
       "      <td>0.000000</td>\n",
       "      <td>0.0</td>\n",
       "      <td>3.491681e+06</td>\n",
       "      <td>...</td>\n",
       "      <td>0.0</td>\n",
       "      <td>0.0</td>\n",
       "      <td>0.0</td>\n",
       "      <td>0.0</td>\n",
       "      <td>0.0</td>\n",
       "      <td>0.0</td>\n",
       "      <td>0.0</td>\n",
       "      <td>0.0</td>\n",
       "      <td>0.0</td>\n",
       "      <td>0.0</td>\n",
       "    </tr>\n",
       "    <tr>\n",
       "      <th>Livestock</th>\n",
       "      <td>47292.999996</td>\n",
       "      <td>268280.999971</td>\n",
       "      <td>6748.999999</td>\n",
       "      <td>2535.999998</td>\n",
       "      <td>0.000000</td>\n",
       "      <td>0.000000</td>\n",
       "      <td>0.0</td>\n",
       "      <td>0.000000</td>\n",
       "      <td>0.0</td>\n",
       "      <td>1.974122e+06</td>\n",
       "      <td>...</td>\n",
       "      <td>0.0</td>\n",
       "      <td>0.0</td>\n",
       "      <td>0.0</td>\n",
       "      <td>0.0</td>\n",
       "      <td>0.0</td>\n",
       "      <td>0.0</td>\n",
       "      <td>0.0</td>\n",
       "      <td>0.0</td>\n",
       "      <td>0.0</td>\n",
       "      <td>0.0</td>\n",
       "    </tr>\n",
       "    <tr>\n",
       "      <th>Agricultural services</th>\n",
       "      <td>341458.999986</td>\n",
       "      <td>157408.999992</td>\n",
       "      <td>0.000000</td>\n",
       "      <td>0.000000</td>\n",
       "      <td>0.000000</td>\n",
       "      <td>0.000000</td>\n",
       "      <td>0.0</td>\n",
       "      <td>0.000000</td>\n",
       "      <td>0.0</td>\n",
       "      <td>0.000000e+00</td>\n",
       "      <td>...</td>\n",
       "      <td>0.0</td>\n",
       "      <td>0.0</td>\n",
       "      <td>0.0</td>\n",
       "      <td>0.0</td>\n",
       "      <td>0.0</td>\n",
       "      <td>0.0</td>\n",
       "      <td>0.0</td>\n",
       "      <td>0.0</td>\n",
       "      <td>0.0</td>\n",
       "      <td>0.0</td>\n",
       "    </tr>\n",
       "    <tr>\n",
       "      <th>Forestry</th>\n",
       "      <td>2325.000000</td>\n",
       "      <td>0.000000</td>\n",
       "      <td>0.000000</td>\n",
       "      <td>190231.999634</td>\n",
       "      <td>1172.000000</td>\n",
       "      <td>105.999999</td>\n",
       "      <td>89.0</td>\n",
       "      <td>308.999998</td>\n",
       "      <td>19.0</td>\n",
       "      <td>1.736700e+04</td>\n",
       "      <td>...</td>\n",
       "      <td>0.0</td>\n",
       "      <td>0.0</td>\n",
       "      <td>0.0</td>\n",
       "      <td>0.0</td>\n",
       "      <td>0.0</td>\n",
       "      <td>0.0</td>\n",
       "      <td>0.0</td>\n",
       "      <td>0.0</td>\n",
       "      <td>0.0</td>\n",
       "      <td>0.0</td>\n",
       "    </tr>\n",
       "    <tr>\n",
       "      <th>Fisheries</th>\n",
       "      <td>0.000000</td>\n",
       "      <td>0.000000</td>\n",
       "      <td>0.000000</td>\n",
       "      <td>0.000000</td>\n",
       "      <td>93567.999996</td>\n",
       "      <td>0.000000</td>\n",
       "      <td>0.0</td>\n",
       "      <td>0.000000</td>\n",
       "      <td>0.0</td>\n",
       "      <td>1.262796e+06</td>\n",
       "      <td>...</td>\n",
       "      <td>0.0</td>\n",
       "      <td>0.0</td>\n",
       "      <td>0.0</td>\n",
       "      <td>0.0</td>\n",
       "      <td>0.0</td>\n",
       "      <td>0.0</td>\n",
       "      <td>0.0</td>\n",
       "      <td>0.0</td>\n",
       "      <td>0.0</td>\n",
       "      <td>0.0</td>\n",
       "    </tr>\n",
       "  </tbody>\n",
       "</table>\n",
       "<p>5 rows × 116 columns</p>\n",
       "</div>"
      ],
      "text/plain": [
       "                       Crop cultivation      Livestock  Agricultural services  \\\n",
       "Crop cultivation          165201.999988  277271.999978            3609.000000   \n",
       "Livestock                  47292.999996  268280.999971            6748.999999   \n",
       "Agricultural services     341458.999986  157408.999992               0.000000   \n",
       "Forestry                    2325.000000       0.000000               0.000000   \n",
       "Fisheries                      0.000000       0.000000               0.000000   \n",
       "\n",
       "                            Forestry     Fisheries  Metallic ores  \\\n",
       "Crop cultivation         1361.999999      0.000000       0.000000   \n",
       "Livestock                2535.999998      0.000000       0.000000   \n",
       "Agricultural services       0.000000      0.000000       0.000000   \n",
       "Forestry               190231.999634   1172.000000     105.999999   \n",
       "Fisheries                   0.000000  93567.999996       0.000000   \n",
       "\n",
       "                       Non-metallic ores  Coal mining  \\\n",
       "Crop cultivation                     0.0     0.000000   \n",
       "Livestock                            0.0     0.000000   \n",
       "Agricultural services                0.0     0.000000   \n",
       "Forestry                            89.0   308.999998   \n",
       "Fisheries                            0.0     0.000000   \n",
       "\n",
       "                       Crude petroleum and natural gas         Foods  ...  \\\n",
       "Crop cultivation                                   0.0  3.491681e+06  ...   \n",
       "Livestock                                          0.0  1.974122e+06  ...   \n",
       "Agricultural services                              0.0  0.000000e+00  ...   \n",
       "Forestry                                          19.0  1.736700e+04  ...   \n",
       "Fisheries                                          0.0  1.262796e+06  ...   \n",
       "\n",
       "                       Landfill  Shredding: bulky textile  \\\n",
       "Crop cultivation            0.0                       0.0   \n",
       "Livestock                   0.0                       0.0   \n",
       "Agricultural services       0.0                       0.0   \n",
       "Forestry                    0.0                       0.0   \n",
       "Fisheries                   0.0                       0.0   \n",
       "\n",
       "                       Shredding: wooden furniture  Shredding: bikes, ovens  \\\n",
       "Crop cultivation                               0.0                      0.0   \n",
       "Livestock                                      0.0                      0.0   \n",
       "Agricultural services                          0.0                      0.0   \n",
       "Forestry                                       0.0                      0.0   \n",
       "Fisheries                                      0.0                      0.0   \n",
       "\n",
       "                       Shredding: small electric appliances  \\\n",
       "Crop cultivation                                        0.0   \n",
       "Livestock                                               0.0   \n",
       "Agricultural services                                   0.0   \n",
       "Forestry                                                0.0   \n",
       "Fisheries                                               0.0   \n",
       "\n",
       "                       Shredding: TV sets  Shredding: refrigerators  \\\n",
       "Crop cultivation                      0.0                       0.0   \n",
       "Livestock                             0.0                       0.0   \n",
       "Agricultural services                 0.0                       0.0   \n",
       "Forestry                              0.0                       0.0   \n",
       "Fisheries                             0.0                       0.0   \n",
       "\n",
       "                       Shredding: washing machines  \\\n",
       "Crop cultivation                               0.0   \n",
       "Livestock                                      0.0   \n",
       "Agricultural services                          0.0   \n",
       "Forestry                                       0.0   \n",
       "Fisheries                                      0.0   \n",
       "\n",
       "                       Shredding: air conditioners  Shredding: automobiles  \n",
       "Crop cultivation                               0.0                     0.0  \n",
       "Livestock                                      0.0                     0.0  \n",
       "Agricultural services                          0.0                     0.0  \n",
       "Forestry                                       0.0                     0.0  \n",
       "Fisheries                                      0.0                     0.0  \n",
       "\n",
       "[5 rows x 116 columns]"
      ]
     },
     "execution_count": 11,
     "metadata": {},
     "output_type": "execute_result"
    }
   ],
   "source": [
    "Z_wiot.head()"
   ]
  },
  {
   "cell_type": "code",
   "execution_count": 12,
   "metadata": {
    "slideshow": {
     "slide_type": "subslide"
    }
   },
   "outputs": [
    {
     "data": {
      "text/html": [
       "<div>\n",
       "<style scoped>\n",
       "    .dataframe tbody tr th:only-of-type {\n",
       "        vertical-align: middle;\n",
       "    }\n",
       "\n",
       "    .dataframe tbody tr th {\n",
       "        vertical-align: top;\n",
       "    }\n",
       "\n",
       "    .dataframe thead th {\n",
       "        text-align: right;\n",
       "    }\n",
       "</style>\n",
       "<table border=\"1\" class=\"dataframe\">\n",
       "  <thead>\n",
       "    <tr style=\"text-align: right;\">\n",
       "      <th></th>\n",
       "      <th>Consumption expenditure outside households (column)</th>\n",
       "      <th>Consumption expenditure of households</th>\n",
       "      <th>Consumption expenditure of private non-profit institutions serving households</th>\n",
       "      <th>Consumption expenditure of general government</th>\n",
       "      <th>Consumption expenditure of general government (social fixed capital depreciation)</th>\n",
       "      <th>Gross domestic fixed capital formation (public)</th>\n",
       "      <th>Gross domestic fixed capital formation (private)</th>\n",
       "      <th>Increase in stocks</th>\n",
       "      <th>Exports</th>\n",
       "      <th>Exports (direct purchase)</th>\n",
       "      <th>Balancing sector</th>\n",
       "    </tr>\n",
       "  </thead>\n",
       "  <tbody>\n",
       "    <tr>\n",
       "      <th>Crop cultivation</th>\n",
       "      <td>66019.0</td>\n",
       "      <td>3001038.0</td>\n",
       "      <td>0.0</td>\n",
       "      <td>0.0</td>\n",
       "      <td>0.0</td>\n",
       "      <td>0.0</td>\n",
       "      <td>44191.0</td>\n",
       "      <td>19150.0</td>\n",
       "      <td>11809.0</td>\n",
       "      <td>83.0</td>\n",
       "      <td>562.0</td>\n",
       "    </tr>\n",
       "    <tr>\n",
       "      <th>Livestock</th>\n",
       "      <td>0.0</td>\n",
       "      <td>209839.0</td>\n",
       "      <td>0.0</td>\n",
       "      <td>0.0</td>\n",
       "      <td>0.0</td>\n",
       "      <td>0.0</td>\n",
       "      <td>149290.0</td>\n",
       "      <td>38327.0</td>\n",
       "      <td>824.0</td>\n",
       "      <td>11.0</td>\n",
       "      <td>40.0</td>\n",
       "    </tr>\n",
       "    <tr>\n",
       "      <th>Agricultural services</th>\n",
       "      <td>0.0</td>\n",
       "      <td>84720.0</td>\n",
       "      <td>0.0</td>\n",
       "      <td>0.0</td>\n",
       "      <td>0.0</td>\n",
       "      <td>0.0</td>\n",
       "      <td>0.0</td>\n",
       "      <td>0.0</td>\n",
       "      <td>0.0</td>\n",
       "      <td>0.0</td>\n",
       "      <td>0.0</td>\n",
       "    </tr>\n",
       "    <tr>\n",
       "      <th>Forestry</th>\n",
       "      <td>4179.0</td>\n",
       "      <td>187005.0</td>\n",
       "      <td>0.0</td>\n",
       "      <td>0.0</td>\n",
       "      <td>0.0</td>\n",
       "      <td>0.0</td>\n",
       "      <td>0.0</td>\n",
       "      <td>679130.0</td>\n",
       "      <td>1547.0</td>\n",
       "      <td>1.0</td>\n",
       "      <td>61.0</td>\n",
       "    </tr>\n",
       "    <tr>\n",
       "      <th>Fisheries</th>\n",
       "      <td>21023.0</td>\n",
       "      <td>392104.0</td>\n",
       "      <td>0.0</td>\n",
       "      <td>0.0</td>\n",
       "      <td>0.0</td>\n",
       "      <td>0.0</td>\n",
       "      <td>0.0</td>\n",
       "      <td>37110.0</td>\n",
       "      <td>54924.0</td>\n",
       "      <td>47.0</td>\n",
       "      <td>2109.0</td>\n",
       "    </tr>\n",
       "  </tbody>\n",
       "</table>\n",
       "</div>"
      ],
      "text/plain": [
       "                       Consumption expenditure outside households (column)  \\\n",
       "Crop cultivation                                                 66019.0     \n",
       "Livestock                                                            0.0     \n",
       "Agricultural services                                                0.0     \n",
       "Forestry                                                          4179.0     \n",
       "Fisheries                                                        21023.0     \n",
       "\n",
       "                       Consumption expenditure of households  \\\n",
       "Crop cultivation                                   3001038.0   \n",
       "Livestock                                           209839.0   \n",
       "Agricultural services                                84720.0   \n",
       "Forestry                                            187005.0   \n",
       "Fisheries                                           392104.0   \n",
       "\n",
       "                       Consumption expenditure of private non-profit institutions serving households  \\\n",
       "Crop cultivation                                                     0.0                               \n",
       "Livestock                                                            0.0                               \n",
       "Agricultural services                                                0.0                               \n",
       "Forestry                                                             0.0                               \n",
       "Fisheries                                                            0.0                               \n",
       "\n",
       "                       Consumption expenditure of general government  \\\n",
       "Crop cultivation                                                 0.0   \n",
       "Livestock                                                        0.0   \n",
       "Agricultural services                                            0.0   \n",
       "Forestry                                                         0.0   \n",
       "Fisheries                                                        0.0   \n",
       "\n",
       "                       Consumption expenditure of general government (social fixed capital depreciation)  \\\n",
       "Crop cultivation                                                     0.0                                   \n",
       "Livestock                                                            0.0                                   \n",
       "Agricultural services                                                0.0                                   \n",
       "Forestry                                                             0.0                                   \n",
       "Fisheries                                                            0.0                                   \n",
       "\n",
       "                       Gross domestic fixed capital formation (public)  \\\n",
       "Crop cultivation                                                   0.0   \n",
       "Livestock                                                          0.0   \n",
       "Agricultural services                                              0.0   \n",
       "Forestry                                                           0.0   \n",
       "Fisheries                                                          0.0   \n",
       "\n",
       "                       Gross domestic fixed capital formation (private)  \\\n",
       "Crop cultivation                                                44191.0   \n",
       "Livestock                                                      149290.0   \n",
       "Agricultural services                                               0.0   \n",
       "Forestry                                                            0.0   \n",
       "Fisheries                                                           0.0   \n",
       "\n",
       "                       Increase in stocks  Exports  Exports (direct purchase)  \\\n",
       "Crop cultivation                  19150.0  11809.0                       83.0   \n",
       "Livestock                         38327.0    824.0                       11.0   \n",
       "Agricultural services                 0.0      0.0                        0.0   \n",
       "Forestry                         679130.0   1547.0                        1.0   \n",
       "Fisheries                         37110.0  54924.0                       47.0   \n",
       "\n",
       "                       Balancing sector  \n",
       "Crop cultivation                  562.0  \n",
       "Livestock                          40.0  \n",
       "Agricultural services               0.0  \n",
       "Forestry                           61.0  \n",
       "Fisheries                        2109.0  "
      ]
     },
     "execution_count": 12,
     "metadata": {},
     "output_type": "execute_result"
    }
   ],
   "source": [
    "Y_wiot.head()"
   ]
  },
  {
   "cell_type": "markdown",
   "metadata": {
    "slideshow": {
     "slide_type": "slide"
    }
   },
   "source": [
    "## Exercise 3: From a consumption-based perspective, which are the major contributors to landfill area footprint?"
   ]
  },
  {
   "cell_type": "markdown",
   "metadata": {
    "slideshow": {
     "slide_type": "subslide"
    }
   },
   "source": [
    "### 3.1 Calculate Leontief inverse"
   ]
  },
  {
   "cell_type": "code",
   "execution_count": 13,
   "metadata": {
    "slideshow": {
     "slide_type": "fragment"
    }
   },
   "outputs": [],
   "source": [
    "x = Z_wiot.sum(axis = 1).values + Y_wiot.sum(axis = 1).values\n",
    "\n",
    "\n",
    "x_ = x.copy()\n",
    "x_[x_!=0] = 1/x_[x_!=0]\n",
    "inv_diag_x_ = np.diag(x_)\n",
    "\n",
    "\n",
    "A = Z_wiot @ inv_diag_x_\n",
    "\n",
    "I = np.identity(A.shape[0])\n",
    "\n",
    "L = np.linalg.inv(I - A)"
   ]
  },
  {
   "cell_type": "markdown",
   "metadata": {
    "slideshow": {
     "slide_type": "subslide"
    }
   },
   "source": [
    "### 3.2 Calculate Landfill intensity"
   ]
  },
  {
   "cell_type": "code",
   "execution_count": 14,
   "metadata": {
    "slideshow": {
     "slide_type": "fragment"
    }
   },
   "outputs": [],
   "source": [
    "## Landfill intensity\n",
    "f = F.iloc[8,: n_e+n_wt] @ inv_diag_x_"
   ]
  },
  {
   "cell_type": "markdown",
   "metadata": {
    "slideshow": {
     "slide_type": "subslide"
    }
   },
   "source": [
    "### 3.3 Calculate landfill footprint  per economic sector (LF)"
   ]
  },
  {
   "cell_type": "code",
   "execution_count": 15,
   "metadata": {
    "slideshow": {
     "slide_type": "fragment"
    }
   },
   "outputs": [
    {
     "data": {
      "text/html": [
       "<div>\n",
       "<style scoped>\n",
       "    .dataframe tbody tr th:only-of-type {\n",
       "        vertical-align: middle;\n",
       "    }\n",
       "\n",
       "    .dataframe tbody tr th {\n",
       "        vertical-align: top;\n",
       "    }\n",
       "\n",
       "    .dataframe thead th {\n",
       "        text-align: right;\n",
       "    }\n",
       "</style>\n",
       "<table border=\"1\" class=\"dataframe\">\n",
       "  <thead>\n",
       "    <tr style=\"text-align: right;\">\n",
       "      <th></th>\n",
       "      <th>Landfill footprint</th>\n",
       "    </tr>\n",
       "  </thead>\n",
       "  <tbody>\n",
       "    <tr>\n",
       "      <th>Landfill</th>\n",
       "      <td>7.417132e+07</td>\n",
       "    </tr>\n",
       "    <tr>\n",
       "      <th>Building construction</th>\n",
       "      <td>6.785285e+07</td>\n",
       "    </tr>\n",
       "    <tr>\n",
       "      <th>Water supply</th>\n",
       "      <td>1.493733e+07</td>\n",
       "    </tr>\n",
       "    <tr>\n",
       "      <th>Shredding: automobiles</th>\n",
       "      <td>1.487708e+07</td>\n",
       "    </tr>\n",
       "    <tr>\n",
       "      <th>Other civil engineering and construction</th>\n",
       "      <td>1.003893e+07</td>\n",
       "    </tr>\n",
       "  </tbody>\n",
       "</table>\n",
       "</div>"
      ],
      "text/plain": [
       "                                          Landfill footprint\n",
       "Landfill                                        7.417132e+07\n",
       "Building construction                           6.785285e+07\n",
       "Water supply                                    1.493733e+07\n",
       "Shredding: automobiles                          1.487708e+07\n",
       "Other civil engineering and construction        1.003893e+07"
      ]
     },
     "execution_count": 15,
     "metadata": {},
     "output_type": "execute_result"
    }
   ],
   "source": [
    "LF = f @ L @ np.diag(Y_wiot.sum(1).values) # Landfill footprint calculation\n",
    "LF = pd.DataFrame(LF, index=Y_wiot.index, columns=['Landfill footprint'])  # Create new dataframe with LF\n",
    "LF_sort = LF.sort_values(by='Landfill footprint', ascending=False)  # Sort results\n",
    "LF_sort.head(5) # Print top-5 contributors"
   ]
  },
  {
   "cell_type": "markdown",
   "metadata": {
    "slideshow": {
     "slide_type": "subslide"
    }
   },
   "source": [
    "### Credits\n",
    "\n",
    "First version of the exercise developed by dr. J.F.D. Rodrigues, improvements by dr. G.A. Aguilar Hernandez (2022) and F. Donati (2023)  "
   ]
  }
 ],
 "metadata": {
  "celltoolbar": "Slideshow",
  "kernelspec": {
   "display_name": "Python 3 (ipykernel)",
   "language": "python",
   "name": "python3"
  },
  "language_info": {
   "codemirror_mode": {
    "name": "ipython",
    "version": 3
   },
   "file_extension": ".py",
   "mimetype": "text/x-python",
   "name": "python",
   "nbconvert_exporter": "python",
   "pygments_lexer": "ipython3",
   "version": "3.9.16"
  }
 },
 "nbformat": 4,
 "nbformat_minor": 2
}
