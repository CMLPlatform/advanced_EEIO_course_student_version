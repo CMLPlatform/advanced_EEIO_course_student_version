{
 "cells": [
  {
   "cell_type": "markdown",
   "metadata": {
    "slideshow": {
     "slide_type": "slide"
    }
   },
   "source": [
    "# Practical 7: Technology adjusted Carbon Based Accounting\n",
    "\n",
    "Objectives\n",
    "- Calculate TCBA\n",
    "- Calculate Scope 1, 2, 3 emissions\n",
    "- Visualize results\n",
    "\n",
    "**Technology adjusted consumption-based accounting**\n",
    "\n",
    "- In the [supplementary Information](https://static-content.springer.com/esm/art%3A10.1038%2Fnclimate2555/MediaObjects/41558_2015_BFnclimate2555_MOESM453_ESM.xlsx) file of [Kander et al. (2015), *National greenhouse-gas accounting for effective climate policy on international trade*](https://www.nature.com/articles/nclimate2555#Tab1), the authors illustrated the TCBA calculation and results in a spreadsheet.\n",
    "\n",
    "- Download and go through the spreadsheet example to further understand the TCBA calculations. \n"
   ]
  },
  {
   "cell_type": "code",
   "execution_count": 58,
   "metadata": {
    "slideshow": {
     "slide_type": "slide"
    }
   },
   "outputs": [],
   "source": [
    "# Import packages\n",
    "import pandas as pd\n",
    "import numpy as np\n",
    "import matplotlib.pyplot as plt"
   ]
  },
  {
   "cell_type": "markdown",
   "metadata": {
    "slideshow": {
     "slide_type": "slide"
    }
   },
   "source": [
    "## Exercise 1: Calculate and visualize CBA vs TCBA"
   ]
  },
  {
   "cell_type": "markdown",
   "metadata": {
    "slideshow": {
     "slide_type": "subslide"
    }
   },
   "source": [
    "### 1.1 Import the downloaded data"
   ]
  },
  {
   "cell_type": "code",
   "execution_count": 59,
   "metadata": {
    "slideshow": {
     "slide_type": "fragment"
    }
   },
   "outputs": [
    {
     "name": "stderr",
     "output_type": "stream",
     "text": [
      "c:\\Users\\fdona\\anaconda3\\envs\\env_advanced_eeio\\lib\\site-packages\\openpyxl\\worksheet\\_read_only.py:79: UserWarning: Unknown extension is not supported and will be removed\n",
      "  for idx, row in parser.parse():\n"
     ]
    }
   ],
   "source": [
    "# Import exiobase\n",
    "data_file = 'data/41558_2015_BFnclimate2555_MOESM453_ESM.xlsx'    # add name of folder where data is stored\n",
    "\n",
    "Z = pd.read_excel(data_file, sheet_name='TCBA Example', header = 2, usecols='C:N', nrows=12).values\n",
    "\n",
    "Y = pd.read_excel(data_file, sheet_name='TCBA Example', header = 2, usecols='P:R', nrows=12).values\n",
    "\n",
    "V = pd.read_excel(data_file, sheet_name='TCBA Example', header = 15, usecols='C:N', nrows=3).sum(0).values\n",
    "\n",
    "F = pd.read_excel(\n",
    "    data_file, sheet_name=\"TCBA Example\", header=21, usecols=\"C:N\", nrows=1\n",
    ").values[0]"
   ]
  },
  {
   "cell_type": "markdown",
   "metadata": {
    "slideshow": {
     "slide_type": "subslide"
    }
   },
   "source": [
    "### 1.2 Calculate other IO variables"
   ]
  },
  {
   "cell_type": "code",
   "execution_count": 60,
   "metadata": {
    "slideshow": {
     "slide_type": "fragment"
    }
   },
   "outputs": [],
   "source": [
    "x = Z.sum(1) + Y.sum(1)\n",
    "f = F/x\n",
    "A = Z/x\n",
    "I = np.identity(A.shape[0])\n",
    "L = np.linalg.inv(I - A)"
   ]
  },
  {
   "cell_type": "markdown",
   "metadata": {
    "slideshow": {
     "slide_type": "subslide"
    }
   },
   "source": [
    "### 1.3 TCBA calculations"
   ]
  },
  {
   "cell_type": "markdown",
   "metadata": {
    "slideshow": {
     "slide_type": "fragment"
    }
   },
   "source": [
    "#### 1.3.1 Export-related output"
   ]
  },
  {
   "cell_type": "code",
   "execution_count": 61,
   "metadata": {
    "slideshow": {
     "slide_type": "fragment"
    }
   },
   "outputs": [
    {
     "data": {
      "text/plain": [
       "array([[1884.99914448, 2675.85882213, 2340.03299151],\n",
       "       [1973.52285678, 2389.96249768, 2293.60687569],\n",
       "       [1949.73444583, 2674.10946478, 2894.01234802],\n",
       "       [2071.35736233, 3053.88678288, 2742.85823049],\n",
       "       [2291.03613965, 2592.86995202, 2980.42777823],\n",
       "       [3322.02479378, 3155.49154411, 3033.76588867],\n",
       "       [1821.00196378, 2392.20958819, 2903.5998466 ],\n",
       "       [2283.14542255, 2089.32196886, 2304.07982691],\n",
       "       [2184.68867051, 2467.62052168, 2429.26820175],\n",
       "       [2016.80495015, 1863.32313603, 2564.79496106],\n",
       "       [1926.43419023, 2799.10387779, 2600.88030532],\n",
       "       [2533.15335664, 3068.77056268, 3009.77261416]])"
      ]
     },
     "execution_count": 61,
     "metadata": {},
     "output_type": "execute_result"
    }
   ],
   "source": [
    "# output multiplier\n",
    "x_mult = L @ Y\n",
    "x_mult"
   ]
  },
  {
   "cell_type": "code",
   "execution_count": 62,
   "metadata": {
    "slideshow": {
     "slide_type": "slide"
    }
   },
   "outputs": [
    {
     "data": {
      "text/plain": [
       "array([[   0.        , 2675.85882213, 2340.03299151],\n",
       "       [   0.        , 2389.96249768, 2293.60687569],\n",
       "       [   0.        , 2674.10946478, 2894.01234802],\n",
       "       [   0.        , 3053.88678288, 2742.85823049],\n",
       "       [2291.03613965,    0.        , 2980.42777823],\n",
       "       [3322.02479378,    0.        , 3033.76588867],\n",
       "       [1821.00196378,    0.        , 2903.5998466 ],\n",
       "       [2283.14542255,    0.        , 2304.07982691],\n",
       "       [2184.68867051, 2467.62052168,    0.        ],\n",
       "       [2016.80495015, 1863.32313603,    0.        ],\n",
       "       [1926.43419023, 2799.10387779,    0.        ],\n",
       "       [2533.15335664, 3068.77056268,    0.        ]])"
      ]
     },
     "execution_count": 62,
     "metadata": {},
     "output_type": "execute_result"
    }
   ],
   "source": [
    "# remove domestic trasactions (the diagonals)\n",
    "ex_mult = x_mult.copy()\n",
    "\n",
    "no_regions = 3  # number of regions\n",
    "no_sectors = 4  # number of sectors\n",
    "\n",
    "for i in range(no_regions):\n",
    "    row_start = i * no_sectors\n",
    "    row_end= (i + 1) * no_sectors\n",
    "\n",
    "    ex_mult[ row_start : row_end ,i] = 0           \n",
    "\n",
    "ex_mult"
   ]
  },
  {
   "cell_type": "code",
   "execution_count": 63,
   "metadata": {
    "slideshow": {
     "slide_type": "subslide"
    }
   },
   "outputs": [
    {
     "data": {
      "text/plain": [
       "array([5015.89181364, 4683.56937337, 5568.1218128 , 5796.74501337,\n",
       "       5271.46391788, 6355.79068245, 4724.60181039, 4587.22524946,\n",
       "       4652.30919219, 3880.12808617, 4725.53806802, 5601.92391932])"
      ]
     },
     "execution_count": 63,
     "metadata": {},
     "output_type": "execute_result"
    }
   ],
   "source": [
    "# The total product output for only export \n",
    "ex = ex_mult.sum(1)\n",
    "ex"
   ]
  },
  {
   "cell_type": "markdown",
   "metadata": {
    "slideshow": {
     "slide_type": "slide"
    }
   },
   "source": [
    "#### 1.3.2 Export-related emissions"
   ]
  },
  {
   "cell_type": "code",
   "execution_count": 64,
   "metadata": {
    "slideshow": {
     "slide_type": "fragment"
    }
   },
   "outputs": [
    {
     "data": {
      "text/plain": [
       "array([[  0.        , 116.32666731, 101.72742936],\n",
       "       [  0.        , 114.88319116, 110.25146939],\n",
       "       [  0.        ,  99.59629772, 107.78650583],\n",
       "       [  0.        , 155.25404409, 139.44191875],\n",
       "       [116.52791845,   0.        , 151.59212859],\n",
       "       [111.76704767,   0.        , 102.0687917 ],\n",
       "       [ 51.17465848,   0.        ,  81.59833622],\n",
       "       [ 51.29474894,   0.        ,  51.76507598],\n",
       "       [123.40124517, 139.38253496,   0.        ],\n",
       "       [ 71.97372802,  66.49642178,   0.        ],\n",
       "       [105.1774055 , 152.82249717,   0.        ],\n",
       "       [147.07632502, 178.17456472,   0.        ]])"
      ]
     },
     "execution_count": 64,
     "metadata": {},
     "output_type": "execute_result"
    }
   ],
   "source": [
    "# Export-related emissions\n",
    "F_ex = np.diag(f) @ ex_mult\n",
    "F_ex"
   ]
  },
  {
   "cell_type": "code",
   "execution_count": 65,
   "metadata": {},
   "outputs": [
    {
     "data": {
      "text/plain": [
       "array([218.05409667, 225.13466055, 207.38280355, 294.69596284,\n",
       "       268.12004704, 213.83583937, 132.7729947 , 103.05982492,\n",
       "       262.78378013, 138.4701498 , 257.99990267, 325.25088974])"
      ]
     },
     "execution_count": 65,
     "metadata": {},
     "output_type": "execute_result"
    }
   ],
   "source": [
    "# Vector of export related emissions\n",
    "F_ex = F_ex.sum(1)\n",
    "F_ex"
   ]
  },
  {
   "cell_type": "markdown",
   "metadata": {
    "slideshow": {
     "slide_type": "slide"
    }
   },
   "source": [
    "#### 1.3.3 Calculate 'World market average emissions multiplier'"
   ]
  },
  {
   "cell_type": "code",
   "execution_count": 66,
   "metadata": {
    "slideshow": {
     "slide_type": "fragment"
    }
   },
   "outputs": [
    {
     "data": {
      "text/plain": [
       "([array([5015.89181364, 4683.56937337, 5568.1218128 , 5796.74501337]),\n",
       "  array([5271.46391788, 6355.79068245, 4724.60181039, 4587.22524946]),\n",
       "  array([4652.30919219, 3880.12808617, 4725.53806802, 5601.92391932])],\n",
       " [array([218.05409667, 225.13466055, 207.38280355, 294.69596284]),\n",
       "  array([268.12004704, 213.83583937, 132.7729947 , 103.05982492]),\n",
       "  array([262.78378013, 138.4701498 , 257.99990267, 325.25088974])])"
      ]
     },
     "execution_count": 66,
     "metadata": {},
     "output_type": "execute_result"
    }
   ],
   "source": [
    "# Split the ex and F into 3 arrays, one for each region \n",
    "sect_ex = np.array_split(ex, no_regions)\n",
    "sect_F_ex = np.array_split(F_ex, no_regions)\n",
    "sect_ex, sect_F_ex"
   ]
  },
  {
   "cell_type": "code",
   "execution_count": 67,
   "metadata": {
    "slideshow": {
     "slide_type": "subslide"
    }
   },
   "outputs": [
    {
     "data": {
      "text/plain": [
       "(array([14939.66492371, 14919.48814199, 15018.26169121, 15985.89418216]),\n",
       " array([748.95792384, 577.44064972, 598.15570091, 723.0066775 ]))"
      ]
     },
     "execution_count": 67,
     "metadata": {},
     "output_type": "execute_result"
    }
   ],
   "source": [
    "# Sum them over axis 0, in this way you have the total global ex and F_ex by sector\n",
    "sect_ex_sum = np.sum(sect_ex, 0)\n",
    "sect_F_ex_sum = np.sum(sect_F_ex, 0)\n",
    "sect_ex_sum, sect_F_ex_sum"
   ]
  },
  {
   "cell_type": "code",
   "execution_count": 68,
   "metadata": {
    "slideshow": {
     "slide_type": "fragment"
    }
   },
   "outputs": [
    {
     "data": {
      "text/plain": [
       "array([0.05013218, 0.03870378, 0.03982856, 0.04522779])"
      ]
     },
     "execution_count": 68,
     "metadata": {},
     "output_type": "execute_result"
    }
   ],
   "source": [
    "# calculate the average global environmental intensity by sector\n",
    "f_wa_sec = sect_F_ex_sum / sect_ex_sum\n",
    "f_wa_sec"
   ]
  },
  {
   "cell_type": "code",
   "execution_count": 69,
   "metadata": {
    "slideshow": {
     "slide_type": "fragment"
    }
   },
   "outputs": [
    {
     "data": {
      "text/plain": [
       "array([0.05013218, 0.03870378, 0.03982856, 0.04522779, 0.05013218,\n",
       "       0.03870378, 0.03982856, 0.04522779, 0.05013218, 0.03870378,\n",
       "       0.03982856, 0.04522779])"
      ]
     },
     "execution_count": 69,
     "metadata": {},
     "output_type": "execute_result"
    }
   ],
   "source": [
    "# replicate it for each region\n",
    "f_wa = np.tile(f_wa_sec, no_regions)\n",
    "f_wa"
   ]
  },
  {
   "cell_type": "markdown",
   "metadata": {
    "slideshow": {
     "slide_type": "subslide"
    }
   },
   "source": [
    "#### 1.3.4 Export-related emissions by TCBA"
   ]
  },
  {
   "cell_type": "code",
   "execution_count": 70,
   "metadata": {
    "slideshow": {
     "slide_type": "fragment"
    }
   },
   "outputs": [
    {
     "data": {
      "text/plain": [
       "array([251.4575754 , 181.27185841, 221.77026038, 262.17397067,\n",
       "       264.26996132, 245.99315112, 188.17407537, 207.47006384,\n",
       "       233.23038712, 150.17564019, 188.21136516, 253.36264299])"
      ]
     },
     "execution_count": 70,
     "metadata": {},
     "output_type": "execute_result"
    }
   ],
   "source": [
    "# Export-related emissions by TCBA  \n",
    "F_ex_TCBA = f_wa*ex\n",
    "F_ex_TCBA"
   ]
  },
  {
   "cell_type": "markdown",
   "metadata": {
    "slideshow": {
     "slide_type": "subslide"
    }
   },
   "source": [
    "#### 1.3.5 Adjust export-related emissions (i.e. TCBA)"
   ]
  },
  {
   "cell_type": "code",
   "execution_count": 71,
   "metadata": {
    "slideshow": {
     "slide_type": "fragment"
    }
   },
   "outputs": [
    {
     "data": {
      "text/plain": [
       "array([1133.12555364, 1375.14751288, 1391.72693348])"
      ]
     },
     "execution_count": 71,
     "metadata": {},
     "output_type": "execute_result"
    }
   ],
   "source": [
    "CBA = f @ L @ Y  # note F_hh is neglected in this example\n",
    "CBA"
   ]
  },
  {
   "cell_type": "code",
   "execution_count": 72,
   "metadata": {
    "slideshow": {
     "slide_type": "fragment"
    }
   },
   "outputs": [
    {
     "data": {
      "text/plain": [
       "array([ -33.40347873,   43.86280214,  -14.38745683,   32.52199217,\n",
       "          3.85008572,  -32.15731175,  -55.40108067, -104.41023892,\n",
       "         29.55339301,  -11.70549039,   69.7885375 ,   71.88824675])"
      ]
     },
     "execution_count": 72,
     "metadata": {},
     "output_type": "execute_result"
    }
   ],
   "source": [
    "# calculate the different between the total emissions due to exports from the technolgy adjusted ones \n",
    "diff_ex = F_ex - F_ex_TCBA\n",
    "diff_ex"
   ]
  },
  {
   "cell_type": "code",
   "execution_count": 73,
   "metadata": {
    "slideshow": {
     "slide_type": "subslide"
    }
   },
   "outputs": [
    {
     "data": {
      "text/plain": [
       "array([  28.59385876, -188.11854563,  159.52468687])"
      ]
     },
     "execution_count": 73,
     "metadata": {},
     "output_type": "execute_result"
    }
   ],
   "source": [
    "# We aggregate this difference regionally\n",
    "diff_ex_r = np.sum(np.split(diff_ex, no_regions), axis=1)\n",
    "diff_ex_r"
   ]
  },
  {
   "cell_type": "code",
   "execution_count": 74,
   "metadata": {
    "slideshow": {
     "slide_type": "fragment"
    }
   },
   "outputs": [
    {
     "data": {
      "text/plain": [
       "array([1161.7194124 , 1187.02896725, 1551.25162035])"
      ]
     },
     "execution_count": 74,
     "metadata": {},
     "output_type": "execute_result"
    }
   ],
   "source": [
    "# Calculate the TCBA\n",
    "TCBA = CBA + diff_ex_r\n",
    "TCBA"
   ]
  },
  {
   "cell_type": "markdown",
   "metadata": {
    "slideshow": {
     "slide_type": "slide"
    }
   },
   "source": [
    "### 1.4 Visualize results"
   ]
  },
  {
   "cell_type": "code",
   "execution_count": 75,
   "metadata": {
    "slideshow": {
     "slide_type": "fragment"
    }
   },
   "outputs": [
    {
     "data": {
      "text/plain": [
       "array([[1133.12555364, 1375.14751288, 1391.72693348],\n",
       "       [1161.7194124 , 1187.02896725, 1551.25162035]])"
      ]
     },
     "execution_count": 75,
     "metadata": {},
     "output_type": "execute_result"
    }
   ],
   "source": [
    "results = np.concatenate([[CBA], [TCBA]])\n",
    "results"
   ]
  },
  {
   "cell_type": "code",
   "execution_count": 76,
   "metadata": {
    "slideshow": {
     "slide_type": "subslide"
    }
   },
   "outputs": [
    {
     "data": {
      "text/plain": [
       "<matplotlib.legend.Legend at 0x210cd3bfbe0>"
      ]
     },
     "execution_count": 76,
     "metadata": {},
     "output_type": "execute_result"
    },
    {
     "data": {
      "image/png": "[encoded data removed]",
      "text/plain": [
       "<Figure size 640x480 with 1 Axes>"
      ]
     },
     "metadata": {},
     "output_type": "display_data"
    }
   ],
   "source": [
    "# Plotting the figure\n",
    "fig = plt.figure()\n",
    "\n",
    "# settings and positioning of the bars\n",
    "X_axis_pos = np.arange(no_regions)\n",
    "plt.bar(X_axis_pos - 0.16, results[0], color = 'b', width = 0.3)\n",
    "plt.bar(X_axis_pos + 0.16, results[1], color = 'g', width = 0.3)\n",
    "\n",
    "#axis labels\n",
    "plt.ylabel('Consumption-based Emissions, kg/year')\n",
    "plt.xticks(X_axis_pos, ['R1', 'R2', 'R3'])\n",
    "\n",
    "# Title of the graph\n",
    "plt.title('CBA vs. TCBA')\n",
    "\n",
    "# Legend\n",
    "plt.legend(labels=['CBA', 'TCBA'])"
   ]
  },
  {
   "cell_type": "markdown",
   "metadata": {
    "slideshow": {
     "slide_type": "slide"
    }
   },
   "source": [
    "## Exercise 2: Calculate emissions in the different scopes using exiobase"
   ]
  },
  {
   "cell_type": "markdown",
   "metadata": {
    "slideshow": {
     "slide_type": "subslide"
    }
   },
   "source": [
    "### 2.1 Import exiobase and calculate all the IO variables"
   ]
  },
  {
   "cell_type": "code",
   "execution_count": 77,
   "metadata": {
    "slideshow": {
     "slide_type": "fragment"
    }
   },
   "outputs": [],
   "source": [
    "# Import exiobase\n",
    "path = 'data/IOT_2019_pxp/'    # add name of folder where data is stored                                \n",
    "A = pd.read_csv(f'{path}A.txt', sep='\\t', index_col=[0, 1], header=[0, 1])  # A matrix\n",
    "Z = pd.read_csv(f'{path}Z.txt', sep='\\t', index_col=[0, 1], header=[0, 1])  # Z matrix\n",
    "Y = pd.read_csv(f'{path}Y.txt', sep='\\t', index_col=[0, 1], header=[0, 1])  # Y matrix\n",
    "F = pd.read_csv(f'{path}satellite/F.txt', sep='\\t', index_col=[0], header=[0, 1])  # satellite matrix\n",
    "F_hh = pd.read_csv(f'{path}satellite/F_Y.txt', sep='\\t', index_col=[0], header=[0, 1])  # satellite for FD matrix"
   ]
  },
  {
   "cell_type": "code",
   "execution_count": 78,
   "metadata": {
    "slideshow": {
     "slide_type": "subslide"
    }
   },
   "outputs": [],
   "source": [
    "\n",
    "# calculate the Leontief inverse\n",
    "I = np.identity(A.shape[0])\n",
    "L = np.linalg.inv(I - A)\n",
    "\n",
    "# Calculate total output vector (x)\n",
    "y_total = Y.sum(1)\n",
    "x = L @ y_total\n",
    "\n",
    "# No regions and no sector\n",
    "no_regions = 49\n",
    "no_sectors = 200"
   ]
  },
  {
   "cell_type": "code",
   "execution_count": 79,
   "metadata": {
    "slideshow": {
     "slide_type": "subslide"
    }
   },
   "outputs": [],
   "source": [
    "# Get the CO2 emissions by combustion (\"CO2 - combustion - air\")\n",
    "F_CO2 = F.loc[\"CO2 - combustion - air\"]"
   ]
  },
  {
   "cell_type": "code",
   "execution_count": 80,
   "metadata": {
    "slideshow": {
     "slide_type": "subslide"
    }
   },
   "outputs": [],
   "source": [
    "# we make a copy of our product output vector\n",
    "x_inv = x.copy() \n",
    "\n",
    "# we divide 1 by the values that are non-0\n",
    "x_inv[x_inv!=0] = 1/x_inv[x_inv!=0]"
   ]
  },
  {
   "cell_type": "code",
   "execution_count": 81,
   "metadata": {
    "slideshow": {
     "slide_type": "subslide"
    }
   },
   "outputs": [],
   "source": [
    "f_CO2 = F_CO2 * x_inv"
   ]
  },
  {
   "cell_type": "markdown",
   "metadata": {
    "slideshow": {
     "slide_type": "subslide"
    }
   },
   "source": [
    "#### 2.2 Calculate CO2 multiplier from exiobase data"
   ]
  },
  {
   "cell_type": "code",
   "execution_count": 82,
   "metadata": {
    "slideshow": {
     "slide_type": "fragment"
    }
   },
   "outputs": [],
   "source": [
    "f_CO2_mult = f_CO2 @ L"
   ]
  },
  {
   "cell_type": "markdown",
   "metadata": {
    "slideshow": {
     "slide_type": "subslide"
    }
   },
   "source": [
    "#### 2.3 Import IPCC concordancy matrix"
   ]
  },
  {
   "cell_type": "code",
   "execution_count": 83,
   "metadata": {
    "slideshow": {
     "slide_type": "fragment"
    }
   },
   "outputs": [
    {
     "data": {
      "text/html": [
       "<div>\n",
       "<style scoped>\n",
       "    .dataframe tbody tr th:only-of-type {\n",
       "        vertical-align: middle;\n",
       "    }\n",
       "\n",
       "    .dataframe tbody tr th {\n",
       "        vertical-align: top;\n",
       "    }\n",
       "\n",
       "    .dataframe thead th {\n",
       "        text-align: right;\n",
       "    }\n",
       "</style>\n",
       "<table border=\"1\" class=\"dataframe\">\n",
       "  <thead>\n",
       "    <tr style=\"text-align: right;\">\n",
       "      <th></th>\n",
       "      <th>Energy</th>\n",
       "      <th>Transport</th>\n",
       "      <th>Materials</th>\n",
       "      <th>Industry</th>\n",
       "      <th>Services</th>\n",
       "      <th>Buildings</th>\n",
       "      <th>AFOLU+</th>\n",
       "    </tr>\n",
       "  </thead>\n",
       "  <tbody>\n",
       "    <tr>\n",
       "      <th>\"Paddy rice\"</th>\n",
       "      <td>0.0</td>\n",
       "      <td>0.0</td>\n",
       "      <td>0.0</td>\n",
       "      <td>0.0</td>\n",
       "      <td>0.0</td>\n",
       "      <td>0.0</td>\n",
       "      <td>1.0</td>\n",
       "    </tr>\n",
       "    <tr>\n",
       "      <th>\"Wheat\"</th>\n",
       "      <td>0.0</td>\n",
       "      <td>0.0</td>\n",
       "      <td>0.0</td>\n",
       "      <td>0.0</td>\n",
       "      <td>0.0</td>\n",
       "      <td>0.0</td>\n",
       "      <td>1.0</td>\n",
       "    </tr>\n",
       "    <tr>\n",
       "      <th>\"Cereal grains nec\"</th>\n",
       "      <td>0.0</td>\n",
       "      <td>0.0</td>\n",
       "      <td>0.0</td>\n",
       "      <td>0.0</td>\n",
       "      <td>0.0</td>\n",
       "      <td>0.0</td>\n",
       "      <td>1.0</td>\n",
       "    </tr>\n",
       "    <tr>\n",
       "      <th>\"Vegetables, fruit, nuts\"</th>\n",
       "      <td>0.0</td>\n",
       "      <td>0.0</td>\n",
       "      <td>0.0</td>\n",
       "      <td>0.0</td>\n",
       "      <td>0.0</td>\n",
       "      <td>0.0</td>\n",
       "      <td>1.0</td>\n",
       "    </tr>\n",
       "    <tr>\n",
       "      <th>\"Oil seeds\"</th>\n",
       "      <td>0.0</td>\n",
       "      <td>0.0</td>\n",
       "      <td>0.0</td>\n",
       "      <td>0.0</td>\n",
       "      <td>0.0</td>\n",
       "      <td>0.0</td>\n",
       "      <td>1.0</td>\n",
       "    </tr>\n",
       "  </tbody>\n",
       "</table>\n",
       "</div>"
      ],
      "text/plain": [
       "                           Energy  Transport  Materials  Industry  Services  \\\n",
       "\"Paddy rice\"                  0.0        0.0        0.0       0.0       0.0   \n",
       "\"Wheat\"                       0.0        0.0        0.0       0.0       0.0   \n",
       "\"Cereal grains nec\"           0.0        0.0        0.0       0.0       0.0   \n",
       "\"Vegetables, fruit, nuts\"     0.0        0.0        0.0       0.0       0.0   \n",
       "\"Oil seeds\"                   0.0        0.0        0.0       0.0       0.0   \n",
       "\n",
       "                           Buildings  AFOLU+  \n",
       "\"Paddy rice\"                     0.0     1.0  \n",
       "\"Wheat\"                          0.0     1.0  \n",
       "\"Cereal grains nec\"              0.0     1.0  \n",
       "\"Vegetables, fruit, nuts\"        0.0     1.0  \n",
       "\"Oil seeds\"                      0.0     1.0  "
      ]
     },
     "execution_count": 83,
     "metadata": {},
     "output_type": "execute_result"
    }
   ],
   "source": [
    "ipcc_data = \"data/IPCCsec.xlsx\"\n",
    "\n",
    "# import the xio2detail data\n",
    "IPCCagg = pd.read_excel(ipcc_data, \"xio2detail\", header=0, index_col=0, usecols=\"A:H\")\n",
    "IPCCagg = IPCCagg.fillna(0)  # Change NaN into 0.\n",
    "\n",
    "# This is what the concordancy looks like:\n",
    "IPCCagg.head()"
   ]
  },
  {
   "cell_type": "code",
   "execution_count": 84,
   "metadata": {
    "slideshow": {
     "slide_type": "subslide"
    }
   },
   "outputs": [
    {
     "data": {
      "text/html": [
       "<div>\n",
       "<style scoped>\n",
       "    .dataframe tbody tr th:only-of-type {\n",
       "        vertical-align: middle;\n",
       "    }\n",
       "\n",
       "    .dataframe tbody tr th {\n",
       "        vertical-align: top;\n",
       "    }\n",
       "\n",
       "    .dataframe thead th {\n",
       "        text-align: right;\n",
       "    }\n",
       "</style>\n",
       "<table border=\"1\" class=\"dataframe\">\n",
       "  <thead>\n",
       "    <tr style=\"text-align: right;\">\n",
       "      <th></th>\n",
       "      <th>Energy</th>\n",
       "      <th>Transport</th>\n",
       "      <th>Materials</th>\n",
       "      <th>Industry</th>\n",
       "      <th>Services</th>\n",
       "      <th>Buildings</th>\n",
       "      <th>AFOLU+</th>\n",
       "    </tr>\n",
       "  </thead>\n",
       "  <tbody>\n",
       "    <tr>\n",
       "      <th>\"Paddy rice\"</th>\n",
       "      <td>0.0</td>\n",
       "      <td>0.0</td>\n",
       "      <td>0.0</td>\n",
       "      <td>0.0</td>\n",
       "      <td>0.0</td>\n",
       "      <td>0.0</td>\n",
       "      <td>1.0</td>\n",
       "    </tr>\n",
       "    <tr>\n",
       "      <th>\"Wheat\"</th>\n",
       "      <td>0.0</td>\n",
       "      <td>0.0</td>\n",
       "      <td>0.0</td>\n",
       "      <td>0.0</td>\n",
       "      <td>0.0</td>\n",
       "      <td>0.0</td>\n",
       "      <td>1.0</td>\n",
       "    </tr>\n",
       "    <tr>\n",
       "      <th>\"Cereal grains nec\"</th>\n",
       "      <td>0.0</td>\n",
       "      <td>0.0</td>\n",
       "      <td>0.0</td>\n",
       "      <td>0.0</td>\n",
       "      <td>0.0</td>\n",
       "      <td>0.0</td>\n",
       "      <td>1.0</td>\n",
       "    </tr>\n",
       "    <tr>\n",
       "      <th>\"Vegetables, fruit, nuts\"</th>\n",
       "      <td>0.0</td>\n",
       "      <td>0.0</td>\n",
       "      <td>0.0</td>\n",
       "      <td>0.0</td>\n",
       "      <td>0.0</td>\n",
       "      <td>0.0</td>\n",
       "      <td>1.0</td>\n",
       "    </tr>\n",
       "    <tr>\n",
       "      <th>\"Oil seeds\"</th>\n",
       "      <td>0.0</td>\n",
       "      <td>0.0</td>\n",
       "      <td>0.0</td>\n",
       "      <td>0.0</td>\n",
       "      <td>0.0</td>\n",
       "      <td>0.0</td>\n",
       "      <td>1.0</td>\n",
       "    </tr>\n",
       "  </tbody>\n",
       "</table>\n",
       "</div>"
      ],
      "text/plain": [
       "                           Energy  Transport  Materials  Industry  Services  \\\n",
       "\"Paddy rice\"                  0.0        0.0        0.0       0.0       0.0   \n",
       "\"Wheat\"                       0.0        0.0        0.0       0.0       0.0   \n",
       "\"Cereal grains nec\"           0.0        0.0        0.0       0.0       0.0   \n",
       "\"Vegetables, fruit, nuts\"     0.0        0.0        0.0       0.0       0.0   \n",
       "\"Oil seeds\"                   0.0        0.0        0.0       0.0       0.0   \n",
       "\n",
       "                           Buildings  AFOLU+  \n",
       "\"Paddy rice\"                     0.0     1.0  \n",
       "\"Wheat\"                          0.0     1.0  \n",
       "\"Cereal grains nec\"              0.0     1.0  \n",
       "\"Vegetables, fruit, nuts\"        0.0     1.0  \n",
       "\"Oil seeds\"                      0.0     1.0  "
      ]
     },
     "execution_count": 84,
     "metadata": {},
     "output_type": "execute_result"
    }
   ],
   "source": [
    "# This is what the concordancy looks like:\n",
    "IPCCagg.head()"
   ]
  },
  {
   "cell_type": "code",
   "execution_count": 85,
   "metadata": {
    "slideshow": {
     "slide_type": "subslide"
    }
   },
   "outputs": [
    {
     "data": {
      "text/plain": [
       "(200, 7)"
      ]
     },
     "execution_count": 85,
     "metadata": {},
     "output_type": "execute_result"
    }
   ],
   "source": [
    "# This is its shape\n",
    "IPCCagg.shape"
   ]
  },
  {
   "cell_type": "markdown",
   "metadata": {
    "slideshow": {
     "slide_type": "slide"
    }
   },
   "source": [
    "#### 2.4 Calculate scope 1 emissions"
   ]
  },
  {
   "cell_type": "code",
   "execution_count": 86,
   "metadata": {
    "slideshow": {
     "slide_type": "fragment"
    }
   },
   "outputs": [
    {
     "data": {
      "text/plain": [
       "(200, 49)"
      ]
     },
     "execution_count": 86,
     "metadata": {},
     "output_type": "execute_result"
    }
   ],
   "source": [
    "# use np.reshape to organize your array in a sector by region format\n",
    "F_CO2 = np.reshape(F_CO2.values, (no_sectors, no_regions), order=\"F\")\n",
    "\n",
    "F_CO2.shape"
   ]
  },
  {
   "cell_type": "code",
   "execution_count": 87,
   "metadata": {
    "slideshow": {
     "slide_type": "subslide"
    }
   },
   "outputs": [
    {
     "data": {
      "text/html": [
       "<div>\n",
       "<style scoped>\n",
       "    .dataframe tbody tr th:only-of-type {\n",
       "        vertical-align: middle;\n",
       "    }\n",
       "\n",
       "    .dataframe tbody tr th {\n",
       "        vertical-align: top;\n",
       "    }\n",
       "\n",
       "    .dataframe thead th {\n",
       "        text-align: right;\n",
       "    }\n",
       "</style>\n",
       "<table border=\"1\" class=\"dataframe\">\n",
       "  <thead>\n",
       "    <tr style=\"text-align: right;\">\n",
       "      <th></th>\n",
       "      <th>Energy</th>\n",
       "      <th>Transport</th>\n",
       "      <th>Materials</th>\n",
       "      <th>Industry</th>\n",
       "      <th>Services</th>\n",
       "      <th>Buildings</th>\n",
       "      <th>AFOLU+</th>\n",
       "    </tr>\n",
       "  </thead>\n",
       "  <tbody>\n",
       "    <tr>\n",
       "      <th>AT</th>\n",
       "      <td>2.016691e+10</td>\n",
       "      <td>7.935311e+09</td>\n",
       "      <td>6.811139e+09</td>\n",
       "      <td>3.586308e+09</td>\n",
       "      <td>5.746632e+09</td>\n",
       "      <td>2.185800e+09</td>\n",
       "      <td>2.365656e+09</td>\n",
       "    </tr>\n",
       "    <tr>\n",
       "      <th>BE</th>\n",
       "      <td>2.048556e+10</td>\n",
       "      <td>1.104956e+10</td>\n",
       "      <td>1.000129e+10</td>\n",
       "      <td>5.517042e+09</td>\n",
       "      <td>8.900914e+09</td>\n",
       "      <td>9.972432e+08</td>\n",
       "      <td>1.044853e+10</td>\n",
       "    </tr>\n",
       "    <tr>\n",
       "      <th>BG</th>\n",
       "      <td>2.372672e+10</td>\n",
       "      <td>1.771636e+09</td>\n",
       "      <td>3.393362e+09</td>\n",
       "      <td>1.506501e+09</td>\n",
       "      <td>1.601384e+09</td>\n",
       "      <td>5.960901e+08</td>\n",
       "      <td>1.014416e+09</td>\n",
       "    </tr>\n",
       "    <tr>\n",
       "      <th>CY</th>\n",
       "      <td>2.625091e+09</td>\n",
       "      <td>7.148056e+09</td>\n",
       "      <td>6.011065e+08</td>\n",
       "      <td>9.574919e+07</td>\n",
       "      <td>1.926194e+08</td>\n",
       "      <td>3.973396e+07</td>\n",
       "      <td>1.914441e+08</td>\n",
       "    </tr>\n",
       "    <tr>\n",
       "      <th>CZ</th>\n",
       "      <td>5.130931e+10</td>\n",
       "      <td>8.740575e+09</td>\n",
       "      <td>1.008320e+10</td>\n",
       "      <td>5.529104e+09</td>\n",
       "      <td>7.297626e+09</td>\n",
       "      <td>2.525981e+09</td>\n",
       "      <td>2.972868e+09</td>\n",
       "    </tr>\n",
       "  </tbody>\n",
       "</table>\n",
       "</div>"
      ],
      "text/plain": [
       "          Energy     Transport     Materials      Industry      Services  \\\n",
       "AT  2.016691e+10  7.935311e+09  6.811139e+09  3.586308e+09  5.746632e+09   \n",
       "BE  2.048556e+10  1.104956e+10  1.000129e+10  5.517042e+09  8.900914e+09   \n",
       "BG  2.372672e+10  1.771636e+09  3.393362e+09  1.506501e+09  1.601384e+09   \n",
       "CY  2.625091e+09  7.148056e+09  6.011065e+08  9.574919e+07  1.926194e+08   \n",
       "CZ  5.130931e+10  8.740575e+09  1.008320e+10  5.529104e+09  7.297626e+09   \n",
       "\n",
       "       Buildings        AFOLU+  \n",
       "AT  2.185800e+09  2.365656e+09  \n",
       "BE  9.972432e+08  1.044853e+10  \n",
       "BG  5.960901e+08  1.014416e+09  \n",
       "CY  3.973396e+07  1.914441e+08  \n",
       "CZ  2.525981e+09  2.972868e+09  "
      ]
     },
     "execution_count": 87,
     "metadata": {},
     "output_type": "execute_result"
    }
   ],
   "source": [
    "# Aggregating sectors/products by the macro-categories  using the concordancy matrix\n",
    "co2_scope1 = F_CO2.T @ IPCCagg\n",
    "\n",
    "# adding regional labels\n",
    "reg_labels = Y.index.to_frame(False).region.unique()\n",
    "co2_scope1.index = reg_labels\n",
    "\n",
    "# inspecting the data\n",
    "co2_scope1.head()"
   ]
  },
  {
   "cell_type": "markdown",
   "metadata": {
    "slideshow": {
     "slide_type": "subslide"
    }
   },
   "source": [
    "#### 2.5 Calculate scope 2 emissions"
   ]
  },
  {
   "cell_type": "code",
   "execution_count": 88,
   "metadata": {
    "slideshow": {
     "slide_type": "fragment"
    }
   },
   "outputs": [],
   "source": [
    "first_el_pr_pos = 127 # first electricity product category\n",
    "last_el_pr_pos = 140  # last electricity product category\n",
    "\n",
    "elec = np.zeros(A.shape[0])\n",
    "\n",
    "for i in range(no_regions):\n",
    "    start_pos = i * no_sectors + first_el_pr_pos\n",
    "    end_pos = i * no_sectors + last_el_pr_pos\n",
    "    elec[start_pos : end_pos] = 1"
   ]
  },
  {
   "cell_type": "code",
   "execution_count": 89,
   "metadata": {
    "slideshow": {
     "slide_type": "subslide"
    }
   },
   "outputs": [
    {
     "data": {
      "text/html": [
       "<div>\n",
       "<style scoped>\n",
       "    .dataframe tbody tr th:only-of-type {\n",
       "        vertical-align: middle;\n",
       "    }\n",
       "\n",
       "    .dataframe tbody tr th {\n",
       "        vertical-align: top;\n",
       "    }\n",
       "\n",
       "    .dataframe thead th {\n",
       "        text-align: right;\n",
       "    }\n",
       "</style>\n",
       "<table border=\"1\" class=\"dataframe\">\n",
       "  <thead>\n",
       "    <tr style=\"text-align: right;\">\n",
       "      <th></th>\n",
       "      <th>Energy</th>\n",
       "      <th>Transport</th>\n",
       "      <th>Materials</th>\n",
       "      <th>Industry</th>\n",
       "      <th>Services</th>\n",
       "      <th>Buildings</th>\n",
       "      <th>AFOLU+</th>\n",
       "    </tr>\n",
       "  </thead>\n",
       "  <tbody>\n",
       "    <tr>\n",
       "      <th>AT</th>\n",
       "      <td>8.262385e+09</td>\n",
       "      <td>2.250841e+08</td>\n",
       "      <td>8.844044e+08</td>\n",
       "      <td>6.511058e+08</td>\n",
       "      <td>1.013901e+09</td>\n",
       "      <td>3.561049e+08</td>\n",
       "      <td>4.924218e+08</td>\n",
       "    </tr>\n",
       "    <tr>\n",
       "      <th>BE</th>\n",
       "      <td>1.115845e+09</td>\n",
       "      <td>2.607817e+08</td>\n",
       "      <td>3.426164e+09</td>\n",
       "      <td>1.017822e+09</td>\n",
       "      <td>1.283272e+09</td>\n",
       "      <td>6.029298e+08</td>\n",
       "      <td>1.071915e+09</td>\n",
       "    </tr>\n",
       "    <tr>\n",
       "      <th>BG</th>\n",
       "      <td>3.430876e+09</td>\n",
       "      <td>6.789487e+08</td>\n",
       "      <td>4.089353e+09</td>\n",
       "      <td>3.138016e+09</td>\n",
       "      <td>5.416024e+08</td>\n",
       "      <td>5.675817e+08</td>\n",
       "      <td>1.834307e+09</td>\n",
       "    </tr>\n",
       "    <tr>\n",
       "      <th>CY</th>\n",
       "      <td>1.998850e+07</td>\n",
       "      <td>9.778393e+06</td>\n",
       "      <td>2.510536e+08</td>\n",
       "      <td>4.129196e+08</td>\n",
       "      <td>1.012026e+09</td>\n",
       "      <td>2.782214e+08</td>\n",
       "      <td>6.639656e+08</td>\n",
       "    </tr>\n",
       "    <tr>\n",
       "      <th>CZ</th>\n",
       "      <td>1.304268e+09</td>\n",
       "      <td>4.109808e+08</td>\n",
       "      <td>1.431851e+09</td>\n",
       "      <td>2.183612e+09</td>\n",
       "      <td>1.706475e+09</td>\n",
       "      <td>3.427689e+08</td>\n",
       "      <td>8.094304e+08</td>\n",
       "    </tr>\n",
       "  </tbody>\n",
       "</table>\n",
       "</div>"
      ],
      "text/plain": [
       "          Energy     Transport     Materials      Industry      Services  \\\n",
       "AT  8.262385e+09  2.250841e+08  8.844044e+08  6.511058e+08  1.013901e+09   \n",
       "BE  1.115845e+09  2.607817e+08  3.426164e+09  1.017822e+09  1.283272e+09   \n",
       "BG  3.430876e+09  6.789487e+08  4.089353e+09  3.138016e+09  5.416024e+08   \n",
       "CY  1.998850e+07  9.778393e+06  2.510536e+08  4.129196e+08  1.012026e+09   \n",
       "CZ  1.304268e+09  4.109808e+08  1.431851e+09  2.183612e+09  1.706475e+09   \n",
       "\n",
       "       Buildings        AFOLU+  \n",
       "AT  3.561049e+08  4.924218e+08  \n",
       "BE  6.029298e+08  1.071915e+09  \n",
       "BG  5.675817e+08  1.834307e+09  \n",
       "CY  2.782214e+08  6.639656e+08  \n",
       "CZ  3.427689e+08  8.094304e+08  "
      ]
     },
     "execution_count": 89,
     "metadata": {},
     "output_type": "execute_result"
    }
   ],
   "source": [
    "# Calculate the scope 2 emissions \n",
    "# by performing f×diag(electricity)×Z\n",
    "co2_scope2 = f_CO2_mult @ np.diag(elec) @ Z.values\n",
    "\n",
    "# Reshape\n",
    "co2_scope2 = np.reshape(co2_scope2, (no_sectors, no_regions), order=\"F\")\n",
    "\n",
    "# Aggregate sectors/products by the macro-categories using the concordancy matrix\n",
    "co2_scope2 = co2_scope2.T @ IPCCagg\n",
    "\n",
    "# adding regional labels\n",
    "reg_labels = Y.index.to_frame(False).region.unique()\n",
    "co2_scope2.index = reg_labels\n",
    "\n",
    "# inspecting the data\n",
    "co2_scope2.head()"
   ]
  },
  {
   "cell_type": "markdown",
   "metadata": {
    "slideshow": {
     "slide_type": "subslide"
    }
   },
   "source": [
    "#### 2.6 Calculate scope 3 emissions"
   ]
  },
  {
   "cell_type": "code",
   "execution_count": 90,
   "metadata": {
    "slideshow": {
     "slide_type": "fragment"
    }
   },
   "outputs": [
    {
     "data": {
      "text/html": [
       "<div>\n",
       "<style scoped>\n",
       "    .dataframe tbody tr th:only-of-type {\n",
       "        vertical-align: middle;\n",
       "    }\n",
       "\n",
       "    .dataframe tbody tr th {\n",
       "        vertical-align: top;\n",
       "    }\n",
       "\n",
       "    .dataframe thead th {\n",
       "        text-align: right;\n",
       "    }\n",
       "</style>\n",
       "<table border=\"1\" class=\"dataframe\">\n",
       "  <thead>\n",
       "    <tr style=\"text-align: right;\">\n",
       "      <th></th>\n",
       "      <th>Energy</th>\n",
       "      <th>Transport</th>\n",
       "      <th>Materials</th>\n",
       "      <th>Industry</th>\n",
       "      <th>Services</th>\n",
       "      <th>Buildings</th>\n",
       "      <th>AFOLU+</th>\n",
       "    </tr>\n",
       "  </thead>\n",
       "  <tbody>\n",
       "    <tr>\n",
       "      <th>AT</th>\n",
       "      <td>2.733310e+10</td>\n",
       "      <td>6.069888e+09</td>\n",
       "      <td>1.228469e+10</td>\n",
       "      <td>2.198268e+10</td>\n",
       "      <td>2.117284e+10</td>\n",
       "      <td>1.251391e+10</td>\n",
       "      <td>6.392723e+09</td>\n",
       "    </tr>\n",
       "    <tr>\n",
       "      <th>BE</th>\n",
       "      <td>1.820710e+10</td>\n",
       "      <td>1.885661e+10</td>\n",
       "      <td>2.218041e+10</td>\n",
       "      <td>2.418857e+10</td>\n",
       "      <td>3.035455e+10</td>\n",
       "      <td>1.647499e+10</td>\n",
       "      <td>1.449188e+10</td>\n",
       "    </tr>\n",
       "    <tr>\n",
       "      <th>BG</th>\n",
       "      <td>5.541495e+09</td>\n",
       "      <td>2.730011e+09</td>\n",
       "      <td>1.234898e+10</td>\n",
       "      <td>5.225574e+09</td>\n",
       "      <td>4.644990e+09</td>\n",
       "      <td>4.654598e+09</td>\n",
       "      <td>4.285286e+09</td>\n",
       "    </tr>\n",
       "    <tr>\n",
       "      <th>CY</th>\n",
       "      <td>1.037274e+08</td>\n",
       "      <td>3.391930e+08</td>\n",
       "      <td>5.901414e+08</td>\n",
       "      <td>3.572226e+08</td>\n",
       "      <td>2.169875e+09</td>\n",
       "      <td>1.676593e+09</td>\n",
       "      <td>9.066663e+08</td>\n",
       "    </tr>\n",
       "    <tr>\n",
       "      <th>CZ</th>\n",
       "      <td>2.906925e+10</td>\n",
       "      <td>1.428672e+10</td>\n",
       "      <td>2.534489e+10</td>\n",
       "      <td>4.430203e+10</td>\n",
       "      <td>3.046052e+10</td>\n",
       "      <td>1.521667e+10</td>\n",
       "      <td>1.225029e+10</td>\n",
       "    </tr>\n",
       "  </tbody>\n",
       "</table>\n",
       "</div>"
      ],
      "text/plain": [
       "          Energy     Transport     Materials      Industry      Services  \\\n",
       "AT  2.733310e+10  6.069888e+09  1.228469e+10  2.198268e+10  2.117284e+10   \n",
       "BE  1.820710e+10  1.885661e+10  2.218041e+10  2.418857e+10  3.035455e+10   \n",
       "BG  5.541495e+09  2.730011e+09  1.234898e+10  5.225574e+09  4.644990e+09   \n",
       "CY  1.037274e+08  3.391930e+08  5.901414e+08  3.572226e+08  2.169875e+09   \n",
       "CZ  2.906925e+10  1.428672e+10  2.534489e+10  4.430203e+10  3.046052e+10   \n",
       "\n",
       "       Buildings        AFOLU+  \n",
       "AT  1.251391e+10  6.392723e+09  \n",
       "BE  1.647499e+10  1.449188e+10  \n",
       "BG  4.654598e+09  4.285286e+09  \n",
       "CY  1.676593e+09  9.066663e+08  \n",
       "CZ  1.521667e+10  1.225029e+10  "
      ]
     },
     "execution_count": 90,
     "metadata": {},
     "output_type": "execute_result"
    }
   ],
   "source": [
    "# Calculate scope 2 emissions by peforming\n",
    "# f×L×Z - f×diag(Elec)×Z\n",
    "\n",
    "co2_scope3 = (f_CO2_mult @ Z.values) - (f_CO2_mult @ np.diag(elec) @ Z.values)\n",
    "\n",
    "# Reshape\n",
    "co2_scope3 = np.reshape(co2_scope3, (no_sectors, no_regions), order=\"F\")\n",
    "\n",
    "# Aggregate sectors/products by the macro-categories using the concordancy matrix\n",
    "co2_scope3 = co2_scope3.T @ IPCCagg\n",
    "\n",
    "# adding regional labels\n",
    "reg_labels = Y.index.to_frame(False).region.unique()\n",
    "co2_scope3.index = reg_labels\n",
    "\n",
    "# inspecting the data\n",
    "co2_scope3.head()"
   ]
  },
  {
   "cell_type": "markdown",
   "metadata": {
    "slideshow": {
     "slide_type": "subslide"
    }
   },
   "source": [
    "#### 2.7 Make a stacked bar plot of the results for a region"
   ]
  },
  {
   "cell_type": "code",
   "execution_count": 91,
   "metadata": {
    "slideshow": {
     "slide_type": "fragment"
    }
   },
   "outputs": [
    {
     "data": {
      "text/plain": [
       "<AxesSubplot: title={'center': 'Scopes 2019 - region NL'}, ylabel='Pg CO2 eq'>"
      ]
     },
     "execution_count": 91,
     "metadata": {},
     "output_type": "execute_result"
    },
    {
     "data": {
      "image/png": "[encoded data removed]",
      "text/plain": [
       "<Figure size 640x480 with 1 Axes>"
      ]
     },
     "metadata": {},
     "output_type": "display_data"
    }
   ],
   "source": [
    "region = \"NL\"\n",
    "\n",
    "results_dashboard = pd.DataFrame(\n",
    "    data=[co2_scope1.loc[region], co2_scope2.loc[region], co2_scope3.loc[region]],\n",
    "    columns=IPCCagg.columns,\n",
    "    index=[\"1\", \"2\", \"3\"],\n",
    ")\n",
    "results_dashboard.T.plot(kind=\"bar\", stacked=True, ylabel=\"Pg CO2 eq\", title=f\"Scopes 2019 - region {region}\")"
   ]
  }
 ],
 "metadata": {
  "celltoolbar": "Slideshow",
  "kernelspec": {
   "display_name": "Python 3 (ipykernel)",
   "language": "python",
   "name": "python3"
  },
  "language_info": {
   "codemirror_mode": {
    "name": "ipython",
    "version": 3
   },
   "file_extension": ".py",
   "mimetype": "text/x-python",
   "name": "python",
   "nbconvert_exporter": "python",
   "pygments_lexer": "ipython3",
   "version": "3.9.16"
  }
 },
 "nbformat": 4,
 "nbformat_minor": 2
}
