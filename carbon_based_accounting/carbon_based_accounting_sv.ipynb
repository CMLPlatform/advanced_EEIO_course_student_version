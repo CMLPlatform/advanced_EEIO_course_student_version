{
 "cells": [
  {
   "cell_type": "markdown",
   "metadata": {
    "slideshow": {
     "slide_type": "slide"
    }
   },
   "source": [
    "# Practical 7: Technology adjusted Carbon Based Accounting\n",
    "\n",
    "Objectives\n",
    "- Calculate TCBA\n",
    "- Calculate Scope 1, 2, 3 emissions\n",
    "- Visualize results\n",
    "\n",
    "**Technology adjusted consumption-based accounting**\n",
    "\n",
    "- In the [supplementary Information](https://static-content.springer.com/esm/art%3A10.1038%2Fnclimate2555/MediaObjects/41558_2015_BFnclimate2555_MOESM453_ESM.xlsx) file of [Kander et al. (2015), *National greenhouse-gas accounting for effective climate policy on international trade*](https://www.nature.com/articles/nclimate2555#Tab1), the authors illustrated the TCBA calculation and results in a spreadsheet.\n",
    "\n",
    "- Download and go through the spreadsheet example to further understand the TCBA calculations. \n"
   ]
  },
  {
   "cell_type": "code",
   "execution_count": null,
   "metadata": {
    "slideshow": {
     "slide_type": "slide"
    }
   },
   "outputs": [],
   "source": [
    "# Import packages\n",
    "import pandas as pd\n",
    "import numpy as np\n",
    "import matplotlib.pyplot as plt"
   ]
  },
  {
   "cell_type": "markdown",
   "metadata": {
    "slideshow": {
     "slide_type": "slide"
    }
   },
   "source": [
    "## Exercise 1: Calculate and visualize CBA vs TCBA"
   ]
  },
  {
   "cell_type": "markdown",
   "metadata": {
    "slideshow": {
     "slide_type": "subslide"
    }
   },
   "source": [
    "### 1.1 Import the downloaded data"
   ]
  },
  {
   "cell_type": "code",
   "execution_count": null,
   "metadata": {
    "slideshow": {
     "slide_type": "fragment"
    }
   },
   "outputs": [],
   "source": [
    "# Import exiobase\n",
    "data_file = 'data/41558_2015_BFnclimate2555_MOESM453_ESM.xlsx'    # add name of folder where data is stored\n",
    "\n",
    "Z = pd.read_excel(data_file, sheet_name='TCBA Example', header = 2, usecols='C:N', nrows=12).values\n",
    "\n",
    "Y = pd.read_excel(data_file, sheet_name='TCBA Example', header = 2, usecols='P:R', nrows=12).values\n",
    "\n",
    "V = pd.read_excel(data_file, sheet_name='TCBA Example', header = 15, usecols='C:N', nrows=3).sum(0).values\n",
    "\n",
    "F = pd.read_excel(\n",
    "    data_file, sheet_name=\"TCBA Example\", header=21, usecols=\"C:N\", nrows=1\n",
    ").values[0]"
   ]
  },
  {
   "cell_type": "markdown",
   "metadata": {
    "slideshow": {
     "slide_type": "subslide"
    }
   },
   "source": [
    "### 1.2 Calculate other IO variables"
   ]
  },
  {
   "cell_type": "code",
   "execution_count": null,
   "metadata": {
    "slideshow": {
     "slide_type": "fragment"
    }
   },
   "outputs": [],
   "source": [
    "x = Z.sum(1) + Y.sum(1)\n",
    "f = F/x\n",
    "A = Z/x\n",
    "I = np.identity(A.shape[0])\n",
    "L = np.linalg.inv(I - A)"
   ]
  },
  {
   "cell_type": "markdown",
   "metadata": {
    "slideshow": {
     "slide_type": "subslide"
    }
   },
   "source": [
    "### 1.3 TCBA calculations"
   ]
  },
  {
   "cell_type": "markdown",
   "metadata": {
    "slideshow": {
     "slide_type": "fragment"
    }
   },
   "source": [
    "#### 1.3.1 Export-related output"
   ]
  },
  {
   "cell_type": "code",
   "execution_count": null,
   "metadata": {
    "slideshow": {
     "slide_type": "fragment"
    }
   },
   "outputs": [],
   "source": [
    "# output multiplier\n",
    "x_mult = L @ Y\n",
    "x_mult"
   ]
  },
  {
   "cell_type": "code",
   "execution_count": null,
   "metadata": {
    "slideshow": {
     "slide_type": "slide"
    }
   },
   "outputs": [],
   "source": [
    "# remove domestic trasactions (the diagonals)\n",
    "ex_mult = x_mult.copy()\n",
    "\n",
    "no_regions = 3  # number of regions\n",
    "no_sectors = 4  # number of sectors\n",
    "\n",
    "for i in range(no_regions):\n",
    "    row_start = None\n",
    "    row_end = None\n",
    "\n",
    "    ex_mult[ row_start : row_end , i] = 0           \n",
    "\n",
    "ex_mult"
   ]
  },
  {
   "cell_type": "code",
   "execution_count": null,
   "metadata": {
    "slideshow": {
     "slide_type": "subslide"
    }
   },
   "outputs": [],
   "source": [
    "# The total product output for only export \n",
    "ex = ex_mult.sum(1)\n",
    "ex"
   ]
  },
  {
   "cell_type": "markdown",
   "metadata": {
    "slideshow": {
     "slide_type": "slide"
    }
   },
   "source": [
    "#### 1.3.2 Export-related emissions"
   ]
  },
  {
   "cell_type": "code",
   "execution_count": null,
   "metadata": {
    "slideshow": {
     "slide_type": "fragment"
    }
   },
   "outputs": [],
   "source": [
    "# Export-related emissions (use np.diag(f)@ x_mult)\n",
    "F_ex = None\n",
    "F_ex"
   ]
  },
  {
   "cell_type": "code",
   "execution_count": null,
   "metadata": {},
   "outputs": [],
   "source": [
    "# Vector of export related emissions (direct emissions PBA sum=1)\n",
    "F_ex = None\n",
    "F_ex"
   ]
  },
  {
   "cell_type": "markdown",
   "metadata": {
    "slideshow": {
     "slide_type": "slide"
    }
   },
   "source": [
    "#### 1.3.3 Calculate 'World market average emissions multiplier'"
   ]
  },
  {
   "cell_type": "code",
   "execution_count": null,
   "metadata": {
    "slideshow": {
     "slide_type": "fragment"
    }
   },
   "outputs": [],
   "source": [
    "# Split the ex and F into 3 arrays, one for each region (use np.split)\n",
    "sect_ex = None\n",
    "sect_F_ex = None\n",
    "sect_ex, sect_F_ex"
   ]
  },
  {
   "cell_type": "code",
   "execution_count": null,
   "metadata": {
    "slideshow": {
     "slide_type": "subslide"
    }
   },
   "outputs": [],
   "source": [
    "# Sum them over axis 0, in this way you have the total global ex and F_ex by sector\n",
    "sect_ex_sum = None\n",
    "sect_F_ex_sum = None\n",
    "sect_ex_sum, sect_F_ex_sum"
   ]
  },
  {
   "cell_type": "code",
   "execution_count": null,
   "metadata": {
    "slideshow": {
     "slide_type": "fragment"
    }
   },
   "outputs": [],
   "source": [
    "# calculate the average global environmental intensity by sector\n",
    "f_wa_sec = None\n",
    "f_wa_sec"
   ]
  },
  {
   "cell_type": "code",
   "execution_count": null,
   "metadata": {
    "slideshow": {
     "slide_type": "fragment"
    }
   },
   "outputs": [],
   "source": [
    "# replicate it for each region\n",
    "f_wa = None\n",
    "f_wa"
   ]
  },
  {
   "cell_type": "markdown",
   "metadata": {
    "slideshow": {
     "slide_type": "subslide"
    }
   },
   "source": [
    "#### 1.3.4 Export-related emissions by TCBA"
   ]
  },
  {
   "cell_type": "code",
   "execution_count": null,
   "metadata": {
    "slideshow": {
     "slide_type": "fragment"
    }
   },
   "outputs": [],
   "source": [
    "# Export-related emissions by TCBA  \n",
    "F_ex_TCBA = None\n",
    "F_ex_TCBA"
   ]
  },
  {
   "cell_type": "markdown",
   "metadata": {
    "slideshow": {
     "slide_type": "subslide"
    }
   },
   "source": [
    "#### 1.3.5 Adjust export-related emissions (i.e. TCBA)"
   ]
  },
  {
   "cell_type": "code",
   "execution_count": null,
   "metadata": {
    "slideshow": {
     "slide_type": "fragment"
    }
   },
   "outputs": [],
   "source": [
    "CBA = None  # note F_hh is neglected in this example\n",
    "CBA"
   ]
  },
  {
   "cell_type": "code",
   "execution_count": null,
   "metadata": {
    "slideshow": {
     "slide_type": "fragment"
    }
   },
   "outputs": [],
   "source": [
    "# calculate the different between the total emissions due to exports from the technolgy adjusted ones \n",
    "diff_ex = None\n",
    "diff_ex"
   ]
  },
  {
   "cell_type": "code",
   "execution_count": null,
   "metadata": {
    "slideshow": {
     "slide_type": "subslide"
    }
   },
   "outputs": [],
   "source": [
    "# We aggregate this difference regionally\n",
    "diff_ex_r = None\n",
    "diff_ex_r"
   ]
  },
  {
   "cell_type": "code",
   "execution_count": null,
   "metadata": {
    "slideshow": {
     "slide_type": "fragment"
    }
   },
   "outputs": [],
   "source": [
    "# Calculate the TCBA by summing the difference to the CBA\n",
    "TCBA = None\n",
    "TCBA"
   ]
  },
  {
   "cell_type": "markdown",
   "metadata": {
    "slideshow": {
     "slide_type": "slide"
    }
   },
   "source": [
    "### 1.4 Visualize results"
   ]
  },
  {
   "cell_type": "code",
   "execution_count": null,
   "metadata": {
    "slideshow": {
     "slide_type": "fragment"
    }
   },
   "outputs": [],
   "source": [
    "# Concatenate results to be visualized\n",
    "results = np.concatenate([[CBA], [TCBA]])\n",
    "results"
   ]
  },
  {
   "cell_type": "code",
   "execution_count": null,
   "metadata": {
    "slideshow": {
     "slide_type": "subslide"
    }
   },
   "outputs": [],
   "source": [
    "# Plotting the figure\n",
    "fig = plt.figure()\n",
    "\n",
    "# settings and positioning of the bars\n",
    "X_axis_pos = np.arange(no_regions)\n",
    "plt.bar(X_axis_pos - 0.16, results[0], color = 'b', width = 0.3)\n",
    "plt.bar(X_axis_pos + 0.16, results[1], color = 'g', width = 0.3)\n",
    "\n",
    "#axis labels\n",
    "plt.ylabel('Consumption-based Emissions, kg/year')\n",
    "plt.xticks(X_axis_pos, ['R1', 'R2', 'R3'])\n",
    "\n",
    "# Title of the graph\n",
    "plt.title('CBA vs. TCBA')\n",
    "\n",
    "# Legend\n",
    "plt.legend(labels=['CBA', 'TCBA'])"
   ]
  },
  {
   "cell_type": "markdown",
   "metadata": {
    "slideshow": {
     "slide_type": "slide"
    }
   },
   "source": [
    "## Exercise 2: Calculate emissions in the different scopes using exiobase"
   ]
  },
  {
   "cell_type": "markdown",
   "metadata": {
    "slideshow": {
     "slide_type": "subslide"
    }
   },
   "source": [
    "### 2.1 Import exiobase and calculate all the IO variables"
   ]
  },
  {
   "cell_type": "code",
   "execution_count": null,
   "metadata": {
    "slideshow": {
     "slide_type": "fragment"
    }
   },
   "outputs": [],
   "source": [
    "# Import exiobase\n",
    "path = 'data/IOT_2019_pxp/'    # add name of folder where data is stored                                \n",
    "A = pd.read_csv(f'{path}A.txt', sep='\\t', index_col=[0, 1], header=[0, 1])  # A matrix\n",
    "Z = pd.read_csv(f'{path}Z.txt', sep='\\t', index_col=[0, 1], header=[0, 1])  # Z matrix\n",
    "Y = pd.read_csv(f'{path}Y.txt', sep='\\t', index_col=[0, 1], header=[0, 1])  # Y matrix\n",
    "F = pd.read_csv(f'{path}satellite/F.txt', sep='\\t', index_col=[0], header=[0, 1])  # satellite matrix\n",
    "F_hh = pd.read_csv(f'{path}satellite/F_Y.txt', sep='\\t', index_col=[0], header=[0, 1])  # satellite for FD matrix"
   ]
  },
  {
   "cell_type": "code",
   "execution_count": null,
   "metadata": {
    "slideshow": {
     "slide_type": "subslide"
    }
   },
   "outputs": [],
   "source": [
    "\n",
    "# calculate the Leontief inverse\n",
    "I = np.identity(A.shape[0])\n",
    "L = np.linalg.inv(I - A)\n",
    "\n",
    "# Calculate total output vector (x)\n",
    "y_total = Y.sum(1)\n",
    "x = L @ y_total\n",
    "\n",
    "# No regions and no sector\n",
    "no_regions = 49\n",
    "no_sectors = 200"
   ]
  },
  {
   "cell_type": "code",
   "execution_count": null,
   "metadata": {
    "slideshow": {
     "slide_type": "subslide"
    }
   },
   "outputs": [],
   "source": [
    "# Get the CO2 emissions by combustion (\"CO2 - combustion - air\")\n",
    "F_CO2 = F.loc[\"CO2 - combustion - air\"]"
   ]
  },
  {
   "cell_type": "code",
   "execution_count": null,
   "metadata": {
    "slideshow": {
     "slide_type": "subslide"
    }
   },
   "outputs": [],
   "source": [
    "# we make a copy of our product output vector\n",
    "x_inv = x.copy() \n",
    "\n",
    "# we divide 1 by the values that are non-0\n",
    "x_inv[x_inv!=0] = 1/x_inv[x_inv!=0]"
   ]
  },
  {
   "cell_type": "code",
   "execution_count": null,
   "metadata": {
    "slideshow": {
     "slide_type": "subslide"
    }
   },
   "outputs": [],
   "source": [
    "f_CO2 = F_CO2 * x_inv"
   ]
  },
  {
   "cell_type": "markdown",
   "metadata": {
    "slideshow": {
     "slide_type": "subslide"
    }
   },
   "source": [
    "#### 2.2 Calculate CO2 multiplier from exiobase data"
   ]
  },
  {
   "cell_type": "code",
   "execution_count": null,
   "metadata": {
    "slideshow": {
     "slide_type": "fragment"
    }
   },
   "outputs": [],
   "source": [
    "f_CO2_mult = None"
   ]
  },
  {
   "cell_type": "markdown",
   "metadata": {
    "slideshow": {
     "slide_type": "subslide"
    }
   },
   "source": [
    "#### 2.3 Import IPCC concordancy matrix"
   ]
  },
  {
   "cell_type": "code",
   "execution_count": null,
   "metadata": {
    "slideshow": {
     "slide_type": "fragment"
    }
   },
   "outputs": [],
   "source": [
    "ipcc_data = \"data/IPCCsec.xlsx\"\n",
    "\n",
    "# import the xio2detail data\n",
    "IPCCagg = pd.read_excel(ipcc_data, \"xio2detail\", header=0, index_col=0, usecols=\"A:H\")\n",
    "IPCCagg = IPCCagg.fillna(0)  # Change NaN into 0.\n",
    "\n",
    "# This is what the concordancy looks like:\n",
    "IPCCagg.head()"
   ]
  },
  {
   "cell_type": "code",
   "execution_count": null,
   "metadata": {
    "slideshow": {
     "slide_type": "subslide"
    }
   },
   "outputs": [],
   "source": [
    "# This is what the concordancy looks like:\n",
    "IPCCagg.head()"
   ]
  },
  {
   "cell_type": "code",
   "execution_count": null,
   "metadata": {
    "slideshow": {
     "slide_type": "subslide"
    }
   },
   "outputs": [],
   "source": [
    "# This is its shape\n",
    "IPCCagg.shape"
   ]
  },
  {
   "cell_type": "markdown",
   "metadata": {
    "slideshow": {
     "slide_type": "slide"
    }
   },
   "source": [
    "#### 2.4 Calculate scope 1 emissions"
   ]
  },
  {
   "cell_type": "code",
   "execution_count": null,
   "metadata": {
    "slideshow": {
     "slide_type": "fragment"
    }
   },
   "outputs": [],
   "source": [
    "# use np.reshape to organize your array in a sector by region format (use np.reshape with order=\"F\")\n",
    "F_CO2 = None\n",
    "\n",
    "F_CO2.shape"
   ]
  },
  {
   "cell_type": "code",
   "execution_count": null,
   "metadata": {
    "slideshow": {
     "slide_type": "subslide"
    }
   },
   "outputs": [],
   "source": [
    "# Aggregating sectors/products by the macro-categories using the concordancy matrix\n",
    "co2_scope1 = None\n",
    "\n",
    "# adding regional labels\n",
    "reg_labels = Y.index.to_frame(False).region.unique()\n",
    "co2_scope1.index = reg_labels\n",
    "\n",
    "# inspecting the data\n",
    "co2_scope1.head()"
   ]
  },
  {
   "cell_type": "markdown",
   "metadata": {
    "slideshow": {
     "slide_type": "subslide"
    }
   },
   "source": [
    "#### 2.5 Calculate scope 2 emissions"
   ]
  },
  {
   "cell_type": "code",
   "execution_count": null,
   "metadata": {
    "slideshow": {
     "slide_type": "fragment"
    }
   },
   "outputs": [],
   "source": [
    "first_el_pr_pos = 127 # first electricity product category\n",
    "last_el_pr_pos = 140  # last electricity product category\n",
    "\n",
    "elec = np.zeros(A.shape[0])\n",
    "\n",
    "for i in range(no_regions):\n",
    "    start_pos = None\n",
    "    end_pos = None\n",
    "    elec[start_pos : end_pos] = 1"
   ]
  },
  {
   "cell_type": "code",
   "execution_count": null,
   "metadata": {
    "slideshow": {
     "slide_type": "subslide"
    }
   },
   "outputs": [],
   "source": [
    "# Calculate the scope 2 emissions \n",
    "# by performing f×diag(electricity)×Z\n",
    "\n",
    "co2_scope2 = None\n",
    "\n",
    "# Reshape\n",
    "co2_scope2 = None\n",
    "\n",
    "# Aggregate sectors/products by the macro-categories using the concordancy matrix\n",
    "co2_scope2 = None\n",
    "\n",
    "# adding regional labels\n",
    "reg_labels = Y.index.to_frame(False).region.unique()\n",
    "co2_scope2.index = reg_labels\n",
    "\n",
    "# inspecting the data\n",
    "co2_scope2.head()"
   ]
  },
  {
   "cell_type": "markdown",
   "metadata": {
    "slideshow": {
     "slide_type": "subslide"
    }
   },
   "source": [
    "#### 2.6 Calculate scope 3 emissions"
   ]
  },
  {
   "cell_type": "code",
   "execution_count": null,
   "metadata": {
    "slideshow": {
     "slide_type": "fragment"
    }
   },
   "outputs": [],
   "source": [
    "# Calculate scope 2 emissions by peforming \n",
    "# f×L×Z - f×diag(Elec)×Z \n",
    "\n",
    "co2_scope3 = None\n",
    "\n",
    "# Reshape\n",
    "co2_scope3 = None\n",
    "\n",
    "# Aggregate sectors/products by the macro-categories using the concordancy matrix\n",
    "co2_scope3 = None\n",
    "\n",
    "# adding regional labels\n",
    "reg_labels = Y.index.to_frame(False).region.unique()\n",
    "co2_scope3.index = reg_labels\n",
    "\n",
    "# inspecting the data\n",
    "co2_scope3.head()"
   ]
  },
  {
   "cell_type": "markdown",
   "metadata": {
    "slideshow": {
     "slide_type": "subslide"
    }
   },
   "source": [
    "#### 2.7 Make a stacked bar plot of the results for a region"
   ]
  },
  {
   "cell_type": "code",
   "execution_count": null,
   "metadata": {
    "slideshow": {
     "slide_type": "fragment"
    }
   },
   "outputs": [],
   "source": [
    "region = \"NL\"\n",
    "\n",
    "results_dashboard = pd.DataFrame(\n",
    "    data=[co2_scope1.loc[region], co2_scope2.loc[region], co2_scope3.loc[region]],\n",
    "    columns=IPCCagg.columns,\n",
    "    index=[\"1\", \"2\", \"3\"],\n",
    ")\n",
    "results_dashboard.T.plot(kind=\"bar\", stacked=True, ylabel=\"Pg CO2 eq\", title=f\"Scopes 2019 - region {region}\")"
   ]
  }
 ],
 "metadata": {
  "celltoolbar": "Slideshow",
  "kernelspec": {
   "display_name": "Python 3 (ipykernel)",
   "language": "python",
   "name": "python3"
  },
  "language_info": {
   "codemirror_mode": {
    "name": "ipython",
    "version": 3
   },
   "file_extension": ".py",
   "mimetype": "text/x-python",
   "name": "python",
   "nbconvert_exporter": "python",
   "pygments_lexer": "ipython3",
   "version": "3.9.16"
  }
 },
 "nbformat": 4,
 "nbformat_minor": 2
}
