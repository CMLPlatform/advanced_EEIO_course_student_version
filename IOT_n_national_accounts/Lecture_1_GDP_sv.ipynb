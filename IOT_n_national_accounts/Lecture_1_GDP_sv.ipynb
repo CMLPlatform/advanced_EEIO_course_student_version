{
 "cells": [
  {
   "cell_type": "markdown",
   "id": "93ed8f12-cfff-4c86-8a77-0d0870a7be97",
   "metadata": {
    "slideshow": {
     "slide_type": "slide"
    }
   },
   "source": [
    "# Practical 1: GDP calculations\n",
    "\n",
    "Learning objectives:\n",
    "\n",
    "- Apply one of the methods to calculate national GDP using Eurostat data.  \n",
    "- Know how to visualize GDP trend\n",
    "- Analyse results and their implications"
   ]
  },
  {
   "cell_type": "markdown",
   "id": "8ed9b949",
   "metadata": {
    "slideshow": {
     "slide_type": "slide"
    }
   },
   "source": [
    "![GDP vs Nature](https://cdn.unenvironment.org/2022-02/shutterstock_1879675894.jpeg)"
   ]
  },
  {
   "cell_type": "markdown",
   "id": "1aaeffd1-b07a-41d1-8c07-f5e346518176",
   "metadata": {
    "slideshow": {
     "slide_type": "slide"
    }
   },
   "source": [
    "## Exercise 1\n",
    "Using EUROSTAT data plot a graph showing the GDP trend of the Netherlands using the income approach"
   ]
  },
  {
   "cell_type": "markdown",
   "id": "8ee1b689-c727-4b94-9c06-8212dc47c246",
   "metadata": {
    "slideshow": {
     "slide_type": "slide"
    }
   },
   "source": [
    "Data source 1: eurostat, national accounts, main GDP aggregates https://ec.europa.eu/eurostat/web/national-accounts/database"
   ]
  },
  {
   "cell_type": "code",
   "execution_count": null,
   "id": "89a776a4-3fd8-46c1-9940-53765b5dcbad",
   "metadata": {
    "slideshow": {
     "slide_type": "slide"
    }
   },
   "outputs": [],
   "source": [
    "# import modules\n",
    "import pandas as pd\n",
    "import matplotlib.pyplot as plt"
   ]
  },
  {
   "cell_type": "code",
   "execution_count": null,
   "id": "66b015a1",
   "metadata": {
    "slideshow": {
     "slide_type": "slide"
    }
   },
   "outputs": [],
   "source": [
    "# Import data\n",
    "GDP_data = None"
   ]
  },
  {
   "cell_type": "code",
   "execution_count": null,
   "id": "054f85e4",
   "metadata": {
    "slideshow": {
     "slide_type": "slide"
    }
   },
   "outputs": [],
   "source": [
    "# We are only interested in data in euros so make sure you slice the right currency\n",
    "GDP_data = None"
   ]
  },
  {
   "cell_type": "code",
   "execution_count": null,
   "id": "c4142ec8",
   "metadata": {
    "scrolled": false,
    "slideshow": {
     "slide_type": "fragment"
    }
   },
   "outputs": [],
   "source": [
    "# print the head of the dataframe to understand its structure\n"
   ]
  },
  {
   "cell_type": "code",
   "execution_count": null,
   "id": "de4aa089-5c9d-4f22-92c8-90d1f73e45bf",
   "metadata": {
    "slideshow": {
     "slide_type": "slide"
    }
   },
   "outputs": [],
   "source": [
    "# Print all unique values in the National Account Item column (na_item) to use as a reference\n"
   ]
  },
  {
   "cell_type": "markdown",
   "id": "e0d6d14b-0df0-43a8-85ed-3757dafa5cc7",
   "metadata": {
    "slideshow": {
     "slide_type": "slide"
    }
   },
   "source": [
    "you can check the statistical terms glossary for full definitions\n",
    "\n",
    "https://data.un.org/Glossary.aspx"
   ]
  },
  {
   "cell_type": "markdown",
   "id": "ce69e04f",
   "metadata": {
    "slideshow": {
     "slide_type": "fragment"
    }
   },
   "source": [
    "And the metadata accompanying the data to help you identify the codes relevant to your analysis https://ec.europa.eu/eurostat/cache/metadata/en/nama10_esms.htm"
   ]
  },
  {
   "cell_type": "markdown",
   "id": "d43256af",
   "metadata": {
    "slideshow": {
     "slide_type": "slide"
    }
   },
   "source": [
    "## Income approach\n",
    "\n",
    "Isolate all data for the income approach:\n",
    "* Comp_employees = \"D1\"\n",
    "* Gross operating surplus and mixed income = \"B2A3G\" \n",
    "* Taxes less subsidies on production and imports = \"D2X3\""
   ]
  },
  {
   "cell_type": "code",
   "execution_count": null,
   "id": "342a2a9e",
   "metadata": {
    "slideshow": {
     "slide_type": "slide"
    }
   },
   "outputs": [],
   "source": [
    "# select national account codes to be isolated in the data \n",
    "breakdown_income = []"
   ]
  },
  {
   "cell_type": "code",
   "execution_count": null,
   "id": "67139a91",
   "metadata": {
    "slideshow": {
     "slide_type": "fragment"
    }
   },
   "outputs": [],
   "source": [
    "# Isolate the items you want to analyse\n",
    "GDP_breakdown = None\n",
    "GDP_breakdown.head()"
   ]
  },
  {
   "cell_type": "code",
   "execution_count": null,
   "id": "adcdf780",
   "metadata": {
    "slideshow": {
     "slide_type": "slide"
    }
   },
   "outputs": [],
   "source": [
    "# Isolate the country you want to analyse\n",
    "\n",
    "country = None\n",
    "country_data = None\n",
    "country_data.head()"
   ]
  },
  {
   "cell_type": "code",
   "execution_count": null,
   "id": "7cf74bd9",
   "metadata": {
    "slideshow": {
     "slide_type": "slide"
    }
   },
   "outputs": [],
   "source": [
    "# Collect your yearly data\n",
    "yearly_GDP = None"
   ]
  },
  {
   "cell_type": "markdown",
   "id": "76f93af2",
   "metadata": {
    "slideshow": {
     "slide_type": "slide"
    }
   },
   "source": [
    "# Plot your results!"
   ]
  },
  {
   "cell_type": "code",
   "execution_count": null,
   "id": "17c90749",
   "metadata": {
    "slideshow": {
     "slide_type": "fragment"
    }
   },
   "outputs": [],
   "source": [
    "plt.figure(figsize=(8,4))\n",
    "plt.xlabel(\"Years\")\n",
    "plt.ylabel(\"Billion €\")\n",
    "GDP_plot = plt.plot(yearly_GDP.keys(), yearly_GDP.values(), label=country)"
   ]
  },
  {
   "cell_type": "markdown",
   "id": "8cb14ebd",
   "metadata": {
    "slideshow": {
     "slide_type": "slide"
    }
   },
   "source": [
    "### Exercise 2 - In groups of 3\n",
    "\n",
    "Try to answer the following question\n",
    "* What do the changes the line graph tell us?\n",
    "* What can we hypothesise on the natural resources use and environmental emissions of those years?\n",
    "* Do other countries show a different trend than the Netherlands?\n",
    "* What can you tell about the historical natural resources use and emissions of one of those countries? "
   ]
  }
 ],
 "metadata": {
  "celltoolbar": "Slideshow",
  "kernelspec": {
   "display_name": "Python 3 (ipykernel)",
   "language": "python",
   "name": "python3"
  },
  "language_info": {
   "codemirror_mode": {
    "name": "ipython",
    "version": 3
   },
   "file_extension": ".py",
   "mimetype": "text/x-python",
   "name": "python",
   "nbconvert_exporter": "python",
   "pygments_lexer": "ipython3",
   "version": "3.11.9"
  },
  "vscode": {
   "interpreter": {
    "hash": "e7370f93d1d0cde622a1f8e1c04877d8463912d04d973331ad4851f04de6915a"
   }
  }
 },
 "nbformat": 4,
 "nbformat_minor": 5
}
