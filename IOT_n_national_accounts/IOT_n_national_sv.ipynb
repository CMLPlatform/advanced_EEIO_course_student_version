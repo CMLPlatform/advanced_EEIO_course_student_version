{
 "cells": [
  {
   "cell_type": "markdown",
   "id": "93ed8f12-cfff-4c86-8a77-0d0870a7be97",
   "metadata": {},
   "source": [
    "# Practical 1: IOT and National Accounts\n",
    "In this exercise, you will practice how to apply the three methods to calculate national GDP, using different databases and years.  \n",
    "While the exercise is quantitive, try to reason about differences and implications of the methods as well as results from the method application."
   ]
  },
  {
   "cell_type": "markdown",
   "id": "06dfb2a3-8454-4cab-9137-0f0cc247b4d3",
   "metadata": {},
   "source": [
    "### Learning goals\n",
    "\n",
    "- Analysing GDP trends\n",
    "- Implementing GDP calculation methods in different contexts\n",
    "- Understanding the data structure difference between SNA and IO tables \n",
    "- Understanding the implications of quantitative results"
   ]
  },
  {
   "cell_type": "markdown",
   "id": "8ee1b689-c727-4b94-9c06-8212dc47c246",
   "metadata": {},
   "source": [
    "### Instructions\n",
    "\n",
    "Data should be downloaded into a data/ folder in the same directory your module is, then it should be loaded and plotted in python\n",
    "\n",
    "- Data source 1: eurostat, national accounts, main GDP aggregates https://ec.europa.eu/eurostat/web/national-accounts/database\n",
    "\n",
    "- Data source 2: CBS https://www.cbs.nl/-/media/_excel/2022/27/83-inputoutput-tables-20152021.xlsx\n",
    "\n",
    "Obtain, plot, and analyze the GDP time series for all years available"
   ]
  },
  {
   "cell_type": "markdown",
   "id": "1aaeffd1-b07a-41d1-8c07-f5e346518176",
   "metadata": {},
   "source": [
    "## Exercise 1\n",
    "Using the EUROSTAT data plot a graph showing the yearly GDP change using the following approaches\n",
    "\n",
    "- expenditure perspective (GDP = Consumption + Investment + Government Spending + Net Export)\n",
    "- production perspective (GDP = Sum of all value added of all production activities)\n",
    "- income perspective (GDP = Total National Income + Sales Taxes + Depreciation + Net Foreign Factor Income)\n",
    "\n",
    "Make sure to use the metadata accompanying the data to help you understand all data available within the CSV file and the GDP elements https://ec.europa.eu/eurostat/cache/metadata/en/nama10_esms.htm\n",
    "\n",
    "Tip: if you download csv.gz data this is CSV data that has been compressed. You can import it directly into python by using the \"compression\" argument in the method pd.read_csv()     "
   ]
  },
  {
   "cell_type": "code",
   "execution_count": 2,
   "id": "89a776a4-3fd8-46c1-9940-53765b5dcbad",
   "metadata": {},
   "outputs": [],
   "source": [
    "# import modules\n",
    "import pandas as pd\n",
    "import matplotlib.pyplot as plt\n",
    "from matplotlib import style\n",
    "plt.style.use('bmh')\n",
    "\n",
    "# Import data\n",
    "# replace None with the rest of the function to load the data \n",
    "GDP_data = None\n",
    "\n",
    "# We are only interested in data in euros so make sure you slice the right currency\n",
    "\n",
    "# print the columns, it will help you understand how you can proceed in selecting the data\n"
   ]
  },
  {
   "attachments": {},
   "cell_type": "markdown",
   "id": "e0d6d14b-0df0-43a8-85ed-3757dafa5cc7",
   "metadata": {},
   "source": [
    "**Print all unique values in the National Account Item column (na_item) to use as a reference**\n",
    "\n",
    "You can investigate what each code means by checking the vocabulary on the European Environment Agency website \n",
    "\n",
    "https://dd.eionet.europa.eu/vocabulary/eurostat/na_item/view\n",
    "\n",
    "or you can check the statistical terms glossary for full definitions\n",
    "\n",
    "https://data.un.org/Glossary.aspx"
   ]
  },
  {
   "cell_type": "code",
   "execution_count": null,
   "id": "de4aa089-5c9d-4f22-92c8-90d1f73e45bf",
   "metadata": {},
   "outputs": [],
   "source": []
  },
  {
   "cell_type": "markdown",
   "id": "1742f376",
   "metadata": {},
   "source": [
    "#### Create a dictionary in which you will store your GDP results for comparison"
   ]
  },
  {
   "cell_type": "code",
   "execution_count": null,
   "id": "6b6d5aaa",
   "metadata": {},
   "outputs": [],
   "source": [
    "NA_GDP_approaches_results = {\"income\": None, \"expenditure\": None, \"production\": None}"
   ]
  },
  {
   "cell_type": "markdown",
   "id": "d43256af",
   "metadata": {},
   "source": [
    "#### Income approach\n",
    "\n",
    "Isolate all data for the income approach:\n",
    "- comp_employees = \"D1\"\n",
    "- Gross operating surplus and mixed income = \"B2A3G\" \n",
    "    - gross_operating_surplus = \"B2G\"\n",
    "    - mixed_income = \"B3G\"\n",
    "- taxes less subsidies on production and imports (D2X3)\n",
    "    - taxes_less_subsidies = \"D2\"\n",
    "    - imports = \"D3\"\n"
   ]
  },
  {
   "cell_type": "code",
   "execution_count": null,
   "id": "342a2a9e",
   "metadata": {},
   "outputs": [],
   "source": [
    "# select national account codes to be isolated in the data \n",
    "\n",
    "# Check wether all the items are available in the GDP breakdown csv"
   ]
  },
  {
   "cell_type": "code",
   "execution_count": 1,
   "id": "adcdf780",
   "metadata": {},
   "outputs": [],
   "source": [
    "# organize and plot your results for the income approach"
   ]
  },
  {
   "cell_type": "markdown",
   "id": "0e13244c",
   "metadata": {
    "slideshow": {
     "slide_type": "slide"
    }
   },
   "source": [
    "#### Expenditure approach\n",
    "Isolate all data for the expenditure approach:\n",
    "- final_consumption = \"P3\"\n",
    "- gross_fixed_capital_form = \"P51\"\n",
    "- changes_in_inventories = \"P52\"\n",
    "- acquisition_less_disposal_of_val = \"P53\"\n",
    "- exports = \"P6\"\n",
    "- imports = \"P7\""
   ]
  },
  {
   "cell_type": "code",
   "execution_count": null,
   "id": "febb2ccf",
   "metadata": {},
   "outputs": [],
   "source": [
    "# select national account codes to be isolated in the data \n",
    "\n",
    "\n",
    "# Check wether all the items are available in the GDP breakdown csv"
   ]
  },
  {
   "cell_type": "code",
   "execution_count": null,
   "id": "00a59880",
   "metadata": {},
   "outputs": [],
   "source": [
    "\n",
    "# organize and plot your results for the expenditure approach\n"
   ]
  },
  {
   "cell_type": "markdown",
   "id": "c954b3de",
   "metadata": {},
   "source": [
    "#### Production approach\n",
    "\n",
    "Isolate all data for the production approach:\n",
    "- total_gross_value_added = \"B1G\"\n",
    "- taxes_on_products = \"D21\"\n",
    "- subsidies = \"D31\"\n"
   ]
  },
  {
   "cell_type": "code",
   "execution_count": null,
   "id": "2d8c9bae",
   "metadata": {},
   "outputs": [],
   "source": [
    "# select national account codes to be isolated in the data \n",
    "\n",
    "\n",
    "# Check wether all the items are available in the GDP breakdown csv\n",
    "\n"
   ]
  },
  {
   "cell_type": "code",
   "execution_count": null,
   "id": "20d14d57",
   "metadata": {},
   "outputs": [],
   "source": [
    "\n",
    "# organize and plot your results for the production approach\n",
    "\n",
    "    "
   ]
  },
  {
   "cell_type": "markdown",
   "id": "6b504c1d",
   "metadata": {},
   "source": [
    "#### Check your results\n",
    "You don't have to check every single entry, just select one country for each approach, \"NL\" is fine too "
   ]
  },
  {
   "cell_type": "code",
   "execution_count": null,
   "id": "bce4aa27",
   "metadata": {},
   "outputs": [],
   "source": []
  },
  {
   "attachments": {},
   "cell_type": "markdown",
   "id": "2f0fdec0-964b-442a-9689-32403f186e87",
   "metadata": {},
   "source": [
    "## Exercise 2\n",
    "\n",
    "Using the CBS data calculate the total GDP total and its composition using the three approaches\n",
    "\n",
    "Methods can be found using the following link in the file \"2 Macroeconomic totals.xlsx\" \n",
    "\n",
    "https://www.cbs.nl/en-gb/custom/2022/27/national-accounts-2021-tables\n",
    "\n",
    "Tip: once you download the data have a good look at how it is structure, how the labels are organized.\n",
    "\n",
    "In order to better understand how GDP can be calculated in IOTs, use the EUROSTAT manual table 11.6 on page 305\n",
    "\n",
    "\n",
    "![image](./figures/IOT_basic_price.PNG)\n"
   ]
  },
  {
   "cell_type": "code",
   "execution_count": null,
   "id": "f4158925-2d16-4901-a5f1-08c422e976aa",
   "metadata": {},
   "outputs": [],
   "source": [
    "# Load the IO data\n",
    "CBS_IO = None\n",
    "\n",
    "# Print the list of sheets that are available in the xlsx file so that you can investigate what options you have\n"
   ]
  },
  {
   "cell_type": "markdown",
   "id": "38883649",
   "metadata": {},
   "source": [
    "#### Parse your data"
   ]
  },
  {
   "cell_type": "code",
   "execution_count": null,
   "id": "9a38df65",
   "metadata": {},
   "outputs": [],
   "source": [
    "# Parse the sheet for 2021 in current prices\n",
    "IO_2021_cp = None\n",
    "# Fill nan values\n",
    "\n",
    "# Labels sometimes have leading and trailing white spaces which makes it difficult to then slice the dataframe\n",
    "\n",
    "# There could also be errors in labels, always check. It won't matter for this exercise but keep in mind for the future. \n",
    "# Examples of mistakes are typos, wrong translaction, encoding issues \n",
    "\n",
    "# Negative items\n",
    "# Makes sure that the items marked with a negative sign in their labels are indeed negative\n",
    "\n",
    "\n",
    "# Print the columns and index to understand how the data is structured\n"
   ]
  },
  {
   "cell_type": "markdown",
   "id": "1bccece1",
   "metadata": {},
   "source": [
    "#### Perfom some checks\n",
    "Before we begin working with the data, we typically want to perform some data sanity checks. \n",
    "We will only perform one check in this exercise, keeping in mind, however, that in most cases one needs to perform quite thorough cleaning (e.g., check for NaNs, decimal separators). \n",
    "\n",
    "\n",
    "Check that the total inputs are equal to the total outputs"
   ]
  },
  {
   "cell_type": "code",
   "execution_count": null,
   "id": "8a282134",
   "metadata": {},
   "outputs": [],
   "source": [
    "# Check inputs and outputs\n",
    "total_inputs = None\n",
    "total_outputs = None\n",
    "\n",
    "print(f\"Inputs and Outputs match: {total_inputs/total_outputs*100}%\")"
   ]
  },
  {
   "cell_type": "markdown",
   "id": "d8a79623",
   "metadata": {},
   "source": [
    "#### Create a dictionary in which you will store your results to be later compared"
   ]
  },
  {
   "cell_type": "code",
   "execution_count": null,
   "id": "1f5fc6ef",
   "metadata": {},
   "outputs": [],
   "source": [
    "IO_GDP_approaches_results = {\"income\": None, \"expenditure\": None}"
   ]
  },
  {
   "cell_type": "code",
   "execution_count": null,
   "id": "7a386c66-b7a8-4be5-8c33-713c682ebb99",
   "metadata": {},
   "outputs": [],
   "source": [
    "# Income perspective\n",
    "\n",
    "income_items = None\n",
    "\n",
    "income_breakdown = IO_2021_cp.loc[income_items]\n",
    "\n",
    "# We need to drop the aggregate and totals so that we don't double count \n",
    "income_breakdown = None\n",
    "\n",
    "IO_GDP_approaches_results[\"income\"] = income_breakdown.values.sum()\n",
    "\n",
    "IO_GDP_approaches_results[\"income\"]"
   ]
  },
  {
   "cell_type": "code",
   "execution_count": null,
   "id": "cac67f38",
   "metadata": {},
   "outputs": [],
   "source": [
    "# Expenditure perspective\n",
    "\n",
    "expenditure_items = None\n",
    "\n",
    "imports_items = None\n",
    "\n",
    "expenditure_breakdown = IO_2021_cp.loc[:, expenditure_items]\n",
    "\n",
    "# we eliminate the rows with aggregates and totals\n",
    "expenditure_breakdown = expenditure_breakdown.drop([\"Total of rows (1–81)\", \"Total intermediate consumption (82–90)\", \"Total\", \"Value added at basic prices (92–96)\"], axis=0)\n",
    "\n",
    "# We sum all imports to be substracted\n",
    "imports_Z = None\n",
    "imports_Y = None\n",
    "tot_imports = imports_Z + imports_Y\n",
    "\n",
    "# Subtract imports from expenditure\n",
    "IO_GDP_approaches_results[\"expenditure\"] = None\n",
    "IO_GDP_approaches_results[\"expenditure\"]\n"
   ]
  },
  {
   "cell_type": "code",
   "execution_count": null,
   "id": "36be71bb",
   "metadata": {},
   "outputs": [],
   "source": [
    "# Calculate the production perspective use the Value added row\n",
    "# we use the value added row provided by the table as a reference to see whether our calculations are correct\n",
    "value_added = IO_2021_cp.loc[\"Value added at basic prices (92–96)\" , :\"Goods and services n.e.c.\"]\n",
    "VA_total = value_added.values.sum() + taxes_less_subsidies.values.sum()\n",
    "\n",
    "for l in IO_GDP_approaches_results:\n",
    "    print(f\"{l} approach results: {IO_GDP_approaches_results[l]} results are off by {round((1-VA_total/IO_GDP_approaches_results[l])*100)}%\")\n"
   ]
  }
 ],
 "metadata": {
  "kernelspec": {
   "display_name": "Python 3",
   "language": "python",
   "name": "python3"
  },
  "language_info": {
   "codemirror_mode": {
    "name": "ipython",
    "version": 3
   },
   "file_extension": ".py",
   "mimetype": "text/x-python",
   "name": "python",
   "nbconvert_exporter": "python",
   "pygments_lexer": "ipython3",
   "version": "3.10.6"
  },
  "vscode": {
   "interpreter": {
    "hash": "e7370f93d1d0cde622a1f8e1c04877d8463912d04d973331ad4851f04de6915a"
   }
  }
 },
 "nbformat": 4,
 "nbformat_minor": 5
}
