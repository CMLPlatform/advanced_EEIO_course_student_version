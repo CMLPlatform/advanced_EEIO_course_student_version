{
 "cells": [
  {
   "cell_type": "markdown",
   "id": "93ed8f12-cfff-4c86-8a77-0d0870a7be97",
   "metadata": {
    "slideshow": {
     "slide_type": "slide"
    }
   },
   "source": [
    "# Practical 1: GDP calculations\n",
    "\n",
    "Learning objectives:\n",
    "\n",
    "- Apply one of the methods to calculate national GDP using Eurostat data.  \n",
    "- Know how to visualize GDP trend\n",
    "- Analyse results and their implications"
   ]
  },
  {
   "cell_type": "markdown",
   "id": "8ed9b949",
   "metadata": {
    "slideshow": {
     "slide_type": "slide"
    }
   },
   "source": [
    "![GDP vs Nature](https://cdn.unenvironment.org/2022-02/shutterstock_1879675894.jpeg)"
   ]
  },
  {
   "cell_type": "markdown",
   "id": "1aaeffd1-b07a-41d1-8c07-f5e346518176",
   "metadata": {
    "slideshow": {
     "slide_type": "slide"
    }
   },
   "source": [
    "## Exercise 1\n",
    "Using EUROSTAT data plot a graph showing the GDP trend of the Netherlands using the income approach"
   ]
  },
  {
   "cell_type": "markdown",
   "id": "8ee1b689-c727-4b94-9c06-8212dc47c246",
   "metadata": {
    "slideshow": {
     "slide_type": "slide"
    }
   },
   "source": [
    "Data source 1: eurostat, national accounts, main GDP aggregates https://ec.europa.eu/eurostat/web/national-accounts/database"
   ]
  },
  {
   "cell_type": "code",
   "execution_count": 1,
   "id": "89a776a4-3fd8-46c1-9940-53765b5dcbad",
   "metadata": {
    "slideshow": {
     "slide_type": "slide"
    }
   },
   "outputs": [],
   "source": [
    "# import modules\n",
    "import pandas as pd\n",
    "import matplotlib.pyplot as plt"
   ]
  },
  {
   "cell_type": "code",
   "execution_count": 2,
   "id": "66b015a1",
   "metadata": {
    "slideshow": {
     "slide_type": "slide"
    }
   },
   "outputs": [],
   "source": [
    "# Import data\n",
    "GDP_data = pd.read_csv(\"data/eurostat/nama_10_gdp_linear.csv.gz\", compression=\"gzip\")"
   ]
  },
  {
   "cell_type": "code",
   "execution_count": 3,
   "id": "054f85e4",
   "metadata": {
    "slideshow": {
     "slide_type": "slide"
    }
   },
   "outputs": [],
   "source": [
    "# We are only interested in data in euros so make sure you slice the right currency\n",
    "GDP_data = GDP_data[GDP_data.unit == \"CP_MEUR\"] "
   ]
  },
  {
   "cell_type": "code",
   "execution_count": 4,
   "id": "c4142ec8",
   "metadata": {
    "slideshow": {
     "slide_type": "fragment"
    }
   },
   "outputs": [
    {
     "data": {
      "text/html": [
       "<div>\n",
       "<style scoped>\n",
       "    .dataframe tbody tr th:only-of-type {\n",
       "        vertical-align: middle;\n",
       "    }\n",
       "\n",
       "    .dataframe tbody tr th {\n",
       "        vertical-align: top;\n",
       "    }\n",
       "\n",
       "    .dataframe thead th {\n",
       "        text-align: right;\n",
       "    }\n",
       "</style>\n",
       "<table border=\"1\" class=\"dataframe\">\n",
       "  <thead>\n",
       "    <tr style=\"text-align: right;\">\n",
       "      <th></th>\n",
       "      <th>DATAFLOW</th>\n",
       "      <th>LAST UPDATE</th>\n",
       "      <th>freq</th>\n",
       "      <th>unit</th>\n",
       "      <th>na_item</th>\n",
       "      <th>geo</th>\n",
       "      <th>TIME_PERIOD</th>\n",
       "      <th>OBS_VALUE</th>\n",
       "      <th>OBS_FLAG</th>\n",
       "    </tr>\n",
       "  </thead>\n",
       "  <tbody>\n",
       "    <tr>\n",
       "      <th>294388</th>\n",
       "      <td>ESTAT:NAMA_10_GDP(1.0)</td>\n",
       "      <td>17/01/23 11:00:00</td>\n",
       "      <td>A</td>\n",
       "      <td>CP_MEUR</td>\n",
       "      <td>B11</td>\n",
       "      <td>AL</td>\n",
       "      <td>1996</td>\n",
       "      <td>-545.8</td>\n",
       "      <td>NaN</td>\n",
       "    </tr>\n",
       "    <tr>\n",
       "      <th>294389</th>\n",
       "      <td>ESTAT:NAMA_10_GDP(1.0)</td>\n",
       "      <td>17/01/23 11:00:00</td>\n",
       "      <td>A</td>\n",
       "      <td>CP_MEUR</td>\n",
       "      <td>B11</td>\n",
       "      <td>AL</td>\n",
       "      <td>1997</td>\n",
       "      <td>-492.5</td>\n",
       "      <td>NaN</td>\n",
       "    </tr>\n",
       "    <tr>\n",
       "      <th>294390</th>\n",
       "      <td>ESTAT:NAMA_10_GDP(1.0)</td>\n",
       "      <td>17/01/23 11:00:00</td>\n",
       "      <td>A</td>\n",
       "      <td>CP_MEUR</td>\n",
       "      <td>B11</td>\n",
       "      <td>AL</td>\n",
       "      <td>1998</td>\n",
       "      <td>-575.1</td>\n",
       "      <td>NaN</td>\n",
       "    </tr>\n",
       "    <tr>\n",
       "      <th>294391</th>\n",
       "      <td>ESTAT:NAMA_10_GDP(1.0)</td>\n",
       "      <td>17/01/23 11:00:00</td>\n",
       "      <td>A</td>\n",
       "      <td>CP_MEUR</td>\n",
       "      <td>B11</td>\n",
       "      <td>AL</td>\n",
       "      <td>1999</td>\n",
       "      <td>-523.0</td>\n",
       "      <td>NaN</td>\n",
       "    </tr>\n",
       "    <tr>\n",
       "      <th>294392</th>\n",
       "      <td>ESTAT:NAMA_10_GDP(1.0)</td>\n",
       "      <td>17/01/23 11:00:00</td>\n",
       "      <td>A</td>\n",
       "      <td>CP_MEUR</td>\n",
       "      <td>B11</td>\n",
       "      <td>AL</td>\n",
       "      <td>2000</td>\n",
       "      <td>-877.9</td>\n",
       "      <td>NaN</td>\n",
       "    </tr>\n",
       "  </tbody>\n",
       "</table>\n",
       "</div>"
      ],
      "text/plain": [
       "                      DATAFLOW        LAST UPDATE freq     unit na_item geo  \\\n",
       "294388  ESTAT:NAMA_10_GDP(1.0)  17/01/23 11:00:00    A  CP_MEUR     B11  AL   \n",
       "294389  ESTAT:NAMA_10_GDP(1.0)  17/01/23 11:00:00    A  CP_MEUR     B11  AL   \n",
       "294390  ESTAT:NAMA_10_GDP(1.0)  17/01/23 11:00:00    A  CP_MEUR     B11  AL   \n",
       "294391  ESTAT:NAMA_10_GDP(1.0)  17/01/23 11:00:00    A  CP_MEUR     B11  AL   \n",
       "294392  ESTAT:NAMA_10_GDP(1.0)  17/01/23 11:00:00    A  CP_MEUR     B11  AL   \n",
       "\n",
       "        TIME_PERIOD  OBS_VALUE OBS_FLAG  \n",
       "294388         1996     -545.8      NaN  \n",
       "294389         1997     -492.5      NaN  \n",
       "294390         1998     -575.1      NaN  \n",
       "294391         1999     -523.0      NaN  \n",
       "294392         2000     -877.9      NaN  "
      ]
     },
     "execution_count": 4,
     "metadata": {},
     "output_type": "execute_result"
    }
   ],
   "source": [
    "# print the head of the dataframe to understand its structure\n",
    "GDP_data.head()"
   ]
  },
  {
   "cell_type": "code",
   "execution_count": 5,
   "id": "de4aa089-5c9d-4f22-92c8-90d1f73e45bf",
   "metadata": {
    "slideshow": {
     "slide_type": "slide"
    }
   },
   "outputs": [
    {
     "data": {
      "text/plain": [
       "array(['B11', 'B111', 'B112', 'B1G', 'B1GQ', 'B2A3G', 'D1', 'D11', 'D12',\n",
       "       'D2', 'D21', 'D21X31', 'D2X3', 'D3', 'D31', 'P3', 'P31_S13',\n",
       "       'P31_S14', 'P31_S14_S15', 'P31_S15', 'P32_S13', 'P3_P5', 'P3_P6',\n",
       "       'P3_S13', 'P41', 'P51G', 'P52', 'P52_P53', 'P53', 'P5G', 'P6',\n",
       "       'P61', 'P62', 'P7', 'P71', 'P72', 'YA0', 'YA1', 'YA2'],\n",
       "      dtype=object)"
      ]
     },
     "execution_count": 5,
     "metadata": {},
     "output_type": "execute_result"
    }
   ],
   "source": [
    "# Print all unique values in the National Account Item column (na_item) to use as a reference\n",
    "GDP_data.na_item.unique()"
   ]
  },
  {
   "cell_type": "markdown",
   "id": "e0d6d14b-0df0-43a8-85ed-3757dafa5cc7",
   "metadata": {
    "slideshow": {
     "slide_type": "slide"
    }
   },
   "source": [
    "you can check the statistical terms glossary for full definitions\n",
    "\n",
    "https://data.un.org/Glossary.aspx"
   ]
  },
  {
   "cell_type": "markdown",
   "id": "ce69e04f",
   "metadata": {
    "slideshow": {
     "slide_type": "fragment"
    }
   },
   "source": [
    "And the metadata accompanying the data to help you identify the codes relevant to your analysis https://ec.europa.eu/eurostat/cache/metadata/en/nama10_esms.htm"
   ]
  },
  {
   "cell_type": "markdown",
   "id": "d43256af",
   "metadata": {
    "slideshow": {
     "slide_type": "slide"
    }
   },
   "source": [
    "## Income approach\n",
    "\n",
    "Isolate all data for the income approach:\n",
    "* Comp_employees = \"D1\"\n",
    "* Gross operating surplus and mixed income = \"B2A3G\" \n",
    "* Taxes less subsidies on production and imports = \"D2X3\""
   ]
  },
  {
   "cell_type": "code",
   "execution_count": 6,
   "id": "342a2a9e",
   "metadata": {
    "slideshow": {
     "slide_type": "slide"
    }
   },
   "outputs": [],
   "source": [
    "# select national account codes to be isolated in the data \n",
    "breakdown_income = [\"D1\", \"B2A3G\", \"D2X3\"]"
   ]
  },
  {
   "cell_type": "code",
   "execution_count": 7,
   "id": "67139a91",
   "metadata": {
    "slideshow": {
     "slide_type": "fragment"
    }
   },
   "outputs": [
    {
     "data": {
      "text/html": [
       "<div>\n",
       "<style scoped>\n",
       "    .dataframe tbody tr th:only-of-type {\n",
       "        vertical-align: middle;\n",
       "    }\n",
       "\n",
       "    .dataframe tbody tr th {\n",
       "        vertical-align: top;\n",
       "    }\n",
       "\n",
       "    .dataframe thead th {\n",
       "        text-align: right;\n",
       "    }\n",
       "</style>\n",
       "<table border=\"1\" class=\"dataframe\">\n",
       "  <thead>\n",
       "    <tr style=\"text-align: right;\">\n",
       "      <th></th>\n",
       "      <th>DATAFLOW</th>\n",
       "      <th>LAST UPDATE</th>\n",
       "      <th>freq</th>\n",
       "      <th>unit</th>\n",
       "      <th>na_item</th>\n",
       "      <th>geo</th>\n",
       "      <th>TIME_PERIOD</th>\n",
       "      <th>OBS_VALUE</th>\n",
       "      <th>OBS_FLAG</th>\n",
       "    </tr>\n",
       "  </thead>\n",
       "  <tbody>\n",
       "    <tr>\n",
       "      <th>300583</th>\n",
       "      <td>ESTAT:NAMA_10_GDP(1.0)</td>\n",
       "      <td>17/01/23 11:00:00</td>\n",
       "      <td>A</td>\n",
       "      <td>CP_MEUR</td>\n",
       "      <td>B2A3G</td>\n",
       "      <td>AT</td>\n",
       "      <td>1995</td>\n",
       "      <td>68820.9</td>\n",
       "      <td>NaN</td>\n",
       "    </tr>\n",
       "    <tr>\n",
       "      <th>300584</th>\n",
       "      <td>ESTAT:NAMA_10_GDP(1.0)</td>\n",
       "      <td>17/01/23 11:00:00</td>\n",
       "      <td>A</td>\n",
       "      <td>CP_MEUR</td>\n",
       "      <td>B2A3G</td>\n",
       "      <td>AT</td>\n",
       "      <td>1996</td>\n",
       "      <td>70372.0</td>\n",
       "      <td>NaN</td>\n",
       "    </tr>\n",
       "    <tr>\n",
       "      <th>300585</th>\n",
       "      <td>ESTAT:NAMA_10_GDP(1.0)</td>\n",
       "      <td>17/01/23 11:00:00</td>\n",
       "      <td>A</td>\n",
       "      <td>CP_MEUR</td>\n",
       "      <td>B2A3G</td>\n",
       "      <td>AT</td>\n",
       "      <td>1997</td>\n",
       "      <td>71358.3</td>\n",
       "      <td>NaN</td>\n",
       "    </tr>\n",
       "    <tr>\n",
       "      <th>300586</th>\n",
       "      <td>ESTAT:NAMA_10_GDP(1.0)</td>\n",
       "      <td>17/01/23 11:00:00</td>\n",
       "      <td>A</td>\n",
       "      <td>CP_MEUR</td>\n",
       "      <td>B2A3G</td>\n",
       "      <td>AT</td>\n",
       "      <td>1998</td>\n",
       "      <td>74919.5</td>\n",
       "      <td>NaN</td>\n",
       "    </tr>\n",
       "    <tr>\n",
       "      <th>300587</th>\n",
       "      <td>ESTAT:NAMA_10_GDP(1.0)</td>\n",
       "      <td>17/01/23 11:00:00</td>\n",
       "      <td>A</td>\n",
       "      <td>CP_MEUR</td>\n",
       "      <td>B2A3G</td>\n",
       "      <td>AT</td>\n",
       "      <td>1999</td>\n",
       "      <td>77865.8</td>\n",
       "      <td>NaN</td>\n",
       "    </tr>\n",
       "  </tbody>\n",
       "</table>\n",
       "</div>"
      ],
      "text/plain": [
       "                      DATAFLOW        LAST UPDATE freq     unit na_item geo  \\\n",
       "300583  ESTAT:NAMA_10_GDP(1.0)  17/01/23 11:00:00    A  CP_MEUR   B2A3G  AT   \n",
       "300584  ESTAT:NAMA_10_GDP(1.0)  17/01/23 11:00:00    A  CP_MEUR   B2A3G  AT   \n",
       "300585  ESTAT:NAMA_10_GDP(1.0)  17/01/23 11:00:00    A  CP_MEUR   B2A3G  AT   \n",
       "300586  ESTAT:NAMA_10_GDP(1.0)  17/01/23 11:00:00    A  CP_MEUR   B2A3G  AT   \n",
       "300587  ESTAT:NAMA_10_GDP(1.0)  17/01/23 11:00:00    A  CP_MEUR   B2A3G  AT   \n",
       "\n",
       "        TIME_PERIOD  OBS_VALUE OBS_FLAG  \n",
       "300583         1995    68820.9      NaN  \n",
       "300584         1996    70372.0      NaN  \n",
       "300585         1997    71358.3      NaN  \n",
       "300586         1998    74919.5      NaN  \n",
       "300587         1999    77865.8      NaN  "
      ]
     },
     "execution_count": 7,
     "metadata": {},
     "output_type": "execute_result"
    }
   ],
   "source": [
    "# Isolate the items you want to analyse\n",
    "GDP_breakdown = GDP_data[GDP_data.na_item.isin(breakdown_income)]\n",
    "GDP_breakdown.head()"
   ]
  },
  {
   "cell_type": "code",
   "execution_count": 8,
   "id": "adcdf780",
   "metadata": {
    "slideshow": {
     "slide_type": "slide"
    }
   },
   "outputs": [
    {
     "data": {
      "text/html": [
       "<div>\n",
       "<style scoped>\n",
       "    .dataframe tbody tr th:only-of-type {\n",
       "        vertical-align: middle;\n",
       "    }\n",
       "\n",
       "    .dataframe tbody tr th {\n",
       "        vertical-align: top;\n",
       "    }\n",
       "\n",
       "    .dataframe thead th {\n",
       "        text-align: right;\n",
       "    }\n",
       "</style>\n",
       "<table border=\"1\" class=\"dataframe\">\n",
       "  <thead>\n",
       "    <tr style=\"text-align: right;\">\n",
       "      <th></th>\n",
       "      <th>DATAFLOW</th>\n",
       "      <th>LAST UPDATE</th>\n",
       "      <th>freq</th>\n",
       "      <th>unit</th>\n",
       "      <th>na_item</th>\n",
       "      <th>geo</th>\n",
       "      <th>TIME_PERIOD</th>\n",
       "      <th>OBS_VALUE</th>\n",
       "      <th>OBS_FLAG</th>\n",
       "    </tr>\n",
       "  </thead>\n",
       "  <tbody>\n",
       "    <tr>\n",
       "      <th>301438</th>\n",
       "      <td>ESTAT:NAMA_10_GDP(1.0)</td>\n",
       "      <td>17/01/23 11:00:00</td>\n",
       "      <td>A</td>\n",
       "      <td>CP_MEUR</td>\n",
       "      <td>B2A3G</td>\n",
       "      <td>NL</td>\n",
       "      <td>1995</td>\n",
       "      <td>139518.7</td>\n",
       "      <td>NaN</td>\n",
       "    </tr>\n",
       "    <tr>\n",
       "      <th>301439</th>\n",
       "      <td>ESTAT:NAMA_10_GDP(1.0)</td>\n",
       "      <td>17/01/23 11:00:00</td>\n",
       "      <td>A</td>\n",
       "      <td>CP_MEUR</td>\n",
       "      <td>B2A3G</td>\n",
       "      <td>NL</td>\n",
       "      <td>1996</td>\n",
       "      <td>143513.4</td>\n",
       "      <td>NaN</td>\n",
       "    </tr>\n",
       "    <tr>\n",
       "      <th>301440</th>\n",
       "      <td>ESTAT:NAMA_10_GDP(1.0)</td>\n",
       "      <td>17/01/23 11:00:00</td>\n",
       "      <td>A</td>\n",
       "      <td>CP_MEUR</td>\n",
       "      <td>B2A3G</td>\n",
       "      <td>NL</td>\n",
       "      <td>1997</td>\n",
       "      <td>151448.4</td>\n",
       "      <td>NaN</td>\n",
       "    </tr>\n",
       "    <tr>\n",
       "      <th>301441</th>\n",
       "      <td>ESTAT:NAMA_10_GDP(1.0)</td>\n",
       "      <td>17/01/23 11:00:00</td>\n",
       "      <td>A</td>\n",
       "      <td>CP_MEUR</td>\n",
       "      <td>B2A3G</td>\n",
       "      <td>NL</td>\n",
       "      <td>1998</td>\n",
       "      <td>160808.8</td>\n",
       "      <td>NaN</td>\n",
       "    </tr>\n",
       "    <tr>\n",
       "      <th>301442</th>\n",
       "      <td>ESTAT:NAMA_10_GDP(1.0)</td>\n",
       "      <td>17/01/23 11:00:00</td>\n",
       "      <td>A</td>\n",
       "      <td>CP_MEUR</td>\n",
       "      <td>B2A3G</td>\n",
       "      <td>NL</td>\n",
       "      <td>1999</td>\n",
       "      <td>168001.0</td>\n",
       "      <td>NaN</td>\n",
       "    </tr>\n",
       "  </tbody>\n",
       "</table>\n",
       "</div>"
      ],
      "text/plain": [
       "                      DATAFLOW        LAST UPDATE freq     unit na_item geo  \\\n",
       "301438  ESTAT:NAMA_10_GDP(1.0)  17/01/23 11:00:00    A  CP_MEUR   B2A3G  NL   \n",
       "301439  ESTAT:NAMA_10_GDP(1.0)  17/01/23 11:00:00    A  CP_MEUR   B2A3G  NL   \n",
       "301440  ESTAT:NAMA_10_GDP(1.0)  17/01/23 11:00:00    A  CP_MEUR   B2A3G  NL   \n",
       "301441  ESTAT:NAMA_10_GDP(1.0)  17/01/23 11:00:00    A  CP_MEUR   B2A3G  NL   \n",
       "301442  ESTAT:NAMA_10_GDP(1.0)  17/01/23 11:00:00    A  CP_MEUR   B2A3G  NL   \n",
       "\n",
       "        TIME_PERIOD  OBS_VALUE OBS_FLAG  \n",
       "301438         1995   139518.7      NaN  \n",
       "301439         1996   143513.4      NaN  \n",
       "301440         1997   151448.4      NaN  \n",
       "301441         1998   160808.8      NaN  \n",
       "301442         1999   168001.0      NaN  "
      ]
     },
     "execution_count": 8,
     "metadata": {},
     "output_type": "execute_result"
    }
   ],
   "source": [
    "# Isolate the country you want to analyse\n",
    "\n",
    "country = \"NL\"\n",
    "country_data = GDP_breakdown[GDP_breakdown.geo==country]\n",
    "country_data.head()"
   ]
  },
  {
   "cell_type": "code",
   "execution_count": 9,
   "id": "7cf74bd9",
   "metadata": {
    "slideshow": {
     "slide_type": "slide"
    }
   },
   "outputs": [],
   "source": [
    "# Collect your yearly data\n",
    "yearly_GDP = {}\n",
    "\n",
    "for year in country_data.TIME_PERIOD.unique():\n",
    "    year_data = country_data[country_data.TIME_PERIOD==year]\n",
    "    yearly_GDP[year] = year_data.OBS_VALUE.sum() * 1e-3 "
   ]
  },
  {
   "cell_type": "markdown",
   "id": "76f93af2",
   "metadata": {
    "slideshow": {
     "slide_type": "slide"
    }
   },
   "source": [
    "# Plot your results!"
   ]
  },
  {
   "cell_type": "code",
   "execution_count": 10,
   "id": "17c90749",
   "metadata": {
    "slideshow": {
     "slide_type": "fragment"
    }
   },
   "outputs": [
    {
     "data": {
      "image/png": "[encoded data removed]",
      "text/plain": [
       "<Figure size 800x400 with 1 Axes>"
      ]
     },
     "metadata": {},
     "output_type": "display_data"
    }
   ],
   "source": [
    "plt.figure(figsize=(8,4))\n",
    "plt.xlabel(\"Years\")\n",
    "plt.ylabel(\"Billion €\")\n",
    "GDP_plot = plt.plot(yearly_GDP.keys(), yearly_GDP.values(), label=country)"
   ]
  },
  {
   "cell_type": "markdown",
   "id": "8cb14ebd",
   "metadata": {
    "slideshow": {
     "slide_type": "slide"
    }
   },
   "source": [
    "### Exercise 2 - In groups of 3\n",
    "\n",
    "Try to answer the following question\n",
    "* What do the changes the line graph tell us?\n",
    "* What can we hypothesise on the natural resources use and environmental emissions of those years?\n",
    "* Do other countries show a different trend than the Netherlands?\n",
    "* What can you tell about the historical natural resources use and emissions of one of those countries? "
   ]
  }
 ],
 "metadata": {
  "celltoolbar": "Slideshow",
  "kernelspec": {
   "display_name": "Python 3 (ipykernel)",
   "language": "python",
   "name": "python3"
  },
  "language_info": {
   "codemirror_mode": {
    "name": "ipython",
    "version": 3
   },
   "file_extension": ".py",
   "mimetype": "text/x-python",
   "name": "python",
   "nbconvert_exporter": "python",
   "pygments_lexer": "ipython3",
   "version": "3.11.9"
  },
  "vscode": {
   "interpreter": {
    "hash": "e7370f93d1d0cde622a1f8e1c04877d8463912d04d973331ad4851f04de6915a"
   }
  }
 },
 "nbformat": 4,
 "nbformat_minor": 5
}
