{
 "cells": [
  {
   "cell_type": "markdown",
   "id": "6049e475",
   "metadata": {
    "slideshow": {
     "slide_type": "slide"
    }
   },
   "source": [
    "# Practical 1: Basics of IOA"
   ]
  },
  {
   "cell_type": "code",
   "execution_count": 11,
   "id": "fd57de61",
   "metadata": {
    "slideshow": {
     "slide_type": "slide"
    }
   },
   "outputs": [],
   "source": [
    "# Import packages\n",
    "import numpy as np"
   ]
  },
  {
   "cell_type": "markdown",
   "id": "b57fb325",
   "metadata": {
    "slideshow": {
     "slide_type": "slide"
    }
   },
   "source": [
    "## Recreate a 3x3 IO system using numpy and calculate the total product output and total product input"
   ]
  },
  {
   "cell_type": "markdown",
   "id": "b9b026f0",
   "metadata": {
    "slideshow": {
     "slide_type": "slide"
    }
   },
   "source": [
    "#### Interindustry Transaction Table\n",
    "\n",
    "| Z (Unit: Trillion €/year)  | Agriculture | Industry | Service |\n",
    "|----------------------------|-------------|----------|---------|\n",
    "| Agriculture                | 0.6         | 2.6      | 0.5     |\n",
    "| Industry                   | 0.8         | 30.6     | 7.8     |\n",
    "| Service                    | 0.9         | 12.1     | 23.0    |"
   ]
  },
  {
   "cell_type": "code",
   "execution_count": 21,
   "id": "1668efe4",
   "metadata": {
    "slideshow": {
     "slide_type": "subslide"
    }
   },
   "outputs": [
    {
     "data": {
      "text/plain": [
       "array([[ 0.6,  2.6,  0.5],\n",
       "       [ 0.8, 30.6,  7.8],\n",
       "       [ 0.9, 12.1, 23. ]])"
      ]
     },
     "execution_count": 21,
     "metadata": {},
     "output_type": "execute_result"
    }
   ],
   "source": [
    "# interindustry transaction table\n",
    "Z = np.array([[0.6,2.6,0.5],[0.8,30.6,7.8],[0.9,12.1,23.0]])\n",
    "Z"
   ]
  },
  {
   "cell_type": "markdown",
   "id": "32e831d0",
   "metadata": {
    "slideshow": {
     "slide_type": "slide"
    }
   },
   "source": [
    "#### Final Demand\n",
    "\n",
    "| Y (Unit: Trillion €/year)| Domestic | Export   |\n",
    "|--------------------------|----------|----------|\n",
    "| Agriculture              | 1.9      | 0        |\n",
    "| Industry                 | 28.5     | 0        |\n",
    "| Service                  | 47.8     | 0        |"
   ]
  },
  {
   "cell_type": "code",
   "execution_count": 26,
   "id": "1555d7da",
   "metadata": {
    "slideshow": {
     "slide_type": "subslide"
    }
   },
   "outputs": [
    {
     "data": {
      "text/plain": [
       "array([[ 1.9,  0. ],\n",
       "       [28.5,  0. ],\n",
       "       [47.8,  0. ]])"
      ]
     },
     "execution_count": 26,
     "metadata": {},
     "output_type": "execute_result"
    }
   ],
   "source": [
    "Y = np.array([[1.9,0],[28.5,0],[47.8,0]])\n",
    "Y"
   ]
  },
  {
   "cell_type": "markdown",
   "id": "35120e20",
   "metadata": {
    "slideshow": {
     "slide_type": "slide"
    }
   },
   "source": [
    "#### Value Added\n",
    "\n",
    "| V (Unit: Trillion €/year)  | Agriculture | Industry | Service |\n",
    "|----------------------------|-------------|----------|---------|\n",
    "| Value Added                | 3.3         | 22.3     | 52.5    |"
   ]
  },
  {
   "cell_type": "code",
   "execution_count": 27,
   "id": "ac4ab61c",
   "metadata": {
    "slideshow": {
     "slide_type": "subslide"
    }
   },
   "outputs": [
    {
     "data": {
      "text/plain": [
       "array([ 3.3, 22.3, 52.5])"
      ]
     },
     "execution_count": 27,
     "metadata": {},
     "output_type": "execute_result"
    }
   ],
   "source": [
    "V = np.array([3.3,22.3,52.5])\n",
    "V"
   ]
  },
  {
   "cell_type": "markdown",
   "id": "1c3d0bb6",
   "metadata": {
    "slideshow": {
     "slide_type": "slide"
    }
   },
   "source": [
    "### Calculate the total product output $\\mathbf{x}$\n",
    "\n",
    "$\\mathbf{x}=\\displaystyle\\sum_{j=1}^{n} Z_{ij} + \\sum_{j=1}^{n} Y_{ij}$"
   ]
  },
  {
   "cell_type": "code",
   "execution_count": 28,
   "id": "9f559de8",
   "metadata": {
    "slideshow": {
     "slide_type": "subslide"
    }
   },
   "outputs": [
    {
     "data": {
      "text/plain": [
       "array([ 5.6, 67.7, 83.8])"
      ]
     },
     "execution_count": 28,
     "metadata": {},
     "output_type": "execute_result"
    }
   ],
   "source": [
    "x = Z.sum(1) + Y.sum(1)\n",
    "x"
   ]
  },
  {
   "cell_type": "markdown",
   "id": "de03e195",
   "metadata": {
    "slideshow": {
     "slide_type": "slide"
    }
   },
   "source": [
    "### Calculate the total product input $\\mathbf{x}'$\n",
    "\n",
    "$\\mathbf{x}'=\\displaystyle\\sum_{i=1}^{m} Z_{ij} + \\sum_{i=1}^{m} V_{ij}$"
   ]
  },
  {
   "cell_type": "code",
   "execution_count": 29,
   "id": "65b14afe",
   "metadata": {
    "slideshow": {
     "slide_type": "subslide"
    }
   },
   "outputs": [
    {
     "data": {
      "text/plain": [
       "array([ 5.6, 67.6, 83.8])"
      ]
     },
     "execution_count": 29,
     "metadata": {},
     "output_type": "execute_result"
    }
   ],
   "source": [
    "x_ = Z.sum(0) + V\n",
    "x_"
   ]
  }
 ],
 "metadata": {
  "celltoolbar": "Slideshow",
  "kernelspec": {
   "display_name": "Python 3 (ipykernel)",
   "language": "python",
   "name": "python3"
  },
  "language_info": {
   "codemirror_mode": {
    "name": "ipython",
    "version": 3
   },
   "file_extension": ".py",
   "mimetype": "text/x-python",
   "name": "python",
   "nbconvert_exporter": "python",
   "pygments_lexer": "ipython3",
   "version": "3.11.9"
  }
 },
 "nbformat": 4,
 "nbformat_minor": 5
}
