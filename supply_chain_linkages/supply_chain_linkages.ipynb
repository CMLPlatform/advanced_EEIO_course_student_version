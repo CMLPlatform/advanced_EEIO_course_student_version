{
 "cells": [
  {
   "cell_type": "markdown",
   "metadata": {
    "slideshow": {
     "slide_type": "slide"
    }
   },
   "source": [
    "# Practical 3: Supply chain linkages\n",
    "\n",
    "### Objectives\n",
    "- Understand the format of input-output tables\n",
    "- Calculate the Leontief and Ghosh inverse\n",
    "- Apply demand and price driven models\n",
    "- Calculate backward and forward linkages"
   ]
  },
  {
   "cell_type": "markdown",
   "metadata": {
    "slideshow": {
     "slide_type": "subslide"
    }
   },
   "source": [
    "### Exercise 1\n",
    "An IO system is provided with sectoral data aggregated in 3 sectors.\n",
    "Use this IO data to calculate total product output and input, the Leontief quantity and price models, and the Ghosh model"
   ]
  },
  {
   "cell_type": "code",
   "execution_count": 1,
   "metadata": {
    "slideshow": {
     "slide_type": "fragment"
    }
   },
   "outputs": [],
   "source": [
    "# import modules\n",
    "import pandas as pd\n",
    "import numpy as np"
   ]
  },
  {
   "cell_type": "markdown",
   "metadata": {
    "slideshow": {
     "slide_type": "subslide"
    }
   },
   "source": [
    "1. Inter-industry transactions"
   ]
  },
  {
   "cell_type": "code",
   "execution_count": 2,
   "metadata": {
    "slideshow": {
     "slide_type": "fragment"
    }
   },
   "outputs": [
    {
     "data": {
      "text/html": [
       "<div>\n",
       "<style scoped>\n",
       "    .dataframe tbody tr th:only-of-type {\n",
       "        vertical-align: middle;\n",
       "    }\n",
       "\n",
       "    .dataframe tbody tr th {\n",
       "        vertical-align: top;\n",
       "    }\n",
       "\n",
       "    .dataframe thead th {\n",
       "        text-align: right;\n",
       "    }\n",
       "</style>\n",
       "<table border=\"1\" class=\"dataframe\">\n",
       "  <thead>\n",
       "    <tr style=\"text-align: right;\">\n",
       "      <th></th>\n",
       "      <th>Agriculture</th>\n",
       "      <th>Manufacturing</th>\n",
       "      <th>Services</th>\n",
       "    </tr>\n",
       "  </thead>\n",
       "  <tbody>\n",
       "    <tr>\n",
       "      <th>Agriculture</th>\n",
       "      <td>0.6</td>\n",
       "      <td>2.6</td>\n",
       "      <td>0.5</td>\n",
       "    </tr>\n",
       "    <tr>\n",
       "      <th>Manufacturing</th>\n",
       "      <td>0.8</td>\n",
       "      <td>30.6</td>\n",
       "      <td>7.8</td>\n",
       "    </tr>\n",
       "    <tr>\n",
       "      <th>Services</th>\n",
       "      <td>0.9</td>\n",
       "      <td>12.1</td>\n",
       "      <td>23.0</td>\n",
       "    </tr>\n",
       "  </tbody>\n",
       "</table>\n",
       "</div>"
      ],
      "text/plain": [
       "               Agriculture  Manufacturing  Services\n",
       "Agriculture            0.6            2.6       0.5\n",
       "Manufacturing          0.8           30.6       7.8\n",
       "Services               0.9           12.1      23.0"
      ]
     },
     "execution_count": 2,
     "metadata": {},
     "output_type": "execute_result"
    }
   ],
   "source": [
    "labels = pd.Index([\"Agriculture\", \"Manufacturing\", \"Services\"])\n",
    "\n",
    "Z = pd.DataFrame([\n",
    "    [0.6,2.6,0.5],\n",
    "    [0.8, 30.6, 7.8],\n",
    "    [0.9,12.1,23]], index=labels, columns=labels)\n",
    "\n",
    "Z"
   ]
  },
  {
   "cell_type": "markdown",
   "metadata": {
    "slideshow": {
     "slide_type": "subslide"
    }
   },
   "source": [
    "2. Value added vector"
   ]
  },
  {
   "cell_type": "code",
   "execution_count": 3,
   "metadata": {
    "slideshow": {
     "slide_type": "fragment"
    }
   },
   "outputs": [
    {
     "data": {
      "text/plain": [
       "array([ 3.3, 22.4, 52.5])"
      ]
     },
     "execution_count": 3,
     "metadata": {},
     "output_type": "execute_result"
    }
   ],
   "source": [
    "# Value added (last row of the first table)\n",
    "V = np.array([3.30, 22.4, 52.5])\n",
    "V"
   ]
  },
  {
   "cell_type": "markdown",
   "metadata": {
    "slideshow": {
     "slide_type": "subslide"
    }
   },
   "source": [
    "3. Final demand vector of products purchased by final consumers"
   ]
  },
  {
   "cell_type": "code",
   "execution_count": 4,
   "metadata": {
    "slideshow": {
     "slide_type": "fragment"
    }
   },
   "outputs": [
    {
     "data": {
      "text/plain": [
       "array([ 1.9, 28.5, 47.8])"
      ]
     },
     "execution_count": 4,
     "metadata": {},
     "output_type": "execute_result"
    }
   ],
   "source": [
    "Y = np.array([1.9, 28.5, 47.8])\n",
    "Y"
   ]
  },
  {
   "cell_type": "markdown",
   "metadata": {
    "slideshow": {
     "slide_type": "slide"
    }
   },
   "source": [
    "### 1.1 Calculate total product outputs and inputs"
   ]
  },
  {
   "cell_type": "markdown",
   "metadata": {
    "slideshow": {
     "slide_type": "subslide"
    }
   },
   "source": [
    "4. calculate total outputs: intermediate output + final product output\n",
    "\n",
    "    $x_i = \\sum_{i=0}^n Z_i + Y_i$\n",
    "\n",
    "    tip: use the .sum() method and remember that axis=0 is columns and axis=1 is rows"
   ]
  },
  {
   "cell_type": "code",
   "execution_count": 5,
   "metadata": {
    "slideshow": {
     "slide_type": "fragment"
    }
   },
   "outputs": [
    {
     "data": {
      "text/plain": [
       "Agriculture       5.6\n",
       "Manufacturing    67.7\n",
       "Services         83.8\n",
       "dtype: float64"
      ]
     },
     "execution_count": 5,
     "metadata": {},
     "output_type": "execute_result"
    }
   ],
   "source": [
    "Z_sum = Z.sum(axis=1) \n",
    "x_out = Z_sum + Y\n",
    "x_out"
   ]
  },
  {
   "cell_type": "markdown",
   "metadata": {
    "slideshow": {
     "slide_type": "subslide"
    }
   },
   "source": [
    "5. calculate the total inputs: intermediate input + value added\n",
    "\n",
    "    $x_j = \\sum_{j=0}^n Z_j + V_j$"
   ]
  },
  {
   "cell_type": "code",
   "execution_count": 6,
   "metadata": {
    "slideshow": {
     "slide_type": "fragment"
    }
   },
   "outputs": [
    {
     "data": {
      "text/plain": [
       "Agriculture       5.6\n",
       "Manufacturing    67.7\n",
       "Services         83.8\n",
       "dtype: float64"
      ]
     },
     "execution_count": 6,
     "metadata": {},
     "output_type": "execute_result"
    }
   ],
   "source": [
    "Z_sum = Z.sum(axis=0)\n",
    "x_in = Z_sum + V\n",
    "x_in"
   ]
  },
  {
   "cell_type": "markdown",
   "metadata": {
    "slideshow": {
     "slide_type": "slide"
    }
   },
   "source": [
    "### 1.2 Calculate the Leontief quantity and price models"
   ]
  },
  {
   "cell_type": "markdown",
   "metadata": {
    "slideshow": {
     "slide_type": "subslide"
    }
   },
   "source": [
    "1. Create a technical coefficient matrix and its identity matrix\n",
    "    \n",
    "    $\\mathbf{A} = \\mathbf{Z} \\hat{\\mathbf{x}}^{-1} $\n",
    "\n",
    "    tip: \n",
    "    - use the @ operand or np.matmul() method for multiplications\n",
    "    - use the numpy diag() method to diagonalize a vector\n",
    "    - use numpy linalg.inv() method to perform inverses\n",
    "    - use numpy identity() method for the identity matrix, tip: use the number of columns between the brackets"
   ]
  },
  {
   "cell_type": "code",
   "execution_count": 7,
   "metadata": {
    "slideshow": {
     "slide_type": "subslide"
    }
   },
   "outputs": [
    {
     "data": {
      "text/html": [
       "<div>\n",
       "<style scoped>\n",
       "    .dataframe tbody tr th:only-of-type {\n",
       "        vertical-align: middle;\n",
       "    }\n",
       "\n",
       "    .dataframe tbody tr th {\n",
       "        vertical-align: top;\n",
       "    }\n",
       "\n",
       "    .dataframe thead th {\n",
       "        text-align: right;\n",
       "    }\n",
       "</style>\n",
       "<table border=\"1\" class=\"dataframe\">\n",
       "  <thead>\n",
       "    <tr style=\"text-align: right;\">\n",
       "      <th></th>\n",
       "      <th>0</th>\n",
       "      <th>1</th>\n",
       "      <th>2</th>\n",
       "    </tr>\n",
       "  </thead>\n",
       "  <tbody>\n",
       "    <tr>\n",
       "      <th>Agriculture</th>\n",
       "      <td>0.107143</td>\n",
       "      <td>0.038405</td>\n",
       "      <td>0.005967</td>\n",
       "    </tr>\n",
       "    <tr>\n",
       "      <th>Manufacturing</th>\n",
       "      <td>0.142857</td>\n",
       "      <td>0.451994</td>\n",
       "      <td>0.093079</td>\n",
       "    </tr>\n",
       "    <tr>\n",
       "      <th>Services</th>\n",
       "      <td>0.160714</td>\n",
       "      <td>0.178730</td>\n",
       "      <td>0.274463</td>\n",
       "    </tr>\n",
       "  </tbody>\n",
       "</table>\n",
       "</div>"
      ],
      "text/plain": [
       "                      0         1         2\n",
       "Agriculture    0.107143  0.038405  0.005967\n",
       "Manufacturing  0.142857  0.451994  0.093079\n",
       "Services       0.160714  0.178730  0.274463"
      ]
     },
     "execution_count": 7,
     "metadata": {},
     "output_type": "execute_result"
    }
   ],
   "source": [
    "# Create the technical coefficient matrix A first\n",
    "A = Z @ np.linalg.inv(np.diag(x_out))\n",
    "A"
   ]
  },
  {
   "cell_type": "code",
   "execution_count": 8,
   "metadata": {
    "slideshow": {
     "slide_type": "subslide"
    }
   },
   "outputs": [
    {
     "name": "stdout",
     "output_type": "stream",
     "text": [
      "The dimension/order of I is (3, 3)\n"
     ]
    },
    {
     "data": {
      "text/plain": [
       "array([[1., 0., 0.],\n",
       "       [0., 1., 0.],\n",
       "       [0., 0., 1.]])"
      ]
     },
     "execution_count": 8,
     "metadata": {},
     "output_type": "execute_result"
    }
   ],
   "source": [
    "# Create an identity matrix the same order (i.e., shape) as A\n",
    "I = np.identity(A.shape[0]) # A.shape[0] is the same as writing the number of available sectors .shape allows you to see the dimensions of the dataframe\n",
    "\n",
    "print(f\"The dimension/order of I is {I.shape}\")\n",
    "I"
   ]
  },
  {
   "cell_type": "markdown",
   "metadata": {
    "slideshow": {
     "slide_type": "subslide"
    }
   },
   "source": [
    "2. Calculate and verify the Leontief inverse\n",
    "\n",
    "    $\\mathbf{L} = (\\mathbf{I}-\\mathbf{A})^{-1}$\n",
    "\n",
    "    Steps: \n",
    "\n",
    "    - Calculate Leontief inverse using numpy.linalg.inv method\n",
    "\n",
    "    - multiply the Leontief inverse by final demand vector"
   ]
  },
  {
   "cell_type": "code",
   "execution_count": 9,
   "metadata": {
    "slideshow": {
     "slide_type": "subslide"
    }
   },
   "outputs": [
    {
     "data": {
      "text/plain": [
       "array([[1.1374997 , 0.08638219, 0.02043636],\n",
       "       [0.35414416, 1.93137726, 0.25068774],\n",
       "       [0.33920879, 0.49491248, 1.44457108]])"
      ]
     },
     "execution_count": 9,
     "metadata": {},
     "output_type": "execute_result"
    }
   ],
   "source": [
    "# Calculate the leontief inverse matrix in the Demand-pull model\n",
    "# Use numpy linear algebra inverse function to get L = (I - A)^-1\n",
    "L = np.linalg.inv(I - A)\n",
    "L"
   ]
  },
  {
   "cell_type": "code",
   "execution_count": 10,
   "metadata": {
    "slideshow": {
     "slide_type": "subslide"
    }
   },
   "outputs": [
    {
     "data": {
      "text/plain": [
       "array([ 5.6, 67.7, 83.8])"
      ]
     },
     "execution_count": 10,
     "metadata": {},
     "output_type": "execute_result"
    }
   ],
   "source": [
    "# Check that the total product output is equal to the one we have already calculated\n",
    "x = L @ Y # @ operand is the same as np.dot(L, Y)\n",
    "x\n",
    "# beware when using np.matmul and np.dot/@ interchangeably. \n",
    "# for more info https://www.delftstack.com/howto/numpy/numpy-dot-vs-matmul/ "
   ]
  },
  {
   "cell_type": "markdown",
   "metadata": {
    "slideshow": {
     "slide_type": "subslide"
    }
   },
   "source": [
    "3. Calculate the Leontief price model\n",
    "\n",
    "    $\\mathbf{L} = (\\mathbf{I}-\\mathbf{A}')^{-1}$\n",
    "\n",
    "    Steps: \n",
    "\n",
    "    - Transpose A\n",
    "\n",
    "    - Calculate Leontief inverse using numpy.linalg.inv method\n",
    "\n",
    "    - Calculate value added coefficients by dividing V by x\n",
    "        \n",
    "    - multiply the Leontief inverse by the value added coefficients"
   ]
  },
  {
   "cell_type": "code",
   "execution_count": 11,
   "metadata": {
    "slideshow": {
     "slide_type": "subslide"
    }
   },
   "outputs": [
    {
     "data": {
      "text/plain": [
       "array([[1.1374997 , 0.35414416, 0.33920879],\n",
       "       [0.08638219, 1.93137726, 0.49491248],\n",
       "       [0.02043636, 0.25068774, 1.44457108]])"
      ]
     },
     "execution_count": 11,
     "metadata": {},
     "output_type": "execute_result"
    }
   ],
   "source": [
    "# Transpose the direct requirement matrix A\n",
    "A_p = A.T\n",
    "# Calculate the leontief inverse matrix in the price model\n",
    "L_p = np.linalg.inv(I - A_p)\n",
    "L_p"
   ]
  },
  {
   "cell_type": "code",
   "execution_count": 12,
   "metadata": {
    "slideshow": {
     "slide_type": "subslide"
    }
   },
   "outputs": [
    {
     "data": {
      "text/plain": [
       "array([1., 1., 1.])"
      ]
     },
     "execution_count": 12,
     "metadata": {},
     "output_type": "execute_result"
    }
   ],
   "source": [
    "# calculate the value added coefficients by dividing the value added by total product output\n",
    "v = V/x\n",
    "\n",
    "# Check that p=1\n",
    "p = L_p @ v\n",
    "p"
   ]
  },
  {
   "cell_type": "markdown",
   "metadata": {
    "slideshow": {
     "slide_type": "slide"
    }
   },
   "source": [
    "### 1.3 Calculate the Ghosh quantity model"
   ]
  },
  {
   "cell_type": "markdown",
   "metadata": {
    "slideshow": {
     "slide_type": "subslide"
    }
   },
   "source": [
    "1. Create a technical coefficient matrix B and its identity matrix\n",
    "\n",
    "    $\\mathbf{B} = \\hat{\\mathbf{x}}^{-1} \\mathbf{Z}$"
   ]
  },
  {
   "cell_type": "code",
   "execution_count": 13,
   "metadata": {
    "slideshow": {
     "slide_type": "fragment"
    }
   },
   "outputs": [
    {
     "data": {
      "text/html": [
       "<div>\n",
       "<style scoped>\n",
       "    .dataframe tbody tr th:only-of-type {\n",
       "        vertical-align: middle;\n",
       "    }\n",
       "\n",
       "    .dataframe tbody tr th {\n",
       "        vertical-align: top;\n",
       "    }\n",
       "\n",
       "    .dataframe thead th {\n",
       "        text-align: right;\n",
       "    }\n",
       "</style>\n",
       "<table border=\"1\" class=\"dataframe\">\n",
       "  <thead>\n",
       "    <tr style=\"text-align: right;\">\n",
       "      <th></th>\n",
       "      <th>Agriculture</th>\n",
       "      <th>Manufacturing</th>\n",
       "      <th>Services</th>\n",
       "    </tr>\n",
       "  </thead>\n",
       "  <tbody>\n",
       "    <tr>\n",
       "      <th>0</th>\n",
       "      <td>0.107143</td>\n",
       "      <td>0.464286</td>\n",
       "      <td>0.089286</td>\n",
       "    </tr>\n",
       "    <tr>\n",
       "      <th>1</th>\n",
       "      <td>0.011817</td>\n",
       "      <td>0.451994</td>\n",
       "      <td>0.115214</td>\n",
       "    </tr>\n",
       "    <tr>\n",
       "      <th>2</th>\n",
       "      <td>0.010740</td>\n",
       "      <td>0.144391</td>\n",
       "      <td>0.274463</td>\n",
       "    </tr>\n",
       "  </tbody>\n",
       "</table>\n",
       "</div>"
      ],
      "text/plain": [
       "   Agriculture  Manufacturing  Services\n",
       "0     0.107143       0.464286  0.089286\n",
       "1     0.011817       0.451994  0.115214\n",
       "2     0.010740       0.144391  0.274463"
      ]
     },
     "execution_count": 13,
     "metadata": {},
     "output_type": "execute_result"
    }
   ],
   "source": [
    "# Calculate B\n",
    "B = np.linalg.inv(np.diag(x)) @ Z\n",
    "\n",
    "# Create an identity matrix the same order (i.e., shape) as B\n",
    "I = np.identity(3)\n",
    "B"
   ]
  },
  {
   "cell_type": "markdown",
   "metadata": {
    "slideshow": {
     "slide_type": "subslide"
    }
   },
   "source": [
    "2. Calculate and verify Ghosh inverse\n",
    "\n",
    "    $\\mathbf{G} = (\\mathbf{I}-\\mathbf{B})^{-1}$"
   ]
  },
  {
   "cell_type": "code",
   "execution_count": 14,
   "metadata": {
    "slideshow": {
     "slide_type": "fragment"
    }
   },
   "outputs": [
    {
     "data": {
      "text/plain": [
       "array([[1.1374997 , 1.04429896, 0.30581559],\n",
       "       [0.02929405, 1.93137726, 0.31030477],\n",
       "       [0.02266789, 0.39982786, 1.44457108]])"
      ]
     },
     "execution_count": 14,
     "metadata": {},
     "output_type": "execute_result"
    }
   ],
   "source": [
    "# Calculate the Ghosh inverse matrix\n",
    "G = np.linalg.inv(I - B)\n",
    "G"
   ]
  },
  {
   "cell_type": "code",
   "execution_count": 15,
   "metadata": {
    "slideshow": {
     "slide_type": "fragment"
    }
   },
   "outputs": [
    {
     "data": {
      "text/plain": [
       "array([ 5.6, 67.7, 83.8])"
      ]
     },
     "execution_count": 15,
     "metadata": {},
     "output_type": "execute_result"
    }
   ],
   "source": [
    "# Check that the total product input is equal to the one we have already calculated x=G'V\n",
    "x_g = G.T @ V\n",
    "x_g"
   ]
  },
  {
   "cell_type": "markdown",
   "metadata": {
    "slideshow": {
     "slide_type": "slide"
    }
   },
   "source": [
    "## Exercise 2\n",
    "Calculate backward and forward linkages"
   ]
  },
  {
   "cell_type": "markdown",
   "metadata": {
    "slideshow": {
     "slide_type": "subslide"
    }
   },
   "source": [
    "### 2.1 Calculate backward linkages using A and L"
   ]
  },
  {
   "cell_type": "markdown",
   "metadata": {
    "slideshow": {
     "slide_type": "subslide"
    }
   },
   "source": [
    "1. First assign all labels to the numpy array by turning them into pandas dataframes"
   ]
  },
  {
   "cell_type": "code",
   "execution_count": 16,
   "metadata": {
    "slideshow": {
     "slide_type": "fragment"
    }
   },
   "outputs": [
    {
     "name": "stdout",
     "output_type": "stream",
     "text": [
      "A matrix:\n",
      "\n",
      "               Agriculture  Manufacturing  Services\n",
      "Agriculture       0.107143       0.038405  0.005967\n",
      "Manufacturing     0.142857       0.451994  0.093079\n",
      "Services          0.160714       0.178730  0.274463\n",
      "\n",
      "L matrix:\n",
      "\n",
      "               Agriculture  Manufacturing  Services\n",
      "Agriculture       1.137500       0.086382  0.020436\n",
      "Manufacturing     0.354144       1.931377  0.250688\n",
      "Services          0.339209       0.494912  1.444571\n"
     ]
    }
   ],
   "source": [
    "# Labelling Leontief quantity model\n",
    "A.columns = labels\n",
    "L = pd.DataFrame(L, index=labels, columns=labels)\n",
    "print(f\"A matrix:\\n\\n{A}\\n\\nL matrix:\\n\\n{L}\")"
   ]
  },
  {
   "cell_type": "markdown",
   "metadata": {
    "slideshow": {
     "slide_type": "subslide"
    }
   },
   "source": [
    "2. Column-wise sum of of A and L\n",
    "\n",
    "    tip: use .sum() method\n",
    "    \n",
    "    remember: in pandas axis=0 refers to columns axis=1 refers to rows"
   ]
  },
  {
   "cell_type": "code",
   "execution_count": 17,
   "metadata": {
    "slideshow": {
     "slide_type": "fragment"
    }
   },
   "outputs": [],
   "source": [
    "# Sum the sectors in A to obtain the direct backward linkages\n",
    "s_a_sum = A.sum(0)"
   ]
  },
  {
   "cell_type": "code",
   "execution_count": 18,
   "metadata": {
    "slideshow": {
     "slide_type": "fragment"
    }
   },
   "outputs": [],
   "source": [
    "# Sum the sectors in L to obtain the total backward linkages\n",
    "s_l_sum = L.sum(0)"
   ]
  },
  {
   "cell_type": "markdown",
   "metadata": {
    "slideshow": {
     "slide_type": "subslide"
    }
   },
   "source": [
    "3. Normalize backward linkages results\n",
    "\n",
    "    steps:\n",
    "\n",
    "    - find the average value of the linkages by dividing their total sum by the number of sector/products\n",
    "    - divide the total linkages by the average value of the linkages "
   ]
  },
  {
   "cell_type": "code",
   "execution_count": 19,
   "metadata": {
    "slideshow": {
     "slide_type": "subslide"
    }
   },
   "outputs": [
    {
     "data": {
      "text/plain": [
       "Agriculture      0.410714\n",
       "Manufacturing    0.669129\n",
       "Services         0.373508\n",
       "dtype: float64"
      ]
     },
     "execution_count": 19,
     "metadata": {},
     "output_type": "execute_result"
    }
   ],
   "source": [
    "# Normalize direct backward linkages results \n",
    "no_sectors = len(s_a_sum)\n",
    "avg_a = s_a_sum.sum()/no_sectors\n",
    "norm_dir_back_link = s_a_sum/avg_a\n",
    "s_a_sum"
   ]
  },
  {
   "cell_type": "code",
   "execution_count": 20,
   "metadata": {
    "slideshow": {
     "slide_type": "subslide"
    }
   },
   "outputs": [],
   "source": [
    "# Normalize total backward linkages results \n",
    "avg_l = s_l_sum.sum()/no_sectors\n",
    "norm_tot_back_link = s_l_sum/avg_l"
   ]
  },
  {
   "cell_type": "code",
   "execution_count": 21,
   "metadata": {
    "slideshow": {
     "slide_type": "fragment"
    }
   },
   "outputs": [
    {
     "data": {
      "text/html": [
       "<div>\n",
       "<style scoped>\n",
       "    .dataframe tbody tr th:only-of-type {\n",
       "        vertical-align: middle;\n",
       "    }\n",
       "\n",
       "    .dataframe tbody tr th {\n",
       "        vertical-align: top;\n",
       "    }\n",
       "\n",
       "    .dataframe thead th {\n",
       "        text-align: right;\n",
       "    }\n",
       "</style>\n",
       "<table border=\"1\" class=\"dataframe\">\n",
       "  <thead>\n",
       "    <tr style=\"text-align: right;\">\n",
       "      <th></th>\n",
       "      <th>direct_back_link</th>\n",
       "      <th>total_back_link</th>\n",
       "    </tr>\n",
       "  </thead>\n",
       "  <tbody>\n",
       "    <tr>\n",
       "      <th>Agriculture</th>\n",
       "      <td>0.847794</td>\n",
       "      <td>0.906479</td>\n",
       "    </tr>\n",
       "    <tr>\n",
       "      <th>Manufacturing</th>\n",
       "      <td>1.381212</td>\n",
       "      <td>1.244057</td>\n",
       "    </tr>\n",
       "    <tr>\n",
       "      <th>Services</th>\n",
       "      <td>0.770994</td>\n",
       "      <td>0.849463</td>\n",
       "    </tr>\n",
       "  </tbody>\n",
       "</table>\n",
       "</div>"
      ],
      "text/plain": [
       "               direct_back_link  total_back_link\n",
       "Agriculture            0.847794         0.906479\n",
       "Manufacturing          1.381212         1.244057\n",
       "Services               0.770994         0.849463"
      ]
     },
     "execution_count": 21,
     "metadata": {},
     "output_type": "execute_result"
    }
   ],
   "source": [
    "# Assemble a table with direct and total backward linkages\n",
    "norm_backward_linkages = pd.concat([norm_dir_back_link, norm_tot_back_link], axis=1)\n",
    "norm_backward_linkages.columns = [\"direct_back_link\", \"total_back_link\"]\n",
    "norm_backward_linkages"
   ]
  },
  {
   "cell_type": "markdown",
   "metadata": {
    "slideshow": {
     "slide_type": "slide"
    }
   },
   "source": [
    "### 2.2 Calculate forward linkages using B and G"
   ]
  },
  {
   "cell_type": "markdown",
   "metadata": {
    "slideshow": {
     "slide_type": "subslide"
    }
   },
   "source": [
    "1. Assign labels to B and G"
   ]
  },
  {
   "cell_type": "code",
   "execution_count": 22,
   "metadata": {
    "slideshow": {
     "slide_type": "fragment"
    }
   },
   "outputs": [],
   "source": [
    "# Labelling Ghosh quantity model\n",
    "B.index = labels\n",
    "G = pd.DataFrame(G, index=labels, columns=labels)"
   ]
  },
  {
   "cell_type": "markdown",
   "metadata": {
    "slideshow": {
     "slide_type": "subslide"
    }
   },
   "source": [
    "2. Perform a row sum of B and G\n",
    "\n",
    "    tip: use .sum() method"
   ]
  },
  {
   "cell_type": "code",
   "execution_count": 23,
   "metadata": {
    "slideshow": {
     "slide_type": "fragment"
    }
   },
   "outputs": [
    {
     "data": {
      "text/plain": [
       "Agriculture      0.660714\n",
       "Manufacturing    0.579025\n",
       "Services         0.429594\n",
       "dtype: float64"
      ]
     },
     "execution_count": 23,
     "metadata": {},
     "output_type": "execute_result"
    }
   ],
   "source": [
    "# Sum the products in B to obtain the direct forward linkages\n",
    "s_b_sum = B.sum(1)\n",
    "s_b_sum"
   ]
  },
  {
   "cell_type": "code",
   "execution_count": 24,
   "metadata": {
    "slideshow": {
     "slide_type": "fragment"
    }
   },
   "outputs": [
    {
     "data": {
      "text/plain": [
       "Agriculture      2.487614\n",
       "Manufacturing    2.270976\n",
       "Services         1.867067\n",
       "dtype: float64"
      ]
     },
     "execution_count": 24,
     "metadata": {},
     "output_type": "execute_result"
    }
   ],
   "source": [
    "# Sum the products in G for the total forward linkages\n",
    "s_g_sum = G.sum(1)\n",
    "s_g_sum"
   ]
  },
  {
   "cell_type": "markdown",
   "metadata": {
    "slideshow": {
     "slide_type": "subslide"
    }
   },
   "source": [
    "3. Normalize forward linkages results\n",
    "\n",
    "    steps:\n",
    "\n",
    "    - find the average value of the linkages by dividing their total sum by the number of sector/products\n",
    "    - divide the total linkages by the average value of the linkages "
   ]
  },
  {
   "cell_type": "code",
   "execution_count": 25,
   "metadata": {
    "slideshow": {
     "slide_type": "subslide"
    }
   },
   "outputs": [],
   "source": [
    "no_products = len(s_b_sum)\n",
    "\n",
    "# Normalize direct forward linkages results \n",
    "avg_b = s_b_sum.sum()/no_products\n",
    "norm_dir_fwd_link = s_b_sum/avg_b"
   ]
  },
  {
   "cell_type": "code",
   "execution_count": 26,
   "metadata": {
    "slideshow": {
     "slide_type": "subslide"
    }
   },
   "outputs": [],
   "source": [
    "# Normalize total forward linkages results \n",
    "avg_g = s_g_sum.sum()/no_products\n",
    "norm_tot_fwd_link = s_g_sum/avg_g"
   ]
  },
  {
   "cell_type": "code",
   "execution_count": 27,
   "metadata": {
    "slideshow": {
     "slide_type": "fragment"
    }
   },
   "outputs": [
    {
     "data": {
      "text/html": [
       "<div>\n",
       "<style scoped>\n",
       "    .dataframe tbody tr th:only-of-type {\n",
       "        vertical-align: middle;\n",
       "    }\n",
       "\n",
       "    .dataframe tbody tr th {\n",
       "        vertical-align: top;\n",
       "    }\n",
       "\n",
       "    .dataframe thead th {\n",
       "        text-align: right;\n",
       "    }\n",
       "</style>\n",
       "<table border=\"1\" class=\"dataframe\">\n",
       "  <thead>\n",
       "    <tr style=\"text-align: right;\">\n",
       "      <th></th>\n",
       "      <th>direct_fwd_link</th>\n",
       "      <th>total_fwd_link</th>\n",
       "    </tr>\n",
       "  </thead>\n",
       "  <tbody>\n",
       "    <tr>\n",
       "      <th>Agriculture</th>\n",
       "      <td>1.187386</td>\n",
       "      <td>1.126355</td>\n",
       "    </tr>\n",
       "    <tr>\n",
       "      <th>Manufacturing</th>\n",
       "      <td>1.040580</td>\n",
       "      <td>1.028265</td>\n",
       "    </tr>\n",
       "    <tr>\n",
       "      <th>Services</th>\n",
       "      <td>0.772034</td>\n",
       "      <td>0.845380</td>\n",
       "    </tr>\n",
       "  </tbody>\n",
       "</table>\n",
       "</div>"
      ],
      "text/plain": [
       "               direct_fwd_link  total_fwd_link\n",
       "Agriculture           1.187386        1.126355\n",
       "Manufacturing         1.040580        1.028265\n",
       "Services              0.772034        0.845380"
      ]
     },
     "execution_count": 27,
     "metadata": {},
     "output_type": "execute_result"
    }
   ],
   "source": [
    "# Assemble a table with direct and total forward linkages\n",
    "norm_forward_linkages = pd.concat([norm_dir_fwd_link, norm_tot_fwd_link], axis=1)\n",
    "norm_forward_linkages.columns = columns=[\"direct_fwd_link\", \"total_fwd_link\"]\n",
    "norm_forward_linkages"
   ]
  },
  {
   "cell_type": "markdown",
   "metadata": {
    "slideshow": {
     "slide_type": "subslide"
    }
   },
   "source": [
    "#### 2.3  Concatenate the results into one table"
   ]
  },
  {
   "cell_type": "code",
   "execution_count": 28,
   "metadata": {
    "slideshow": {
     "slide_type": "fragment"
    }
   },
   "outputs": [
    {
     "data": {
      "text/html": [
       "<div>\n",
       "<style scoped>\n",
       "    .dataframe tbody tr th:only-of-type {\n",
       "        vertical-align: middle;\n",
       "    }\n",
       "\n",
       "    .dataframe tbody tr th {\n",
       "        vertical-align: top;\n",
       "    }\n",
       "\n",
       "    .dataframe thead th {\n",
       "        text-align: right;\n",
       "    }\n",
       "</style>\n",
       "<table border=\"1\" class=\"dataframe\">\n",
       "  <thead>\n",
       "    <tr style=\"text-align: right;\">\n",
       "      <th></th>\n",
       "      <th>direct_back_link</th>\n",
       "      <th>total_back_link</th>\n",
       "      <th>direct_fwd_link</th>\n",
       "      <th>total_fwd_link</th>\n",
       "    </tr>\n",
       "  </thead>\n",
       "  <tbody>\n",
       "    <tr>\n",
       "      <th>Agriculture</th>\n",
       "      <td>0.847794</td>\n",
       "      <td>0.906479</td>\n",
       "      <td>1.187386</td>\n",
       "      <td>1.126355</td>\n",
       "    </tr>\n",
       "    <tr>\n",
       "      <th>Manufacturing</th>\n",
       "      <td>1.381212</td>\n",
       "      <td>1.244057</td>\n",
       "      <td>1.040580</td>\n",
       "      <td>1.028265</td>\n",
       "    </tr>\n",
       "    <tr>\n",
       "      <th>Services</th>\n",
       "      <td>0.770994</td>\n",
       "      <td>0.849463</td>\n",
       "      <td>0.772034</td>\n",
       "      <td>0.845380</td>\n",
       "    </tr>\n",
       "  </tbody>\n",
       "</table>\n",
       "</div>"
      ],
      "text/plain": [
       "               direct_back_link  total_back_link  direct_fwd_link  \\\n",
       "Agriculture            0.847794         0.906479         1.187386   \n",
       "Manufacturing          1.381212         1.244057         1.040580   \n",
       "Services               0.770994         0.849463         0.772034   \n",
       "\n",
       "               total_fwd_link  \n",
       "Agriculture          1.126355  \n",
       "Manufacturing        1.028265  \n",
       "Services             0.845380  "
      ]
     },
     "execution_count": 28,
     "metadata": {},
     "output_type": "execute_result"
    }
   ],
   "source": [
    "# Print normalized results for backward and forward linkages\n",
    "pd.concat([norm_backward_linkages, norm_forward_linkages], axis=1)"
   ]
  },
  {
   "cell_type": "markdown",
   "metadata": {
    "slideshow": {
     "slide_type": "slide"
    }
   },
   "source": [
    "#### 2.4 Using the normalized results and the figure below, what can you tell about this IO system?\n",
    "\n",
    "![image](./figures/linkages.PNG)"
   ]
  },
  {
   "cell_type": "markdown",
   "metadata": {
    "slideshow": {
     "slide_type": "subslide"
    }
   },
   "source": [
    "*Double click on the cell to replace this text with your answer*"
   ]
  }
 ],
 "metadata": {
  "celltoolbar": "Slideshow",
  "kernelspec": {
   "display_name": "Python 3 (ipykernel)",
   "language": "python",
   "name": "python3"
  },
  "language_info": {
   "codemirror_mode": {
    "name": "ipython",
    "version": 3
   },
   "file_extension": ".py",
   "mimetype": "text/x-python",
   "name": "python",
   "nbconvert_exporter": "python",
   "pygments_lexer": "ipython3",
   "version": "3.9.16"
  },
  "vscode": {
   "interpreter": {
    "hash": "6d1f42742d8eeff3650217bec81eeb13815fa78739aef7423c986dc57d3645fd"
   }
  }
 },
 "nbformat": 4,
 "nbformat_minor": 4
}
