{
 "cells": [
  {
   "cell_type": "markdown",
   "metadata": {
    "slideshow": {
     "slide_type": "slide"
    }
   },
   "source": [
    "# Example of power series expansion"
   ]
  },
  {
   "cell_type": "code",
   "execution_count": 31,
   "metadata": {
    "slideshow": {
     "slide_type": "fragment"
    }
   },
   "outputs": [],
   "source": [
    "# import modules\n",
    "import pandas as pd\n",
    "import numpy as np"
   ]
  },
  {
   "cell_type": "markdown",
   "metadata": {
    "slideshow": {
     "slide_type": "subslide"
    }
   },
   "source": [
    "1. Inter-industry transactions"
   ]
  },
  {
   "cell_type": "code",
   "execution_count": 32,
   "metadata": {
    "slideshow": {
     "slide_type": "fragment"
    }
   },
   "outputs": [
    {
     "data": {
      "text/plain": [
       "array([[ 0.6,  2.6,  0.5],\n",
       "       [ 0.8, 30.6,  7.8],\n",
       "       [ 0.9, 12.1, 23. ]])"
      ]
     },
     "execution_count": 32,
     "metadata": {},
     "output_type": "execute_result"
    }
   ],
   "source": [
    "Z = np.array([\n",
    "    [0.6,2.6,0.5],\n",
    "    [0.8, 30.6, 7.8],\n",
    "    [0.9,12.1,23]])\n",
    "\n",
    "Z"
   ]
  },
  {
   "cell_type": "markdown",
   "metadata": {
    "slideshow": {
     "slide_type": "subslide"
    }
   },
   "source": [
    "2. Value added vector"
   ]
  },
  {
   "cell_type": "code",
   "execution_count": 33,
   "metadata": {
    "slideshow": {
     "slide_type": "fragment"
    }
   },
   "outputs": [
    {
     "data": {
      "text/plain": [
       "array([ 3.3, 22.4, 52.5])"
      ]
     },
     "execution_count": 33,
     "metadata": {},
     "output_type": "execute_result"
    }
   ],
   "source": [
    "# Value added (last row of the first table)\n",
    "v = np.array([3.30, 22.4, 52.5])\n",
    "v"
   ]
  },
  {
   "cell_type": "markdown",
   "metadata": {
    "slideshow": {
     "slide_type": "subslide"
    }
   },
   "source": [
    "3. Final demand vector of products purchased by final consumers"
   ]
  },
  {
   "cell_type": "code",
   "execution_count": 34,
   "metadata": {
    "slideshow": {
     "slide_type": "fragment"
    }
   },
   "outputs": [
    {
     "data": {
      "text/plain": [
       "array([ 1.9, 28.5, 47.8])"
      ]
     },
     "execution_count": 34,
     "metadata": {},
     "output_type": "execute_result"
    }
   ],
   "source": [
    "y = np.array([1.9, 28.5, 47.8])\n",
    "y"
   ]
  },
  {
   "cell_type": "code",
   "execution_count": 35,
   "metadata": {},
   "outputs": [
    {
     "data": {
      "text/plain": [
       "array([[0.10714286, 0.03840473, 0.00596659],\n",
       "       [0.14285714, 0.45199409, 0.09307876],\n",
       "       [0.16071429, 0.17872969, 0.27446301]])"
      ]
     },
     "execution_count": 35,
     "metadata": {},
     "output_type": "execute_result"
    }
   ],
   "source": [
    "x = Z.sum(1) + y\n",
    "A = Z @ np.diag(1/x)\n",
    "A"
   ]
  },
  {
   "cell_type": "code",
   "execution_count": 36,
   "metadata": {},
   "outputs": [
    {
     "data": {
      "text/plain": [
       "array([[1.1374997 , 0.08638219, 0.02043636],\n",
       "       [0.35414416, 1.93137726, 0.25068774],\n",
       "       [0.33920879, 0.49491248, 1.44457108]])"
      ]
     },
     "execution_count": 36,
     "metadata": {},
     "output_type": "execute_result"
    }
   ],
   "source": [
    "L = np.linalg.inv(np.eye(A.shape[0])-A)\n",
    "L"
   ]
  },
  {
   "cell_type": "markdown",
   "metadata": {},
   "source": [
    "The Leontief as a power series expansion\n",
    "\n",
    "$\\mathbf{L} = \\mathbf{I} + \\mathbf{A} + \\mathbf{A}^{2} + \\mathbf{A}^{3} + ... + \\mathbf{A}^{n}$"
   ]
  },
  {
   "cell_type": "code",
   "execution_count": 43,
   "metadata": {},
   "outputs": [],
   "source": [
    "def leontief_inverse_power_series(A, n_terms):\n",
    "    \"\"\"\n",
    "    Compute the Leontief inverse using power series expansion.\n",
    "\n",
    "    Args:\n",
    "    A: numpy array or pandas dataframe, the input-output matrix.\n",
    "    n_terms: int, the number of terms in the power series expansion.\n",
    "\n",
    "    Returns:\n",
    "    L_approximate: numpy array, the Leontief inverse approximation.\n",
    "    \"\"\"\n",
    "    I = np.eye(A.shape[0])\n",
    "    L_approximate = I.copy()\n",
    "    A_power = I.copy()\n",
    "    \n",
    "    for i in range(n_terms):\n",
    "        A_power = A_power @ A\n",
    "        L_approximate += A_power\n",
    "\n",
    "    return L_approximate"
   ]
  },
  {
   "cell_type": "code",
   "execution_count": 44,
   "metadata": {},
   "outputs": [
    {
     "data": {
      "text/plain": [
       "(array([[1.1374997 , 0.08638219, 0.02043636],\n",
       "        [0.35414415, 1.93137726, 0.25068774],\n",
       "        [0.33920879, 0.49491247, 1.44457108]]),\n",
       " array([[1.1374997 , 0.08638219, 0.02043636],\n",
       "        [0.35414416, 1.93137726, 0.25068774],\n",
       "        [0.33920879, 0.49491248, 1.44457108]]))"
      ]
     },
     "execution_count": 44,
     "metadata": {},
     "output_type": "execute_result"
    }
   ],
   "source": [
    "leontief_inverse_power_series(A, 30),L"
   ]
  }
 ],
 "metadata": {
  "celltoolbar": "Slideshow",
  "kernelspec": {
   "display_name": "EEIO",
   "language": "python",
   "name": "python3"
  },
  "language_info": {
   "codemirror_mode": {
    "name": "ipython",
    "version": 3
   },
   "file_extension": ".py",
   "mimetype": "text/x-python",
   "name": "python",
   "nbconvert_exporter": "python",
   "pygments_lexer": "ipython3",
   "version": "3.11.9"
  }
 },
 "nbformat": 4,
 "nbformat_minor": 4
}
