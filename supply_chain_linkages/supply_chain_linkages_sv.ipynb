{
 "cells": [
  {
   "cell_type": "markdown",
   "metadata": {
    "slideshow": {
     "slide_type": "slide"
    }
   },
   "source": [
    "# Practical 3: Supply chain linkages\n",
    "\n",
    "### Objectives\n",
    "- Understand the format of input-output tables\n",
    "- Calculate the Leontief and Ghosh inverse\n",
    "- Calculate backward and forward linkages"
   ]
  },
  {
   "cell_type": "markdown",
   "metadata": {
    "slideshow": {
     "slide_type": "subslide"
    }
   },
   "source": [
    "### Exercise 1\n",
    "An IO system is provided with sectoral data aggregated in 3 sectors.\n",
    "Use this IO data to calculate total product output and input, the Leontief quantity and price models, and the Ghosh model"
   ]
  },
  {
   "cell_type": "code",
   "execution_count": null,
   "metadata": {
    "slideshow": {
     "slide_type": "fragment"
    }
   },
   "outputs": [],
   "source": [
    "# import modules\n",
    "import pandas as pd\n",
    "import numpy as np"
   ]
  },
  {
   "cell_type": "markdown",
   "metadata": {
    "slideshow": {
     "slide_type": "subslide"
    }
   },
   "source": [
    "1. Inter-industry transactions"
   ]
  },
  {
   "cell_type": "code",
   "execution_count": null,
   "metadata": {
    "slideshow": {
     "slide_type": "fragment"
    }
   },
   "outputs": [],
   "source": [
    "labels = pd.Index([\"Agriculture\", \"Manufacturing\", \"Services\"])\n",
    "\n",
    "Z = pd.DataFrame([\n",
    "    [0.6,2.6,0.5],\n",
    "    [0.8, 30.6, 7.8],\n",
    "    [0.9,12.1,23]], index=labels, columns=labels)\n",
    "\n",
    "Z"
   ]
  },
  {
   "cell_type": "markdown",
   "metadata": {
    "slideshow": {
     "slide_type": "subslide"
    }
   },
   "source": [
    "2. Value added vector"
   ]
  },
  {
   "cell_type": "code",
   "execution_count": null,
   "metadata": {
    "slideshow": {
     "slide_type": "fragment"
    }
   },
   "outputs": [],
   "source": [
    "# Value added (last row of the first table)\n",
    "v = np.array([3.30, 22.4, 52.5])\n",
    "v"
   ]
  },
  {
   "cell_type": "markdown",
   "metadata": {
    "slideshow": {
     "slide_type": "subslide"
    }
   },
   "source": [
    "3. Final demand vector of products purchased by final consumers"
   ]
  },
  {
   "cell_type": "code",
   "execution_count": null,
   "metadata": {
    "slideshow": {
     "slide_type": "fragment"
    }
   },
   "outputs": [],
   "source": [
    "y = np.array([1.9, 28.5, 47.8])\n",
    "y"
   ]
  },
  {
   "cell_type": "markdown",
   "metadata": {
    "slideshow": {
     "slide_type": "slide"
    }
   },
   "source": [
    "### 1.1 Calculate total product outputs and inputs"
   ]
  },
  {
   "cell_type": "markdown",
   "metadata": {
    "slideshow": {
     "slide_type": "subslide"
    }
   },
   "source": [
    "4. calculate total outputs: intermediate output + final product output\n",
    "\n",
    "    $x_i = \\sum_{i=0}^n Z_i + Y_i$\n",
    "\n",
    "    tip: use the .sum() method and remember that axis=0 is columns and axis=1 is rows"
   ]
  },
  {
   "cell_type": "code",
   "execution_count": null,
   "metadata": {
    "slideshow": {
     "slide_type": "fragment"
    }
   },
   "outputs": [],
   "source": [
    "Z_sum = None\n",
    "x_out = None\n",
    "x_out"
   ]
  },
  {
   "cell_type": "markdown",
   "metadata": {
    "slideshow": {
     "slide_type": "subslide"
    }
   },
   "source": [
    "5. calculate the total inputs: intermediate input + value added\n",
    "\n",
    "    $x_j = \\sum_{j=0}^n Z_j + V_j$"
   ]
  },
  {
   "cell_type": "code",
   "execution_count": null,
   "metadata": {
    "slideshow": {
     "slide_type": "fragment"
    }
   },
   "outputs": [],
   "source": [
    "Z_sum = None\n",
    "x_in = None \n",
    "x_in"
   ]
  },
  {
   "cell_type": "markdown",
   "metadata": {
    "slideshow": {
     "slide_type": "slide"
    }
   },
   "source": [
    "### 1.2 Calculate the Leontief quantity and price models"
   ]
  },
  {
   "cell_type": "markdown",
   "metadata": {
    "slideshow": {
     "slide_type": "subslide"
    }
   },
   "source": [
    "1. Create a technical coefficient matrix and its identity matrix\n",
    "    \n",
    "    $\\mathbf{A} = \\mathbf{Z} \\hat{\\mathbf{x}}^{-1} $\n",
    "\n",
    "    tip: \n",
    "    - use the @ operand or np.matmul() method for multiplications\n",
    "    - use the numpy diag() method to diagonalize a vector\n",
    "    - use numpy linalg.inv() method to perform inverses\n",
    "    - use numpy identity() method for the identity matrix, tip: use the number of columns between the brackets"
   ]
  },
  {
   "cell_type": "code",
   "execution_count": null,
   "metadata": {
    "slideshow": {
     "slide_type": "subslide"
    }
   },
   "outputs": [],
   "source": [
    "# Create the technical coefficient matrix A first\n",
    "A = None\n",
    "A"
   ]
  },
  {
   "cell_type": "code",
   "execution_count": null,
   "metadata": {
    "slideshow": {
     "slide_type": "subslide"
    }
   },
   "outputs": [],
   "source": [
    "# Create an identity matrix the same order (i.e., shape) as A\n",
    "I = None# A.shape[0] is the same as writing the number of available sectors .shape allows you to see the dimensions of the dataframe\n",
    "\n",
    "# print(f\"The dimension/order of I is {I.shape}\")\n",
    "I"
   ]
  },
  {
   "cell_type": "markdown",
   "metadata": {
    "slideshow": {
     "slide_type": "subslide"
    }
   },
   "source": [
    "2. Calculate and verify the Leontief inverse\n",
    "\n",
    "    $\\mathbf{L} = (\\mathbf{I}-\\mathbf{A})^{-1}$\n",
    "\n",
    "    Steps: \n",
    "\n",
    "    - Calculate Leontief inverse using numpy.linalg.inv method\n",
    "\n",
    "    - multiply the Leontief inverse by final demand vector"
   ]
  },
  {
   "cell_type": "code",
   "execution_count": null,
   "metadata": {
    "slideshow": {
     "slide_type": "subslide"
    }
   },
   "outputs": [],
   "source": [
    "# Calculate the leontief inverse matrix in the Demand-pull model\n",
    "# Use numpy linear algebra inverse function to get L = (I - A)^-1\n",
    "L = None\n",
    "L"
   ]
  },
  {
   "cell_type": "code",
   "execution_count": null,
   "metadata": {
    "slideshow": {
     "slide_type": "subslide"
    }
   },
   "outputs": [],
   "source": [
    "# Check that the total product output is equal to the one we have already calculated\n",
    "x = None # @ operand is the same as np.dot(L, Y)\n",
    "x, x_out\n",
    "# beware when using np.matmul and np.dot/@ interchangeably. \n",
    "# for more info https://www.delftstack.com/howto/numpy/numpy-dot-vs-matmul/ "
   ]
  },
  {
   "cell_type": "markdown",
   "metadata": {
    "slideshow": {
     "slide_type": "subslide"
    }
   },
   "source": [
    "3. Calculate the Leontief price model\n",
    "\n",
    "    $\\mathbf{L} = (\\mathbf{I}-\\mathbf{A}')^{-1}$\n",
    "\n",
    "    Steps: \n",
    "\n",
    "    - Transpose A\n",
    "\n",
    "    - Calculate Leontief inverse using numpy.linalg.inv method\n",
    "\n",
    "    - Calculate value added coefficients by dividing V by x\n",
    "        \n",
    "    - multiply the Leontief inverse by the value added coefficients"
   ]
  },
  {
   "cell_type": "code",
   "execution_count": null,
   "metadata": {
    "slideshow": {
     "slide_type": "subslide"
    }
   },
   "outputs": [],
   "source": [
    "# Transpose the direct requirement matrix A\n",
    "A_t = None\n",
    "# Calculate the leontief inverse matrix in the price model\n",
    "L_t = None\n",
    "L_t, L.T"
   ]
  },
  {
   "cell_type": "code",
   "execution_count": null,
   "metadata": {
    "slideshow": {
     "slide_type": "subslide"
    }
   },
   "outputs": [],
   "source": [
    "# calculate the value added coefficients by dividing the value added by total product output\n",
    "v_c = None\n",
    "\n",
    "# Check that p=1\n",
    "p = None\n",
    "p"
   ]
  },
  {
   "cell_type": "markdown",
   "metadata": {
    "slideshow": {
     "slide_type": "slide"
    }
   },
   "source": [
    "### 1.3 Calculate the Ghosh quantity model"
   ]
  },
  {
   "cell_type": "markdown",
   "metadata": {
    "slideshow": {
     "slide_type": "subslide"
    }
   },
   "source": [
    "1. Create an allocation coefficient matrix B and its identity matrix\n",
    "\n",
    "    $\\mathbf{B} = \\hat{\\mathbf{x}}^{-1} \\mathbf{Z}$"
   ]
  },
  {
   "cell_type": "code",
   "execution_count": null,
   "metadata": {
    "slideshow": {
     "slide_type": "fragment"
    }
   },
   "outputs": [],
   "source": [
    "# Calculate B\n",
    "B = None\n",
    "\n",
    "# Create an identity matrix the same order (i.e., shape) as B\n",
    "I = None\n",
    "B"
   ]
  },
  {
   "cell_type": "markdown",
   "metadata": {
    "slideshow": {
     "slide_type": "subslide"
    }
   },
   "source": [
    "2. Calculate and verify Ghosh inverse\n",
    "\n",
    "    $\\mathbf{G} = (\\mathbf{I}-\\mathbf{B})^{-1}$"
   ]
  },
  {
   "cell_type": "code",
   "execution_count": null,
   "metadata": {
    "slideshow": {
     "slide_type": "fragment"
    }
   },
   "outputs": [],
   "source": [
    "# Calculate the Ghosh inverse matrix\n",
    "G = None\n",
    "G"
   ]
  },
  {
   "cell_type": "code",
   "execution_count": null,
   "metadata": {
    "slideshow": {
     "slide_type": "fragment"
    }
   },
   "outputs": [],
   "source": [
    "# Check that the total product input is equal to the one we have already calculated x=G'V\n",
    "x_input = None\n",
    "x_input"
   ]
  },
  {
   "cell_type": "markdown",
   "metadata": {
    "slideshow": {
     "slide_type": "slide"
    }
   },
   "source": [
    "## Exercise 2\n",
    "Calculate backward and forward linkages"
   ]
  },
  {
   "cell_type": "markdown",
   "metadata": {
    "slideshow": {
     "slide_type": "subslide"
    }
   },
   "source": [
    "### 2.1 Calculate backward linkages using A and L"
   ]
  },
  {
   "cell_type": "markdown",
   "metadata": {
    "slideshow": {
     "slide_type": "subslide"
    }
   },
   "source": [
    "1. First assign all labels to the numpy array by turning them into pandas dataframes"
   ]
  },
  {
   "cell_type": "code",
   "execution_count": null,
   "metadata": {
    "slideshow": {
     "slide_type": "fragment"
    }
   },
   "outputs": [],
   "source": [
    "# Labelling Leontief quantity model\n",
    "A.columns = None\n",
    "\n",
    "L = None\n",
    "\n",
    "print(f\"A matrix:\\n\\n{A}\\n\\nL matrix:\\n\\n{L}\")"
   ]
  },
  {
   "cell_type": "markdown",
   "metadata": {
    "slideshow": {
     "slide_type": "subslide"
    }
   },
   "source": [
    "2. Column-wise sum of of A and L\n",
    "\n",
    "    tip: use .sum() method\n",
    "    \n",
    "    remember: in pandas axis=0 refers to columns axis=1 refers to rows"
   ]
  },
  {
   "cell_type": "code",
   "execution_count": null,
   "metadata": {
    "slideshow": {
     "slide_type": "fragment"
    }
   },
   "outputs": [],
   "source": [
    "# Sum the sectors in A to obtain the direct backward linkages\n",
    "s_a_sum = None\n",
    "\n",
    "s_a_sum"
   ]
  },
  {
   "cell_type": "code",
   "execution_count": null,
   "metadata": {
    "slideshow": {
     "slide_type": "fragment"
    }
   },
   "outputs": [],
   "source": [
    "# Sum the sectors in L to obtain the total backward linkages\n",
    "s_l_sum = None\n",
    "\n",
    "s_l_sum"
   ]
  },
  {
   "cell_type": "markdown",
   "metadata": {
    "slideshow": {
     "slide_type": "subslide"
    }
   },
   "source": [
    "3. Normalize backward linkages results\n",
    "\n",
    "    steps:\n",
    "\n",
    "    - find the average value of the linkages by dividing their total sum by the number of sector/products\n",
    "    - divide the total linkages by the average value of the linkages "
   ]
  },
  {
   "cell_type": "code",
   "execution_count": null,
   "metadata": {
    "slideshow": {
     "slide_type": "subslide"
    }
   },
   "outputs": [],
   "source": [
    "# Normalize direct backward linkages results \n",
    "no_sectors = None\n",
    "avg_a = None\n",
    "norm_dir_back_link = None\n",
    "\n",
    "norm_dir_back_link"
   ]
  },
  {
   "cell_type": "code",
   "execution_count": null,
   "metadata": {
    "slideshow": {
     "slide_type": "subslide"
    }
   },
   "outputs": [],
   "source": [
    "# Normalize total backward linkages results \n",
    "avg_l = None\n",
    "norm_tot_back_link = None\n",
    "\n",
    "norm_tot_back_link"
   ]
  },
  {
   "cell_type": "code",
   "execution_count": null,
   "metadata": {
    "slideshow": {
     "slide_type": "fragment"
    }
   },
   "outputs": [],
   "source": [
    "# Assemble a table with direct and total backward linkages\n",
    "norm_backward_linkages = None\n",
    "norm_backward_linkages.columns = None\n",
    "norm_backward_linkages"
   ]
  },
  {
   "cell_type": "markdown",
   "metadata": {
    "slideshow": {
     "slide_type": "slide"
    }
   },
   "source": [
    "### 2.2 Calculate forward linkages using B and G"
   ]
  },
  {
   "cell_type": "markdown",
   "metadata": {
    "slideshow": {
     "slide_type": "subslide"
    }
   },
   "source": [
    "1. Assign labels to B and G"
   ]
  },
  {
   "cell_type": "code",
   "execution_count": null,
   "metadata": {
    "slideshow": {
     "slide_type": "fragment"
    }
   },
   "outputs": [],
   "source": [
    "# Labelling Ghosh quantity model\n",
    "B.index = None\n",
    "G = None\n",
    "B, G"
   ]
  },
  {
   "cell_type": "markdown",
   "metadata": {
    "slideshow": {
     "slide_type": "subslide"
    }
   },
   "source": [
    "2. Perform a row sum of B and G\n",
    "\n",
    "    tip: use .sum() method"
   ]
  },
  {
   "cell_type": "code",
   "execution_count": null,
   "metadata": {
    "slideshow": {
     "slide_type": "fragment"
    }
   },
   "outputs": [],
   "source": [
    "# Sum the products in B to obtain the direct forward linkages\n",
    "s_b_sum = None\n",
    "s_b_sum"
   ]
  },
  {
   "cell_type": "code",
   "execution_count": null,
   "metadata": {
    "slideshow": {
     "slide_type": "fragment"
    }
   },
   "outputs": [],
   "source": [
    "# Sum the products in G for the total forward linkages\n",
    "s_g_sum = None\n",
    "s_g_sum"
   ]
  },
  {
   "cell_type": "markdown",
   "metadata": {
    "slideshow": {
     "slide_type": "subslide"
    }
   },
   "source": [
    "3. Normalize forward linkages results\n",
    "\n",
    "    steps:\n",
    "\n",
    "    - find the average value of the linkages by dividing their total sum by the number of sector/products\n",
    "    - divide the total linkages by the average value of the linkages "
   ]
  },
  {
   "cell_type": "code",
   "execution_count": null,
   "metadata": {
    "slideshow": {
     "slide_type": "subslide"
    }
   },
   "outputs": [],
   "source": [
    "# Normalize direct forward linkages results \n",
    "avg_b = None\n",
    "norm_dir_fwd_link = None\n",
    "norm_dir_fwd_link"
   ]
  },
  {
   "cell_type": "code",
   "execution_count": null,
   "metadata": {
    "slideshow": {
     "slide_type": "subslide"
    }
   },
   "outputs": [],
   "source": [
    "# Normalize total forward linkages results \n",
    "avg_g = None\n",
    "norm_tot_fwd_link = None\n",
    "norm_tot_fwd_link"
   ]
  },
  {
   "cell_type": "code",
   "execution_count": null,
   "metadata": {
    "slideshow": {
     "slide_type": "fragment"
    }
   },
   "outputs": [],
   "source": [
    "# Assemble a table with direct and total forward linkages\n",
    "norm_forward_linkages = None\n",
    "norm_forward_linkages.columns = None\n",
    "norm_forward_linkages"
   ]
  },
  {
   "cell_type": "markdown",
   "metadata": {
    "slideshow": {
     "slide_type": "subslide"
    }
   },
   "source": [
    "#### 2.3  Concatenate the results into one table"
   ]
  },
  {
   "cell_type": "code",
   "execution_count": null,
   "metadata": {
    "slideshow": {
     "slide_type": "fragment"
    }
   },
   "outputs": [],
   "source": [
    "# Print normalized results for backward and forward linkages\n",
    "# Use again pd.concat\n",
    "# pd.concat([norm_backward_linkages, norm_forward_linkages], axis=1)"
   ]
  },
  {
   "cell_type": "markdown",
   "metadata": {
    "slideshow": {
     "slide_type": "fragment"
    }
   },
   "source": [
    "#### 2.4 Using the normalized results and the figure below, what can you tell about this IO system?\n",
    "\n",
    "<table style=\"text-align:center;\" cellspacing=\"0\" width=\"855\">\n",
    "  <tbody>\n",
    "    <tr height=\"20\">\n",
    "      <th colspan=\"2\" rowspan=\"2\"></th>\n",
    "      <th colspan=\"2\">Direct or Total Forward Linkage</th>\n",
    "    <tr height=\"20\">\n",
    "      <td >Low (&lt;1)</td>\n",
    "      <td >High ( &gt;1)</td>\n",
    "    </tr>\n",
    "    <tr height=\"41\">\n",
    "      <td rowspan=\"2\" height=\"82\" width=\"100\" style=\"font-weight:bold;\">Direct or Total Backward Linkage</td>\n",
    "      <td>Low (&lt;1)</td>\n",
    "      <td >(I) Generally\n",
    "  independent</td>\n",
    "      <td>(II) Dependent on\n",
    "  interindustry demand</td>\n",
    "    </tr>\n",
    "    <tr height=\"41\" >\n",
    "      <td height=\"41\">High (&gt;1)</td>\n",
    "      <td>(IV) Dependent on interindustry supply</td>\n",
    "      <td>(III) Generally dependent</td>\n",
    "    </tr>\n",
    "  </tbody>\n",
    "</table>\n",
    "\n",
    "\n",
    "Adapted from Table 12.3, Miller and Blair (2009), Input–Output Analysis Foundations and Extensions (Second Edition).\n"
   ]
  },
  {
   "cell_type": "markdown",
   "metadata": {
    "slideshow": {
     "slide_type": "subslide"
    }
   },
   "source": [
    "*Double click on the cell to replace this text with your answer*"
   ]
  }
 ],
 "metadata": {
  "celltoolbar": "Slideshow",
  "kernelspec": {
   "display_name": "Python 3 (ipykernel)",
   "language": "python",
   "name": "python3"
  },
  "language_info": {
   "codemirror_mode": {
    "name": "ipython",
    "version": 3
   },
   "file_extension": ".py",
   "mimetype": "text/x-python",
   "name": "python",
   "nbconvert_exporter": "python",
   "pygments_lexer": "ipython3",
   "version": "3.11.9"
  }
 },
 "nbformat": 4,
 "nbformat_minor": 4
}
