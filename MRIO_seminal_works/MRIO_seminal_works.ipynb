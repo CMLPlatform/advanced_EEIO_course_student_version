{
 "cells": [
  {
   "cell_type": "markdown",
   "metadata": {
    "slideshow": {
     "slide_type": "slide"
    }
   },
   "source": [
    "# Practical 6: MRIO seminal works\n",
    "\n",
    "#### Objectives\n",
    "- Learn how to replicate the methods and results from a few studies. \n",
    "- Understand and explain main results from EEIOA studies using MRIO seminal works\n"
   ]
  },
  {
   "cell_type": "markdown",
   "metadata": {
    "slideshow": {
     "slide_type": "slide"
    }
   },
   "source": [
    "### Exercise 1\n",
    "Hertwich and Peters (2009) developed an analysis of the carbon footprint of multiple countries in 2001. Their results show the carbon footprint of different final demand categories per product.\n",
    "\n",
    "In this exercise you will reproduce these results using EXIOBASE product by product Input-Output tables and compare any changes between 2001 and 2011\n",
    "\n",
    "N.b. in this and future exercises we sometimes refer to general dataframes as df"
   ]
  },
  {
   "cell_type": "markdown",
   "metadata": {
    "slideshow": {
     "slide_type": "fragment"
    }
   },
   "source": [
    "<img src=\"figures/global_CO2_footprint.png\" width=\"70%\" />\n",
    "\n",
    "Figure 1. Global CO2 footprint for different consumption categories and users retrieved from Hertwich and Peters (2009)"
   ]
  },
  {
   "cell_type": "markdown",
   "metadata": {
    "slideshow": {
     "slide_type": "slide"
    }
   },
   "source": [
    "##### Steps in this exercise:\n",
    "- Import data\n",
    "- Calculate Leontief inverse and environmental intesity matrix\n",
    "- Final demand contribution to environmental footprint"
   ]
  },
  {
   "cell_type": "markdown",
   "metadata": {
    "slideshow": {
     "slide_type": "slide"
    }
   },
   "source": [
    "### Import modules and data"
   ]
  },
  {
   "cell_type": "code",
   "execution_count": 1,
   "metadata": {
    "slideshow": {
     "slide_type": "subslide"
    },
    "tags": []
   },
   "outputs": [],
   "source": [
    "# Import modules\n",
    "import pandas as pd \n",
    "import numpy as np"
   ]
  },
  {
   "cell_type": "code",
   "execution_count": 2,
   "metadata": {
    "slideshow": {
     "slide_type": "slide"
    }
   },
   "outputs": [],
   "source": [
    "# Import exiobase\n",
    "path = 'data/IOT_2001_pxp/'    # add name of folder where data is stored                                \n",
    "A = pd.read_csv(f'{path}A.txt', sep='\\t', index_col=[0, 1], header=[0, 1])  # A matrix\n",
    "Y = pd.read_csv(f'{path}Y.txt', sep='\\t', index_col=[0, 1], header=[0, 1])  # Y matrix\n",
    "F = pd.read_csv(f'{path}satellite/F.txt', sep='\\t', index_col=[0], header=[0, 1])  # satellite matrix\n",
    "F_hh = pd.read_csv(f'{path}satellite/F_Y.txt', sep='\\t', index_col=[0], header=[0, 1])  # satellite for FD matrix"
   ]
  },
  {
   "cell_type": "markdown",
   "metadata": {
    "slideshow": {
     "slide_type": "slide"
    }
   },
   "source": [
    "### Calculate the Leontief inverse"
   ]
  },
  {
   "cell_type": "code",
   "execution_count": 3,
   "metadata": {
    "slideshow": {
     "slide_type": "fragment"
    }
   },
   "outputs": [],
   "source": [
    "# An identy matrix of the size as A-matrix\n",
    "I = np.identity(A.shape[0]) \n",
    "\n",
    "## Leontief inverse matrix\n",
    "L = np.linalg.inv(I - A) "
   ]
  },
  {
   "cell_type": "code",
   "execution_count": 4,
   "metadata": {
    "slideshow": {
     "slide_type": "subslide"
    }
   },
   "outputs": [],
   "source": [
    "## Calculate total output vector (x)\n",
    "\n",
    "y_total = Y.sum(1)      # Sum of all final demand categories\n",
    "x = L @ y_total         # Total outputs"
   ]
  },
  {
   "cell_type": "markdown",
   "metadata": {
    "slideshow": {
     "slide_type": "slide"
    }
   },
   "source": [
    "### Calculate environmental intensity matrix\n",
    "From satellite matrix (F), select row for CO2 (i.e., F_co2). This can be done using df.loc"
   ]
  },
  {
   "cell_type": "code",
   "execution_count": 5,
   "metadata": {
    "slideshow": {
     "slide_type": "fragment"
    }
   },
   "outputs": [
    {
     "data": {
      "text/plain": [
       "region  sector                                           \n",
       "AT      Paddy rice                                           0.000000e+00\n",
       "        Wheat                                                1.911069e+08\n",
       "        Cereal grains nec                                    2.500416e+08\n",
       "        Vegetables, fruit, nuts                              1.467770e+08\n",
       "        Oil seeds                                            2.142416e+07\n",
       "                                                                 ...     \n",
       "WM      Membership organisation services n.e.c. (91)         6.910619e+08\n",
       "        Recreational, cultural and sporting services (92)    1.236598e+09\n",
       "        Other services (93)                                  3.147455e+09\n",
       "        Private households with employed persons (95)        1.097047e+08\n",
       "        Extra-territorial organizations and bodies           0.000000e+00\n",
       "Name: CO2 - combustion - air, Length: 9800, dtype: float64"
      ]
     },
     "execution_count": 5,
     "metadata": {},
     "output_type": "execute_result"
    }
   ],
   "source": [
    "indicator = 'CO2 - combustion - air' # Label\n",
    "F_ = F.loc[indicator, :]  # select CO2 vector\n",
    "\n",
    "F_"
   ]
  },
  {
   "cell_type": "code",
   "execution_count": 6,
   "metadata": {},
   "outputs": [
    {
     "data": {
      "text/plain": [
       "Index(['Taxes less subsidies on products purchased: Total',\n",
       "       'Other net taxes on production',\n",
       "       'Compensation of employees; wages, salaries, & employers' social contributions: Low-skilled',\n",
       "       'Compensation of employees; wages, salaries, & employers' social contributions: Medium-skilled',\n",
       "       'Compensation of employees; wages, salaries, & employers' social contributions: High-skilled',\n",
       "       'Operating surplus: Consumption of fixed capital',\n",
       "       'Operating surplus: Rents on land',\n",
       "       'Operating surplus: Royalties on resources',\n",
       "       'Operating surplus: Remaining net operating surplus',\n",
       "       'Employment: Low-skilled male',\n",
       "       ...\n",
       "       'Water Withdrawal Blue - Domestic - domestic Water Withdrawal Blue',\n",
       "       'Energy Carrier Net Total', 'Energy Carrier Net NENE',\n",
       "       'Energy Carrier Net NTRA', 'Energy Carrier Net TAVI',\n",
       "       'Energy Carrier Net TMAR', 'Energy Carrier Net TOTH',\n",
       "       'Energy Carrier Net TRAI', 'Energy Carrier Net TROA',\n",
       "       'Energy Carrier Net LOSS'],\n",
       "      dtype='object', name='stressor', length=1113)"
      ]
     },
     "execution_count": 6,
     "metadata": {},
     "output_type": "execute_result"
    }
   ],
   "source": [
    "F.index"
   ]
  },
  {
   "cell_type": "code",
   "execution_count": 7,
   "metadata": {
    "slideshow": {
     "slide_type": "subslide"
    }
   },
   "outputs": [],
   "source": [
    "# we make a copy of our product output vector\n",
    "x_inv = x.copy() \n",
    "\n",
    "# we divide 1 by the values that are non-0\n",
    "x_inv[x_inv!=0] = 1/x_inv[x_inv!=0]\n"
   ]
  },
  {
   "cell_type": "code",
   "execution_count": 8,
   "metadata": {
    "slideshow": {
     "slide_type": "fragment"
    }
   },
   "outputs": [],
   "source": [
    "# We are essentially dividing the total extension by the product output\n",
    "# This gives us coefficients of extension by unit of output (e.g., kg/euro)\n",
    "f = F_ * x_inv"
   ]
  },
  {
   "cell_type": "markdown",
   "metadata": {
    "slideshow": {
     "slide_type": "slide"
    }
   },
   "source": [
    "As mentioned in the previous lecture the other option you have is to divide the extension vector by the total product output and then replace inf and nan values by 0's."
   ]
  },
  {
   "cell_type": "code",
   "execution_count": 9,
   "metadata": {
    "slideshow": {
     "slide_type": "fragment"
    }
   },
   "outputs": [],
   "source": [
    "f_ = F_/x.transpose() # co2 intensity vector\n",
    "f_ = f_.replace([np.inf, -np.inf, np.nan], 0)  # replacing inf, -inf, and nan with zeros"
   ]
  },
  {
   "cell_type": "markdown",
   "metadata": {
    "slideshow": {
     "slide_type": "slide"
    }
   },
   "source": [
    "### Contribution of Final Demand to the CO2 footprint\n",
    "From the final demand matrix (Y), calculate the global final demand of households (y_hh), government expenditures (y_gov) and gross capital formation (y_cap)."
   ]
  },
  {
   "cell_type": "code",
   "execution_count": 10,
   "metadata": {
    "slideshow": {
     "slide_type": "subslide"
    }
   },
   "outputs": [],
   "source": [
    "## Calculation y_hh, y_gov, and y_cap\n",
    "hh_lab = 'Final consumption expenditure by households' \n",
    "gov_lab = 'Final consumption expenditure by government'\t\n",
    "cap_lab = 'Gross fixed capital formation'\n",
    "\n",
    "y_hh = Y.loc[ :, pd.IndexSlice[:, hh_lab]]  # selecting hh columns for all countries/regions\n",
    "y_hh = y_hh.sum(1)  # global final expenditure by household\n",
    "\n",
    "y_gov = Y.loc[ :, pd.IndexSlice[:, gov_lab]] # selecting gov columns for all countries/regions\n",
    "y_gov = y_gov.sum(1)  # global final expenditure by government\n",
    "\n",
    "y_cap = Y.loc[ :, pd.IndexSlice[:, cap_lab]] # selecting cap columns for all countries/regions\n",
    "y_cap = y_cap.sum(1)  # global capital formation "
   ]
  },
  {
   "cell_type": "markdown",
   "metadata": {
    "slideshow": {
     "slide_type": "slide"
    }
   },
   "source": [
    "In the previous lectures you have used the method df.loc[pd.IndexSlice[level_0, level_1], :] to slice dataframes with multi-index labels\n",
    "\n",
    "If you find it more practical you can also use the df.xs(label, axis, level, drop_level) method instead\n",
    "\n",
    "- the first argument is the label you want to select\n",
    "- the second argument axis is the axis (rows=0 or columns=1)\n",
    "- the third agument is the level (e.g., level=0 is the region)\n",
    "- the forth argument drop_level allows you to specify whether you want to keep the level of the multiindex you sliced or not\n"
   ]
  },
  {
   "cell_type": "code",
   "execution_count": 11,
   "metadata": {
    "slideshow": {
     "slide_type": "subslide"
    }
   },
   "outputs": [],
   "source": [
    "y_hh = Y.xs(hh_lab, axis=1, level=1, drop_level=False)  # selecting hh columns for all countries/regions\n",
    "y_hh = y_hh.sum(1)  # global final expenditure by household\n",
    "\n",
    "y_gov = Y.xs(gov_lab, axis=1, level=1, drop_level=False)  # selecting gov columns for all countries/regions\n",
    "y_gov = y_gov.sum(1)  # global final expenditure by government\n",
    "\n",
    "y_cap = Y.xs(cap_lab, axis=1, level=1, drop_level=False)  # selecting cap columns for all countries/regions\n",
    "y_cap = y_cap.sum(1)  # global capital formation "
   ]
  },
  {
   "cell_type": "markdown",
   "metadata": {
    "slideshow": {
     "slide_type": "slide"
    }
   },
   "source": [
    "### Calculation CO2 footprint per final demand category per product"
   ]
  },
  {
   "cell_type": "code",
   "execution_count": 12,
   "metadata": {
    "slideshow": {
     "slide_type": "fragment"
    }
   },
   "outputs": [],
   "source": [
    "F_hh = f @ L @ np.diag(y_hh) # CO2 footprint by household expenditures\n",
    "F_gov = f @ L @ np.diag(y_gov) # CO2 footprint by goverment expenditures \n",
    "F_cap = f @ L @ np.diag(y_cap) # CO2 footprint by capital formation "
   ]
  },
  {
   "cell_type": "code",
   "execution_count": 13,
   "metadata": {
    "slideshow": {
     "slide_type": "fragment"
    }
   },
   "outputs": [
    {
     "data": {
      "text/plain": [
       "(9800,)"
      ]
     },
     "execution_count": 13,
     "metadata": {},
     "output_type": "execute_result"
    }
   ],
   "source": [
    "F_cap.shape"
   ]
  },
  {
   "cell_type": "markdown",
   "metadata": {
    "slideshow": {
     "slide_type": "subslide"
    }
   },
   "source": [
    "At this point, it should be 3 vectors (for each final demand category from point 2) of 1 row with 9800 columns (i.e., 49 regions x 200 products)\n",
    "\n",
    "Now reshape each vector using np.reshape so that you have 3 matrices with 49 rows (for each country/region) and 200 columns (for each product)"
   ]
  },
  {
   "cell_type": "code",
   "execution_count": 14,
   "metadata": {
    "slideshow": {
     "slide_type": "fragment"
    }
   },
   "outputs": [
    {
     "data": {
      "text/plain": [
       "(49, 200)"
      ]
     },
     "execution_count": 14,
     "metadata": {},
     "output_type": "execute_result"
    }
   ],
   "source": [
    "## Reshape vectors\n",
    "\n",
    "F_hh = np.array(F_hh).reshape(49,200) # reshape to 49 countries/regions and 200 products\n",
    "F_hh_sum = np.sum(F_hh, axis=0) # sum per product category\n",
    "\n",
    "F_gov = np.array(F_gov).reshape(49,200) # reshape to 49 countries/regions and 200 products\n",
    "F_gov_sum = np.sum(F_gov, axis=0) # sum per product category\n",
    "\n",
    "F_cap = np.array(F_cap).reshape(49,200) # reshape to 49 countries/regions and 200 products\n",
    "F_cap_sum = np.sum(F_cap, axis=0) # sum per product category\n",
    "\n",
    "F_hh.shape"
   ]
  },
  {
   "cell_type": "code",
   "execution_count": 15,
   "metadata": {
    "slideshow": {
     "slide_type": "subslide"
    }
   },
   "outputs": [
    {
     "data": {
      "text/html": [
       "<div>\n",
       "<style scoped>\n",
       "    .dataframe tbody tr th:only-of-type {\n",
       "        vertical-align: middle;\n",
       "    }\n",
       "\n",
       "    .dataframe tbody tr th {\n",
       "        vertical-align: top;\n",
       "    }\n",
       "\n",
       "    .dataframe thead th {\n",
       "        text-align: right;\n",
       "    }\n",
       "</style>\n",
       "<table border=\"1\" class=\"dataframe\">\n",
       "  <thead>\n",
       "    <tr style=\"text-align: right;\">\n",
       "      <th></th>\n",
       "      <th>0</th>\n",
       "      <th>1</th>\n",
       "      <th>2</th>\n",
       "      <th>3</th>\n",
       "      <th>4</th>\n",
       "      <th>5</th>\n",
       "      <th>6</th>\n",
       "      <th>7</th>\n",
       "      <th>8</th>\n",
       "      <th>9</th>\n",
       "      <th>...</th>\n",
       "      <th>190</th>\n",
       "      <th>191</th>\n",
       "      <th>192</th>\n",
       "      <th>193</th>\n",
       "      <th>194</th>\n",
       "      <th>195</th>\n",
       "      <th>196</th>\n",
       "      <th>197</th>\n",
       "      <th>198</th>\n",
       "      <th>199</th>\n",
       "    </tr>\n",
       "  </thead>\n",
       "  <tbody>\n",
       "    <tr>\n",
       "      <th>0</th>\n",
       "      <td>7.868416e+09</td>\n",
       "      <td>3.157050e+10</td>\n",
       "      <td>2.771524e+10</td>\n",
       "      <td>2.163002e+11</td>\n",
       "      <td>5.824129e+09</td>\n",
       "      <td>1.139719e+06</td>\n",
       "      <td>1.539259e+09</td>\n",
       "      <td>4.272506e+10</td>\n",
       "      <td>3.153633e+08</td>\n",
       "      <td>5.821628e+06</td>\n",
       "      <td>...</td>\n",
       "      <td>8.098538e+09</td>\n",
       "      <td>6.169027e+09</td>\n",
       "      <td>7.092669e+09</td>\n",
       "      <td>2.649249e+09</td>\n",
       "      <td>3.256029e+09</td>\n",
       "      <td>3.468234e+10</td>\n",
       "      <td>1.270449e+11</td>\n",
       "      <td>1.342396e+11</td>\n",
       "      <td>3.801963e+10</td>\n",
       "      <td>0.0</td>\n",
       "    </tr>\n",
       "    <tr>\n",
       "      <th>1</th>\n",
       "      <td>4.487986e+08</td>\n",
       "      <td>1.451445e+09</td>\n",
       "      <td>4.054404e+08</td>\n",
       "      <td>8.699842e+08</td>\n",
       "      <td>4.478168e+08</td>\n",
       "      <td>4.162463e+08</td>\n",
       "      <td>1.067534e+08</td>\n",
       "      <td>1.784731e+08</td>\n",
       "      <td>3.509731e+08</td>\n",
       "      <td>7.076513e+08</td>\n",
       "      <td>...</td>\n",
       "      <td>2.132729e+09</td>\n",
       "      <td>1.216581e+09</td>\n",
       "      <td>1.829407e+09</td>\n",
       "      <td>5.855691e+08</td>\n",
       "      <td>7.640638e+08</td>\n",
       "      <td>1.318077e+10</td>\n",
       "      <td>2.423902e+10</td>\n",
       "      <td>3.642885e+09</td>\n",
       "      <td>1.409523e+09</td>\n",
       "      <td>0.0</td>\n",
       "    </tr>\n",
       "    <tr>\n",
       "      <th>2</th>\n",
       "      <td>3.124147e+05</td>\n",
       "      <td>4.398144e+08</td>\n",
       "      <td>2.315412e+08</td>\n",
       "      <td>8.449092e+08</td>\n",
       "      <td>3.296667e+05</td>\n",
       "      <td>0.000000e+00</td>\n",
       "      <td>2.491486e+04</td>\n",
       "      <td>9.694778e+08</td>\n",
       "      <td>8.864101e+09</td>\n",
       "      <td>8.004956e+09</td>\n",
       "      <td>...</td>\n",
       "      <td>0.000000e+00</td>\n",
       "      <td>0.000000e+00</td>\n",
       "      <td>0.000000e+00</td>\n",
       "      <td>0.000000e+00</td>\n",
       "      <td>0.000000e+00</td>\n",
       "      <td>0.000000e+00</td>\n",
       "      <td>4.220207e+09</td>\n",
       "      <td>6.947273e+09</td>\n",
       "      <td>2.586570e+07</td>\n",
       "      <td>0.0</td>\n",
       "    </tr>\n",
       "  </tbody>\n",
       "</table>\n",
       "<p>3 rows × 200 columns</p>\n",
       "</div>"
      ],
      "text/plain": [
       "            0             1             2             3             4    \\\n",
       "0  7.868416e+09  3.157050e+10  2.771524e+10  2.163002e+11  5.824129e+09   \n",
       "1  4.487986e+08  1.451445e+09  4.054404e+08  8.699842e+08  4.478168e+08   \n",
       "2  3.124147e+05  4.398144e+08  2.315412e+08  8.449092e+08  3.296667e+05   \n",
       "\n",
       "            5             6             7             8             9    ...  \\\n",
       "0  1.139719e+06  1.539259e+09  4.272506e+10  3.153633e+08  5.821628e+06  ...   \n",
       "1  4.162463e+08  1.067534e+08  1.784731e+08  3.509731e+08  7.076513e+08  ...   \n",
       "2  0.000000e+00  2.491486e+04  9.694778e+08  8.864101e+09  8.004956e+09  ...   \n",
       "\n",
       "            190           191           192           193           194  \\\n",
       "0  8.098538e+09  6.169027e+09  7.092669e+09  2.649249e+09  3.256029e+09   \n",
       "1  2.132729e+09  1.216581e+09  1.829407e+09  5.855691e+08  7.640638e+08   \n",
       "2  0.000000e+00  0.000000e+00  0.000000e+00  0.000000e+00  0.000000e+00   \n",
       "\n",
       "            195           196           197           198  199  \n",
       "0  3.468234e+10  1.270449e+11  1.342396e+11  3.801963e+10  0.0  \n",
       "1  1.318077e+10  2.423902e+10  3.642885e+09  1.409523e+09  0.0  \n",
       "2  0.000000e+00  4.220207e+09  6.947273e+09  2.586570e+07  0.0  \n",
       "\n",
       "[3 rows x 200 columns]"
      ]
     },
     "execution_count": 15,
     "metadata": {},
     "output_type": "execute_result"
    }
   ],
   "source": [
    "## Build new pandas dataframe\n",
    "\n",
    "results_by_Y_cat = pd.DataFrame([F_hh_sum, F_gov_sum, F_cap_sum])\n",
    "\n",
    "results_by_Y_cat"
   ]
  },
  {
   "cell_type": "markdown",
   "metadata": {
    "slideshow": {
     "slide_type": "slide"
    }
   },
   "source": [
    "### Separate results by sectors\n",
    "\n",
    "- Extraction\n",
    "- Manufacturing\n",
    "- Construction\n",
    "- Services"
   ]
  },
  {
   "cell_type": "code",
   "execution_count": 16,
   "metadata": {
    "slideshow": {
     "slide_type": "subslide"
    }
   },
   "outputs": [],
   "source": [
    "### Index product categories\n",
    "\n",
    "ext_ind = list(range(0,41)) # extraction categories (including agriculture, and mining)\n",
    "man_ind = list(range(41,149)) # manufacturing (including food, clothing, other products)\n",
    "con_ind = list(range(149,151)) # construction categories\n",
    "ser_ind = list(range(151,200))  # services categories\n",
    "\n",
    "## Sum per product group\n",
    "\n",
    "ext = results_by_Y_cat.iloc[:, ext_ind].sum(1)\n",
    "man = results_by_Y_cat.iloc[:, man_ind].sum(1)\n",
    "con = results_by_Y_cat.iloc[:, con_ind].sum(1)\n",
    "ser = results_by_Y_cat.iloc[:, ser_ind].sum(1)"
   ]
  },
  {
   "cell_type": "code",
   "execution_count": 17,
   "metadata": {
    "slideshow": {
     "slide_type": "subslide"
    }
   },
   "outputs": [
    {
     "data": {
      "text/html": [
       "<div>\n",
       "<style scoped>\n",
       "    .dataframe tbody tr th:only-of-type {\n",
       "        vertical-align: middle;\n",
       "    }\n",
       "\n",
       "    .dataframe tbody tr th {\n",
       "        vertical-align: top;\n",
       "    }\n",
       "\n",
       "    .dataframe thead th {\n",
       "        text-align: right;\n",
       "    }\n",
       "</style>\n",
       "<table border=\"1\" class=\"dataframe\">\n",
       "  <thead>\n",
       "    <tr style=\"text-align: right;\">\n",
       "      <th></th>\n",
       "      <th>Agriculture and Mining</th>\n",
       "      <th>Manufacturing</th>\n",
       "      <th>Construction</th>\n",
       "      <th>Services</th>\n",
       "    </tr>\n",
       "  </thead>\n",
       "  <tbody>\n",
       "    <tr>\n",
       "      <th>Households</th>\n",
       "      <td>5.160513e+11</td>\n",
       "      <td>6.425162e+12</td>\n",
       "      <td>2.118665e+10</td>\n",
       "      <td>3.559804e+12</td>\n",
       "    </tr>\n",
       "    <tr>\n",
       "      <th>Goverment</th>\n",
       "      <td>9.290560e+09</td>\n",
       "      <td>1.312337e+11</td>\n",
       "      <td>2.282004e+10</td>\n",
       "      <td>1.772966e+12</td>\n",
       "    </tr>\n",
       "    <tr>\n",
       "      <th>Investment</th>\n",
       "      <td>1.843192e+11</td>\n",
       "      <td>1.976256e+12</td>\n",
       "      <td>2.376948e+12</td>\n",
       "      <td>2.672943e+11</td>\n",
       "    </tr>\n",
       "  </tbody>\n",
       "</table>\n",
       "</div>"
      ],
      "text/plain": [
       "            Agriculture and Mining  Manufacturing  Construction      Services\n",
       "Households            5.160513e+11   6.425162e+12  2.118665e+10  3.559804e+12\n",
       "Goverment             9.290560e+09   1.312337e+11  2.282004e+10  1.772966e+12\n",
       "Investment            1.843192e+11   1.976256e+12  2.376948e+12  2.672943e+11"
      ]
     },
     "execution_count": 17,
     "metadata": {},
     "output_type": "execute_result"
    }
   ],
   "source": [
    "## Re-group dataframe and add labels\n",
    "\n",
    "results = pd.concat([ext, man, con, ser], axis=1)\n",
    "results.index = ['Households', 'Goverment', 'Investment']\n",
    "results.columns = ['Agriculture and Mining', 'Manufacturing', 'Construction', 'Services']\n",
    "results"
   ]
  },
  {
   "cell_type": "markdown",
   "metadata": {
    "slideshow": {
     "slide_type": "slide"
    }
   },
   "source": [
    "### Visualize the results\n",
    "Create a bar graph showing the final contribution per product category to the CO2 footprint\n",
    "\n",
    "Note: This can be done by using:\n",
    "results.plot.barh(stacked=True)"
   ]
  },
  {
   "cell_type": "code",
   "execution_count": 18,
   "metadata": {
    "slideshow": {
     "slide_type": "subslide"
    }
   },
   "outputs": [
    {
     "data": {
      "text/plain": [
       "<matplotlib.legend.Legend at 0x1eee1ac3280>"
      ]
     },
     "execution_count": 18,
     "metadata": {},
     "output_type": "execute_result"
    },
    {
     "data": {
      "image/png": "[encoded data removed]",
      "text/plain": [
       "<Figure size 640x480 with 1 Axes>"
      ]
     },
     "metadata": {},
     "output_type": "display_data"
    }
   ],
   "source": [
    "## Create a vertical bar chart\n",
    "\n",
    "ef_name = 'CO2 footprint (kg)'\n",
    "fig = results.plot.barh(stacked=True)\n",
    "fig.set_xlabel(\"CO2 footprint (kg)\")\n",
    "fig.set_ylabel(\"Final demand categories\")\n",
    "fig.set_title(ef_name + \" per final demand category\")\n",
    "fig.legend(loc='center left', bbox_to_anchor=(1, 0.5))"
   ]
  },
  {
   "cell_type": "markdown",
   "metadata": {
    "slideshow": {
     "slide_type": "subslide"
    }
   },
   "source": [
    "### Replicate these steps for 2011 data"
   ]
  },
  {
   "cell_type": "markdown",
   "metadata": {
    "slideshow": {
     "slide_type": "fragment"
    }
   },
   "source": [
    "## References\n",
    "Hertwich, E. G., & Peters, G. P. (2009). Carbon footprint of nations: A global, trade-linked analysis. Environmental Science and Technology, 43(16), 6414–6420. https://doi.org/10.1021/es803496a\n",
    "\n",
    "Wood, R., Stadler, K., Simas, M., Bulavskaya, T., Giljum, S., Lutter, S., & Tukker, A. (2018). Growth in Environmental Footprints and Environmental Impacts Embodied in Trade: Resource Efficiency Indicators from EXIOBASE3. Journal of Industrial Ecology, 22(3), 553–562. https://doi.org/10.1111/jiec.12735"
   ]
  }
 ],
 "metadata": {
  "celltoolbar": "Slideshow",
  "kernelspec": {
   "display_name": "Python 3 (ipykernel)",
   "language": "python",
   "name": "python3"
  },
  "language_info": {
   "codemirror_mode": {
    "name": "ipython",
    "version": 3
   },
   "file_extension": ".py",
   "mimetype": "text/x-python",
   "name": "python",
   "nbconvert_exporter": "python",
   "pygments_lexer": "ipython3",
   "version": "3.9.16"
  },
  "vscode": {
   "interpreter": {
    "hash": "e7370f93d1d0cde622a1f8e1c04877d8463912d04d973331ad4851f04de6915a"
   }
  }
 },
 "nbformat": 4,
 "nbformat_minor": 4
}
