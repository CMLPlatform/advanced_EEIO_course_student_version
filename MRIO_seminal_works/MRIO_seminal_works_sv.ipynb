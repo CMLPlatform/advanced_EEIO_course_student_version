{
 "cells": [
  {
   "cell_type": "markdown",
   "metadata": {},
   "source": [
    "# Practical 6: MRIO seminal works\n",
    "\n",
    "#### Objectives\n",
    "- Learn how to replicate the methods and results from a few studies. \n",
    "- Understand and explain main results from EEIOA studies using MRIO seminal works"
   ]
  },
  {
   "cell_type": "markdown",
   "metadata": {},
   "source": [
    "### Exercise 1\n",
    "Hertwich and Peters (2009) developed an analysis of the carbon footprint of multiple countries in 2001. Their results show the carbon footprint of different final demand categories per product.\n",
    "\n",
    "In this exercise you will reproduce these results using EXIOBASE and compare any changes between 2001 and 2011"
   ]
  },
  {
   "cell_type": "markdown",
   "metadata": {},
   "source": [
    "<img src=\"figures/global_CO2_footprint.png\" width=\"70%\" />\n",
    "\n",
    "Figure 1. Global CO2 footprint for different consumption categories and users retrieved from Hertwich and Peters (2009)"
   ]
  },
  {
   "cell_type": "markdown",
   "metadata": {},
   "source": [
    "##### Steps in this exercise:\n",
    "- Import data\n",
    "- Calculate Leontief inverse and environmental intesity matrix\n",
    "- Final demand contribution to environmental footprint"
   ]
  },
  {
   "cell_type": "code",
   "execution_count": null,
   "metadata": {
    "tags": []
   },
   "outputs": [],
   "source": [
    "# Import modules\n",
    "import pandas as pd \n",
    "import numpy as np"
   ]
  },
  {
   "cell_type": "code",
   "execution_count": null,
   "metadata": {},
   "outputs": [],
   "source": [
    "# Import exiobase"
   ]
  },
  {
   "cell_type": "markdown",
   "metadata": {},
   "source": [
    "### Import modules and data"
   ]
  },
  {
   "cell_type": "markdown",
   "metadata": {},
   "source": [
    "### Calculate the Leontief inverse"
   ]
  },
  {
   "cell_type": "code",
   "execution_count": null,
   "metadata": {},
   "outputs": [],
   "source": [
    "# An identy matrix of the size as A-matrix\n",
    "\n",
    "## Leontief inverse matrix"
   ]
  },
  {
   "cell_type": "code",
   "execution_count": null,
   "metadata": {},
   "outputs": [],
   "source": [
    "## Calculate total output vector (x)\n",
    "\n",
    "# Sum of all final demand categories\n",
    "\n",
    "# Total outputs"
   ]
  },
  {
   "cell_type": "markdown",
   "metadata": {},
   "source": [
    "### Calculate environmental intensity matrix\n",
    "From satellite matrix (F), select row for CO2 (i.e., F_co2). This can be done using pd.loc"
   ]
  },
  {
   "cell_type": "code",
   "execution_count": null,
   "metadata": {},
   "outputs": [],
   "source": [
    "indicator = None\n",
    "# select CO2 vector\n",
    "F_ = None "
   ]
  },
  {
   "cell_type": "code",
   "execution_count": null,
   "metadata": {},
   "outputs": [],
   "source": [
    "# make a copy of the product output vector\n",
    "\n",
    "# divide 1 by the values that are non-0\n"
   ]
  },
  {
   "cell_type": "code",
   "execution_count": null,
   "metadata": {},
   "outputs": [],
   "source": [
    "# Calculate the intensity"
   ]
  },
  {
   "cell_type": "markdown",
   "metadata": {},
   "source": [
    "As mentioned in the previous lecture the other option you have is to divide the extension vector by the total product output and then replace inf and nan values by 0's."
   ]
  },
  {
   "cell_type": "code",
   "execution_count": null,
   "metadata": {},
   "outputs": [],
   "source": [
    "f_ = F_/x.transpose() # co2 intensity vector\n",
    "f_ = f_.replace([np.inf, -np.inf, np.nan], 0)  # replacing inf, -inf, and nan with zeros"
   ]
  },
  {
   "cell_type": "markdown",
   "metadata": {},
   "source": [
    "### Contribution of Final Demand to the CO2 footprint\n",
    "From the final demand matrix (Y), calculate the global final demand of households (y_hh), government expenditures (y_gov) and gross capital formation (y_cap)."
   ]
  },
  {
   "cell_type": "code",
   "execution_count": null,
   "metadata": {},
   "outputs": [],
   "source": [
    "## Calculation y_hh, y_gov, and y_cap\n",
    "\n",
    "# Select final demand categories\n",
    "\n",
    "\n",
    "# selecting hh columns for all countries/regions\n",
    "\n",
    "# global final expenditure by household \n",
    "\n",
    "# global final expenditure by government\n",
    "\n",
    "# global capital formation "
   ]
  },
  {
   "cell_type": "markdown",
   "metadata": {},
   "source": [
    "In the previous lectures you have used the method df.loc[pd.IndexSlice[level_0, level_1], :] to slice dataframes with multi-index labels\n",
    "\n",
    "If you find it more practical you can also use the df.xs(label, axis, level, drop_level) method instead\n",
    "\n",
    "- the first argument is the label you want to select\n",
    "- the second argument axis is the axis (rows=0 or columns=1)\n",
    "- the third agument is the level (e.g., level=0 is the region)\n",
    "- the forth argument drop_level allows you to specify whether you want to keep the level of the multiindex you sliced or not"
   ]
  },
  {
   "cell_type": "code",
   "execution_count": null,
   "metadata": {},
   "outputs": [],
   "source": []
  },
  {
   "cell_type": "markdown",
   "metadata": {},
   "source": [
    "### Calculation CO2 footprint per final demand category per product"
   ]
  },
  {
   "cell_type": "code",
   "execution_count": null,
   "metadata": {},
   "outputs": [],
   "source": [
    "# CO2 footprint by household expenditures\n",
    "\n",
    "# CO2 footprint by goverment expenditures \n",
    "\n",
    "# CO2 footprint by capital formation "
   ]
  },
  {
   "cell_type": "code",
   "execution_count": 5,
   "metadata": {},
   "outputs": [],
   "source": [
    "# Check the shape of the resulting vectors"
   ]
  },
  {
   "cell_type": "markdown",
   "metadata": {},
   "source": [
    "At this point, it should be 3 vectors (for each final demand category from point 2) of 1 row with 9800 columns (i.e., 49 regions x 200 products)\n",
    "\n",
    "Now reshape each vector using np.reshape so that you have 3 matrices with 49 rows (for each country/region) and 200 columns (for each product)"
   ]
  },
  {
   "cell_type": "code",
   "execution_count": null,
   "metadata": {},
   "outputs": [],
   "source": [
    "## Reshape vectors\n",
    "\n",
    "# reshape to 49 countries/regions and 200 products\n",
    "\n",
    "# sum per product category\n",
    "\n",
    "\n",
    "# reshape to 49 countries/regions and 200 products\n",
    "\n",
    "# sum per product category\n",
    "\n",
    "\n",
    "# reshape to 49 countries/regions and 200 products\n",
    "\n",
    "# sum per product category"
   ]
  },
  {
   "cell_type": "code",
   "execution_count": null,
   "metadata": {},
   "outputs": [],
   "source": [
    "## Build new pandas dataframe by concatenating the 3 vectors together"
   ]
  },
  {
   "cell_type": "markdown",
   "metadata": {},
   "source": [
    "### Separate results by sectors\n",
    "\n",
    "- Extraction\n",
    "- Manufacturing\n",
    "- Construction\n",
    "- Services"
   ]
  },
  {
   "cell_type": "code",
   "execution_count": null,
   "metadata": {},
   "outputs": [],
   "source": [
    "### Index product categories\n",
    "\n",
    "# extraction categories (including agriculture, and mining)\n",
    "\n",
    "# manufacturing (including food, clothing, other products)\n",
    "\n",
    "# construction categories\n",
    "\n",
    "# services categories"
   ]
  },
  {
   "cell_type": "code",
   "execution_count": null,
   "metadata": {},
   "outputs": [],
   "source": [
    "## Sum per product group"
   ]
  },
  {
   "cell_type": "code",
   "execution_count": null,
   "metadata": {},
   "outputs": [],
   "source": [
    "## Re-group dataframe and add labels\n",
    "\n",
    "df_new = None\n",
    "df_new.index = ['Households', 'Goverment', 'Investment']\n",
    "df_new.columns = ['Agriculture and Mining', 'Manufacturing', 'Construction', 'Services']"
   ]
  },
  {
   "cell_type": "markdown",
   "metadata": {},
   "source": [
    "### Visualize the results\n",
    "Create a bar graph showing the final contribution per product category to the CO2 footprint\n",
    "\n",
    "Note: This can be done by using:\n",
    "df_new.plot.barh(stacked=True)"
   ]
  },
  {
   "cell_type": "code",
   "execution_count": null,
   "metadata": {},
   "outputs": [],
   "source": [
    "## Create a vertical bar chart"
   ]
  },
  {
   "cell_type": "markdown",
   "metadata": {},
   "source": [
    "### Replicate these steps for 2011 data"
   ]
  },
  {
   "cell_type": "markdown",
   "metadata": {},
   "source": [
    "## References\n",
    "Hertwich, E. G., & Peters, G. P. (2009). Carbon footprint of nations: A global, trade-linked analysis. Environmental Science and Technology, 43(16), 6414–6420. https://doi.org/10.1021/es803496a\n",
    "\n",
    "Wood, R., Stadler, K., Simas, M., Bulavskaya, T., Giljum, S., Lutter, S., & Tukker, A. (2018). Growth in Environmental Footprints and Environmental Impacts Embodied in Trade: Resource Efficiency Indicators from EXIOBASE3. Journal of Industrial Ecology, 22(3), 553–562. https://doi.org/10.1111/jiec.12735"
   ]
  }
 ],
 "metadata": {
  "kernelspec": {
   "display_name": "Python 3 (ipykernel)",
   "language": "python",
   "name": "python3"
  },
  "language_info": {
   "codemirror_mode": {
    "name": "ipython",
    "version": 3
   },
   "file_extension": ".py",
   "mimetype": "text/x-python",
   "name": "python",
   "nbconvert_exporter": "python",
   "pygments_lexer": "ipython3",
   "version": "3.9.16"
  },
  "vscode": {
   "interpreter": {
    "hash": "e7370f93d1d0cde622a1f8e1c04877d8463912d04d973331ad4851f04de6915a"
   }
  }
 },
 "nbformat": 4,
 "nbformat_minor": 4
}
